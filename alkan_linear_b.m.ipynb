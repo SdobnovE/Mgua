{
 "cells": [
  {
   "cell_type": "code",
   "execution_count": 1,
   "metadata": {},
   "outputs": [],
   "source": [
    "import numpy as np\n",
    "from sklearn.linear_model import LinearRegression\n",
    "import io\n",
    "import pandas as pd\n",
    "import os\n",
    "from sklearn.model_selection import train_test_split\n"
   ]
  },
  {
   "cell_type": "code",
   "execution_count": 2,
   "metadata": {},
   "outputs": [],
   "source": [
    "data = np.loadtxt(\"alkan/ALKAN.BLD\")"
   ]
  },
  {
   "cell_type": "code",
   "execution_count": 3,
   "metadata": {},
   "outputs": [
    {
     "data": {
      "text/plain": [
       "array([[ 2.,  1.,  0., ...,  2.,  1.,  1.],\n",
       "       [ 2.,  0.,  2., ...,  5.,  2.,  1.],\n",
       "       [ 2.,  0.,  2., ..., 10.,  4.,  2.],\n",
       "       ...,\n",
       "       [ 6.,  0.,  0., ..., 31., 13.,  2.],\n",
       "       [ 6.,  0.,  0., ..., 32., 14.,  2.],\n",
       "       [ 6.,  0.,  0., ..., 30., 12.,  2.]])"
      ]
     },
     "execution_count": 3,
     "metadata": {},
     "output_type": "execute_result"
    }
   ],
   "source": [
    "data"
   ]
  },
  {
   "cell_type": "code",
   "execution_count": 4,
   "metadata": {},
   "outputs": [
    {
     "data": {
      "text/plain": [
       "(74, 210)"
      ]
     },
     "execution_count": 4,
     "metadata": {},
     "output_type": "execute_result"
    }
   ],
   "source": [
    "data.shape"
   ]
  },
  {
   "cell_type": "code",
   "execution_count": 5,
   "metadata": {},
   "outputs": [],
   "source": [
    "n = data.shape[0]\n",
    "m = data.shape[1]"
   ]
  },
  {
   "cell_type": "code",
   "execution_count": 6,
   "metadata": {},
   "outputs": [
    {
     "data": {
      "text/plain": [
       "(74, 210)"
      ]
     },
     "execution_count": 6,
     "metadata": {},
     "output_type": "execute_result"
    }
   ],
   "source": [
    "(n,m)"
   ]
  },
  {
   "cell_type": "code",
   "execution_count": 12,
   "metadata": {},
   "outputs": [],
   "source": [
    "l = []\n",
    "word = 'A8 '\n",
    "with open('alkan/set-str/ALKAN.SET') as file:\n",
    "    for line in file:\n",
    "        if (word in line):\n",
    "            ape = float(line.split()[1])\n",
    "            l.append(ape)"
   ]
  },
  {
   "cell_type": "code",
   "execution_count": 13,
   "metadata": {},
   "outputs": [
    {
     "data": {
      "text/plain": [
       "74"
      ]
     },
     "execution_count": 13,
     "metadata": {},
     "output_type": "execute_result"
    }
   ],
   "source": [
    "len(l)"
   ]
  },
  {
   "cell_type": "code",
   "execution_count": 14,
   "metadata": {},
   "outputs": [],
   "source": [
    "y = np.array(l)"
   ]
  },
  {
   "cell_type": "code",
   "execution_count": 74,
   "metadata": {},
   "outputs": [],
   "source": [
    "index_del = []\n",
    "y = np.array(l)"
   ]
  },
  {
   "cell_type": "code",
   "execution_count": 75,
   "metadata": {},
   "outputs": [],
   "source": [
    "for i in range(y.shape[0]):\n",
    "    if abs(y[i] - 0.0) < 1e-10:\n",
    "        index_del.append(i)"
   ]
  },
  {
   "cell_type": "code",
   "execution_count": 76,
   "metadata": {},
   "outputs": [],
   "source": [
    "new_data = np.delete(data, index_del, axis=0)\n",
    "new_y = np.delete(y, index_del, axis=0)"
   ]
  },
  {
   "cell_type": "code",
   "execution_count": 15,
   "metadata": {},
   "outputs": [],
   "source": [
    "model = LinearRegression()"
   ]
  },
  {
   "cell_type": "code",
   "execution_count": 82,
   "metadata": {},
   "outputs": [],
   "source": [
    "X_train, X_test, y_train, y_test = train_test_split(new_data, new_y, test_size=0.6, train_size=0.4)"
   ]
  },
  {
   "cell_type": "code",
   "execution_count": 83,
   "metadata": {},
   "outputs": [
    {
     "data": {
      "text/plain": [
       "LinearRegression(copy_X=True, fit_intercept=True, n_jobs=None,\n",
       "         normalize=False)"
      ]
     },
     "execution_count": 83,
     "metadata": {},
     "output_type": "execute_result"
    }
   ],
   "source": [
    "model.fit(X_train, y_train)"
   ]
  },
  {
   "cell_type": "code",
   "execution_count": 84,
   "metadata": {},
   "outputs": [
    {
     "data": {
      "text/plain": [
       "-0.42917808791306333"
      ]
     },
     "execution_count": 84,
     "metadata": {},
     "output_type": "execute_result"
    }
   ],
   "source": [
    "model.score(X_test, y_test)"
   ]
  },
  {
   "cell_type": "code",
   "execution_count": 85,
   "metadata": {},
   "outputs": [],
   "source": [
    "predict = model.predict(X_test)"
   ]
  },
  {
   "cell_type": "code",
   "execution_count": 86,
   "metadata": {},
   "outputs": [
    {
     "name": "stdout",
     "output_type": "stream",
     "text": [
      "Предсказание модели = -102.10059625856465 \tИстинное значение = -114.9\n",
      "Предсказание модели = -99.79796336648403 \tИстинное значение = -105.78\n",
      "Предсказание модели = -133.60844624289703 \tИстинное значение = -129.72\n",
      "Предсказание модели = -93.03897360440776 \tИстинное значение = -99.87\n",
      "Предсказание модели = -128.54301002340705 \tИстинное значение = -113.38\n",
      "Предсказание модели = -115.12132280865123 \tИстинное значение = -95.35\n",
      "Предсказание модели = -156.34827139592218 \tИстинное значение = -90.87\n",
      "Предсказание модели = -131.8599166608642 \tИстинное значение = -118.28\n",
      "Предсказание модели = -80.14967043213755 \tИстинное значение = -56.79\n",
      "Предсказание модели = -61.67332746355186 \tИстинное значение = -66.54\n",
      "Предсказание модели = -97.22955896057644 \tИстинное значение = -90.61\n",
      "Предсказание модели = -160.8141024710784 \tИстинное значение = -120.5\n",
      "Предсказание модели = -196.00753793779538 \tИстинное значение = -159.9\n",
      "Предсказание модели = -56.4887521828399 \tИстинное значение = -16.55\n",
      "Предсказание модели = -105.41524840189386 \tИстинное значение = -127.8\n",
      "Предсказание модели = -148.0553394845681 \tИстинное значение = -91.2\n",
      "Предсказание модели = -98.72170717578723 \tИстинное значение = -121.18\n",
      "Предсказание модели = -80.18035643736732 \tИстинное значение = -122.2\n",
      "Предсказание модели = -132.53279081431123 \tИстинное значение = -120.95\n",
      "Предсказание модели = -166.65235012302716 \tИстинное значение = -119.1\n",
      "Предсказание модели = -137.85036302241406 \tИстинное значение = -126.1\n",
      "Предсказание модели = -164.95415758416402 \tИстинное значение = -119.4\n",
      "Предсказание модели = -192.35916634811326 \tИстинное значение = -118.0\n",
      "Предсказание модели = -61.439528796718974 \tИстинное значение = -53.52\n",
      "Предсказание модели = -56.96468389207695 \tИстинное значение = -100.7\n",
      "Предсказание модели = -122.4688434679959 \tИстинное значение = -120.0\n",
      "Предсказание модели = -141.03315233836923 \tИстинное значение = -128.54\n",
      "Предсказание модели = -46.21680769688572 \tИстинное значение = -9.9\n",
      "Предсказание модели = -127.08053973394293 \tИстинное значение = -107.6\n",
      "Предсказание модели = -179.513539509103 \tИстинное значение = -33.11\n",
      "Предсказание модели = -112.8700240255304 \tИстинное значение = -116.0\n",
      "Предсказание модели = -80.89024347776194 \tИстинное значение = -113.0\n",
      "Предсказание модели = -154.3011692857624 \tИстинное значение = -137.5\n",
      "Предсказание модели = -122.49369670157628 \tИстинное значение = -102.9\n"
     ]
    }
   ],
   "source": [
    "for i in range(predict.shape[0]):\n",
    "    print(\"Предсказание модели =\",predict[i], \"\\tИстинное значение =\" ,y_test[i])"
   ]
  },
  {
   "cell_type": "code",
   "execution_count": null,
   "metadata": {},
   "outputs": [],
   "source": []
  }
 ],
 "metadata": {
  "kernelspec": {
   "display_name": "Python 3",
   "language": "python",
   "name": "python3"
  },
  "language_info": {
   "codemirror_mode": {
    "name": "ipython",
    "version": 3
   },
   "file_extension": ".py",
   "mimetype": "text/x-python",
   "name": "python",
   "nbconvert_exporter": "python",
   "pygments_lexer": "ipython3",
   "version": "3.7.3"
  }
 },
 "nbformat": 4,
 "nbformat_minor": 2
}
