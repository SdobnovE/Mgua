{
 "cells": [
  {
   "cell_type": "code",
   "execution_count": 240,
   "metadata": {},
   "outputs": [],
   "source": [
    "import numpy as np\n",
    "from sklearn.linear_model import LinearRegression\n",
    "import io"
   ]
  },
  {
   "cell_type": "code",
   "execution_count": 241,
   "metadata": {},
   "outputs": [],
   "source": [
    "data = np.loadtxt(\"alkan/ALKAN.BLD\")\n"
   ]
  },
  {
   "cell_type": "code",
   "execution_count": 242,
   "metadata": {},
   "outputs": [
    {
     "data": {
      "text/plain": [
       "array([[ 2.,  1.,  0., ...,  2.,  1.,  1.],\n",
       "       [ 2.,  0.,  2., ...,  5.,  2.,  1.],\n",
       "       [ 2.,  0.,  2., ..., 10.,  4.,  2.],\n",
       "       ...,\n",
       "       [ 6.,  0.,  0., ..., 31., 13.,  2.],\n",
       "       [ 6.,  0.,  0., ..., 32., 14.,  2.],\n",
       "       [ 6.,  0.,  0., ..., 30., 12.,  2.]])"
      ]
     },
     "execution_count": 242,
     "metadata": {},
     "output_type": "execute_result"
    }
   ],
   "source": [
    "data"
   ]
  },
  {
   "cell_type": "code",
   "execution_count": 243,
   "metadata": {},
   "outputs": [
    {
     "data": {
      "text/plain": [
       "(74, 210)"
      ]
     },
     "execution_count": 243,
     "metadata": {},
     "output_type": "execute_result"
    }
   ],
   "source": [
    "data.shape"
   ]
  },
  {
   "cell_type": "code",
   "execution_count": 244,
   "metadata": {},
   "outputs": [],
   "source": [
    "n = data.shape[0]\n",
    "m = data.shape[1]"
   ]
  },
  {
   "cell_type": "code",
   "execution_count": 245,
   "metadata": {},
   "outputs": [
    {
     "data": {
      "text/plain": [
       "(74, 210)"
      ]
     },
     "execution_count": 245,
     "metadata": {},
     "output_type": "execute_result"
    }
   ],
   "source": [
    "(n,m)"
   ]
  },
  {
   "cell_type": "code",
   "execution_count": 246,
   "metadata": {},
   "outputs": [],
   "source": [
    "l = []\n",
    "word = 'A1 '\n",
    "with io.open('alkan/set-str/ALKAN.SET') as file:\n",
    "    for line in file:\n",
    "        if (word in line):\n",
    "            ape = float(line.split()[1])\n",
    "            #print(ape)\n",
    "            l.append(ape)"
   ]
  },
  {
   "cell_type": "code",
   "execution_count": 247,
   "metadata": {},
   "outputs": [
    {
     "name": "stdout",
     "output_type": "stream",
     "text": [
      "Num_features = 74\n",
      "feature 0 = -88.63\n",
      "feature 1 = -42.07\n",
      "feature 2 = -0.5\n",
      "feature 3 = -11.73\n",
      "feature 4 = 36.074\n",
      "feature 5 = 27.852\n",
      "feature 6 = 9.503\n",
      "feature 7 = 68.74\n",
      "feature 8 = 60.271\n",
      "feature 9 = 63.282\n"
     ]
    }
   ],
   "source": [
    "print(\"Num_features =\", len(l))\n",
    "for i in range(min(len(l), 10)):\n",
    "    print(\"feature\", i,\"=\", l[i])"
   ]
  },
  {
   "cell_type": "code",
   "execution_count": 248,
   "metadata": {},
   "outputs": [
    {
     "data": {
      "text/plain": [
       "(74,)"
      ]
     },
     "execution_count": 248,
     "metadata": {},
     "output_type": "execute_result"
    }
   ],
   "source": [
    "y = np.array(l)\n",
    "y.shape"
   ]
  },
  {
   "cell_type": "code",
   "execution_count": 249,
   "metadata": {},
   "outputs": [
    {
     "data": {
      "text/plain": [
       "array([-88.63 , -42.07 ,  -0.5  , -11.73 ,  36.074,  27.852,   9.503,\n",
       "        68.74 ,  60.271,  63.282,  49.741,  57.988,  98.427,  90.052,\n",
       "        91.85 ,  93.475,  79.197,  89.784,  80.5  ,  86.064,  80.882,\n",
       "       125.665, 117.647, 118.925, 117.709, 118.534, 106.84 , 115.607,\n",
       "       109.429, 109.103, 111.969, 117.725, 115.65 , 118.259, 109.841,\n",
       "        99.238, 114.76 , 113.467, 106.47 , 150.798, 143.26 , 144.18 ,\n",
       "       142.48 , 143.   , 141.2  , 132.69 , 140.5  , 133.5  , 136.   ,\n",
       "       135.21 , 137.3  , 140.6  , 136.   , 135.2  , 138.   , 133.8  ,\n",
       "       140.6  , 140.4  , 133.6  , 126.54 , 124.084, 137.68 , 139.   ,\n",
       "       131.34 , 130.648, 140.46 , 146.168, 133.83 , 142.   , 136.73 ,\n",
       "       140.274, 133.016, 122.284, 141.551])"
      ]
     },
     "execution_count": 249,
     "metadata": {},
     "output_type": "execute_result"
    }
   ],
   "source": [
    "y"
   ]
  },
  {
   "cell_type": "code",
   "execution_count": 250,
   "metadata": {},
   "outputs": [],
   "source": [
    "def R_rise_2 (Eps, y, y_mean):\n",
    "    result1 = np.sum(Eps**2)\n",
    "    result2 = np.sum((y-y_mean)**2)\n",
    "    return 1 - result1 / result2"
   ]
  },
  {
   "cell_type": "code",
   "execution_count": 251,
   "metadata": {},
   "outputs": [],
   "source": [
    "size_buf = 10\n",
    "num_selections = 15"
   ]
  },
  {
   "cell_type": "code",
   "execution_count": 252,
   "metadata": {},
   "outputs": [],
   "source": [
    "model = LinearRegression()"
   ]
  },
  {
   "cell_type": "code",
   "execution_count": 253,
   "metadata": {},
   "outputs": [
    {
     "data": {
      "text/plain": [
       "array([0.09285714, 0.1907381 , 0.33778095, 0.31322381, 0.53822857,\n",
       "       0.50626667, 0.46634762, 0.79669048, 0.74421905, 0.74644286,\n",
       "       0.7040619 , 0.69749048, 1.11633333, 1.06962381, 1.06011905,\n",
       "       1.02632381, 0.99708095, 0.99303333, 1.00302857, 0.9837381 ,\n",
       "       0.93640952, 1.494     , 1.42669524, 1.41860952, 1.43021905,\n",
       "       1.40549524, 1.36054762, 1.37269524, 1.3561    , 1.37696667,\n",
       "       1.35222857, 1.3351619 , 1.32382381, 1.3034619 , 1.2579381 ,\n",
       "       1.27928095, 1.27077619, 1.29133333, 1.18765238, 1.95123333,\n",
       "       1.87832857, 1.85914286, 1.87329524, 1.82781905, 1.83665714,\n",
       "       1.78150476, 1.79542857, 1.79074286, 1.78900476, 1.79551905,\n",
       "       1.7769    , 1.77144762, 1.76990952, 1.77332857, 1.76851429,\n",
       "       1.76265714, 1.73765238, 1.7309    , 1.70322857, 1.6973619 ,\n",
       "       1.72905238, 1.70461429, 1.6983381 , 1.73022857, 1.69916667,\n",
       "       1.66721429, 1.67419048, 1.63922857, 1.64113333, 1.67244286,\n",
       "       1.5761619 , 1.60750476, 1.60711429, 1.60879524])"
      ]
     },
     "execution_count": 253,
     "metadata": {},
     "output_type": "execute_result"
    }
   ],
   "source": [
    "y_mean = data.sum(axis = 1)\n",
    "y_mean = y_mean / m\n",
    "y_mean"
   ]
  },
  {
   "cell_type": "code",
   "execution_count": 318,
   "metadata": {},
   "outputs": [
    {
     "data": {
      "text/plain": [
       "(15, 74, 10)"
      ]
     },
     "execution_count": 318,
     "metadata": {},
     "output_type": "execute_result"
    }
   ],
   "source": [
    "buf_r = np.array([0.0 for i in range(size_buf)])\n",
    "\n",
    "iter_buf = 0\n",
    "\n",
    "buf_numbers = np.array([[-1 for i in range(size_buf)] for k in range(num_selections)])\n",
    "buf_numbers_1 = np.array([[-1 for i in range(size_buf)] for k in range(num_selections)])\n",
    "\n",
    "buf = np.array([[[float(i) for i in range(size_buf)] for j in range(n)] for k in range(num_selections)])\n",
    "\n",
    "X1 = np.array([[float(i) for i in range(1)] for j in range(n)])\n",
    "X2 = np.array([[float(i) for i in range(2)] for j in range(n)])\n",
    "buf.shape"
   ]
  },
  {
   "cell_type": "code",
   "execution_count": 319,
   "metadata": {},
   "outputs": [
    {
     "name": "stdout",
     "output_type": "stream",
     "text": [
      "[[ 0  0  0  0  0  0  0  0  0  0]\n",
      " [-1 -1 -1 -1 -1 -1 -1 -1 -1 -1]\n",
      " [-1 -1 -1 -1 -1 -1 -1 -1 -1 -1]\n",
      " [-1 -1 -1 -1 -1 -1 -1 -1 -1 -1]\n",
      " [-1 -1 -1 -1 -1 -1 -1 -1 -1 -1]\n",
      " [-1 -1 -1 -1 -1 -1 -1 -1 -1 -1]\n",
      " [-1 -1 -1 -1 -1 -1 -1 -1 -1 -1]\n",
      " [-1 -1 -1 -1 -1 -1 -1 -1 -1 -1]\n",
      " [-1 -1 -1 -1 -1 -1 -1 -1 -1 -1]\n",
      " [-1 -1 -1 -1 -1 -1 -1 -1 -1 -1]\n",
      " [-1 -1 -1 -1 -1 -1 -1 -1 -1 -1]\n",
      " [-1 -1 -1 -1 -1 -1 -1 -1 -1 -1]\n",
      " [-1 -1 -1 -1 -1 -1 -1 -1 -1 -1]\n",
      " [-1 -1 -1 -1 -1 -1 -1 -1 -1 -1]\n",
      " [-1 -1 -1 -1 -1 -1 -1 -1 -1 -1]]\n",
      "\n",
      "\n",
      "\n",
      "CPU times: user 297 ms, sys: 8.04 ms, total: 305 ms\n",
      "Wall time: 76.2 ms\n"
     ]
    }
   ],
   "source": [
    "%%time\n",
    "for i in range(m):\n",
    "    X1[:,0] = data[:,i]\n",
    "    model.fit(X1, y)\n",
    "    if iter_buf < size_buf:\n",
    "            tmp = model.predict(X1)\n",
    "            buf_r[iter_buf] = R_rise_2(y - tmp, y, y_mean)\n",
    "            buf_numbers[0, iter_buf] = i\n",
    "            buf[0, :, iter_buf] = tmp[:]\n",
    "            iter_buf+= 1\n",
    "            \n",
    "    else:\n",
    "            tmp = model.predict(X1)\n",
    "            ind = buf_r.argmin()\n",
    "            buf_r[ind] = R_rise_2(y - tmp, y, y_mean)\n",
    "            buf_numbers[0, ind] = i\n",
    "            buf[0, :, ind] = tmp[:]\n",
    "buf_numbers_1[0, :] = -2\n",
    "print(buf_numbers_1, end=\"\\n\\n\\n\\n\")"
   ]
  },
  {
   "cell_type": "code",
   "execution_count": 326,
   "metadata": {
    "scrolled": true
   },
   "outputs": [
    {
     "name": "stdout",
     "output_type": "stream",
     "text": [
      "CPU times: user 39.7 s, sys: 538 ms, total: 40.2 s\n",
      "Wall time: 10.1 s\n"
     ]
    }
   ],
   "source": [
    "%%time\n",
    "for k in range (1, num_selections):\n",
    "    iter_buf = 0\n",
    "    for i in range(size_buf):\n",
    "        for j in range(i + 1, m):\n",
    "            #print(data[:,i].shape)\n",
    "            X2[:, 0] = buf[k - 1, :, i]\n",
    "            X2[:, 1] = data[:, j]\n",
    "            model.fit(X2, y)\n",
    "            if iter_buf < size_buf:\n",
    "                tmp = model.predict(X2)\n",
    "                buf_r[iter_buf] = R_rise_2(y - tmp, y, y_mean)\n",
    "                buf_numbers[k, iter_buf] = j\n",
    "                buf_numbers_1[k, iter_buf] = i\n",
    "                buf[k, :,iter_buf] = tmp[:]\n",
    "                iter_buf += 1\n",
    "\n",
    "            else:\n",
    "                tmp = model.predict(X2)\n",
    "                ind = buf_r.argmin()\n",
    "                buf_r[ind] = R_rise_2(y - tmp, y, y_mean)\n",
    "                buf_numbers[k, ind] = j\n",
    "                buf_numbers_1[k, ind] = i\n",
    "                buf[k, :, ind] = tmp[:]"
   ]
  },
  {
   "cell_type": "code",
   "execution_count": 321,
   "metadata": {},
   "outputs": [
    {
     "data": {
      "text/plain": [
       "array([[196, 201, 189, 202, 188, 208, 195, 209, 203, 206],\n",
       "       [196, 196, 209, 193, 196, 188, 197, 201, 189, 197],\n",
       "       [206, 206, 192, 192, 206, 206, 206, 199, 209, 206],\n",
       "       [131, 209, 133,   6,   6, 132, 132, 133, 131, 132],\n",
       "       [192, 192, 199, 199, 192, 192, 199, 209, 199, 192],\n",
       "       [  1, 200, 193, 193, 200, 200, 193, 200, 209, 193],\n",
       "       [121, 186, 121, 122, 186, 209, 122, 121, 186, 186],\n",
       "       [  1, 113, 113, 113, 113, 113, 113, 209, 112, 112],\n",
       "       [209, 129,  73, 172, 112, 129, 113,  73,  72, 172],\n",
       "       [ 73, 209,  73,  72, 172, 132, 172, 129, 129,  72],\n",
       "       [132, 172, 129,  73, 132, 209, 132, 132, 208,  72],\n",
       "       [110, 111, 115, 153, 184, 209, 111, 111, 184, 110],\n",
       "       [115, 153, 153, 115, 110, 209, 184, 153, 115, 111],\n",
       "       [ 86,  86,  86,  86,  86, 177, 177, 177, 209,  86],\n",
       "       [  5, 147, 147,   5, 147,   5, 209, 147, 147, 147]])"
      ]
     },
     "execution_count": 321,
     "metadata": {},
     "output_type": "execute_result"
    }
   ],
   "source": [
    "buf_numbers"
   ]
  },
  {
   "cell_type": "code",
   "execution_count": 323,
   "metadata": {},
   "outputs": [
    {
     "data": {
      "text/plain": [
       "array([[0, 0, 0, 0, 0, 0, 0, 0, 0, 0],\n",
       "       [1, 2, 9, 0, 4, 0, 4, 0, 0, 2],\n",
       "       [8, 5, 9, 6, 9, 6, 4, 3, 9, 1],\n",
       "       [4, 9, 4, 4, 5, 4, 5, 5, 5, 1],\n",
       "       [5, 6, 5, 6, 0, 8, 8, 9, 0, 4],\n",
       "       [0, 5, 6, 4, 6, 4, 8, 8, 9, 5],\n",
       "       [7, 4, 4, 7, 7, 9, 4, 2, 6, 2],\n",
       "       [0, 0, 2, 1, 4, 3, 6, 9, 0, 4],\n",
       "       [9, 1, 2, 2, 0, 2, 0, 1, 2, 1],\n",
       "       [6, 9, 4, 4, 4, 6, 6, 6, 4, 6],\n",
       "       [9, 5, 5, 5, 0, 9, 7, 6, 7, 5],\n",
       "       [8, 8, 8, 8, 8, 9, 6, 0, 6, 7],\n",
       "       [4, 1, 4, 0, 2, 9, 2, 0, 1, 2],\n",
       "       [8, 3, 4, 9, 6, 6, 4, 9, 9, 0],\n",
       "       [4, 5, 7, 3, 4, 2, 9, 6, 2, 3]])"
      ]
     },
     "execution_count": 323,
     "metadata": {},
     "output_type": "execute_result"
    }
   ],
   "source": [
    "buf_numbers_1"
   ]
  },
  {
   "cell_type": "code",
   "execution_count": null,
   "metadata": {},
   "outputs": [],
   "source": []
  },
  {
   "cell_type": "code",
   "execution_count": 327,
   "metadata": {},
   "outputs": [
    {
     "ename": "SyntaxError",
     "evalue": "invalid syntax (<ipython-input-327-e18b71ce101d>, line 1)",
     "output_type": "error",
     "traceback": [
      "\u001b[0;36m  File \u001b[0;32m\"<ipython-input-327-e18b71ce101d>\"\u001b[0;36m, line \u001b[0;32m1\u001b[0m\n\u001b[0;31m    lis = [[for i in range(10)]]\u001b[0m\n\u001b[0m              ^\u001b[0m\n\u001b[0;31mSyntaxError\u001b[0m\u001b[0;31m:\u001b[0m invalid syntax\n"
     ]
    }
   ],
   "source": [
    "lis = []\n",
    "for i in range(num_selections):\n",
    "    lis\n"
   ]
  },
  {
   "cell_type": "code",
   "execution_count": null,
   "metadata": {},
   "outputs": [],
   "source": []
  }
 ],
 "metadata": {
  "kernelspec": {
   "display_name": "Python 3",
   "language": "python",
   "name": "python3"
  },
  "language_info": {
   "codemirror_mode": {
    "name": "ipython",
    "version": 3
   },
   "file_extension": ".py",
   "mimetype": "text/x-python",
   "name": "python",
   "nbconvert_exporter": "python",
   "pygments_lexer": "ipython3",
   "version": "3.7.3"
  }
 },
 "nbformat": 4,
 "nbformat_minor": 2
}
