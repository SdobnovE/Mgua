{
 "cells": [
  {
   "cell_type": "code",
   "execution_count": 532,
   "metadata": {},
   "outputs": [],
   "source": [
    "import numpy as np\n",
    "from sklearn.linear_model import LinearRegression\n",
    "import io\n",
    "import os\n",
    "from sklearn.model_selection import train_test_split"
   ]
  },
  {
   "cell_type": "code",
   "execution_count": 533,
   "metadata": {},
   "outputs": [],
   "source": [
    "data = np.loadtxt(\"alkan/ALKAN.BLD\")\n"
   ]
  },
  {
   "cell_type": "code",
   "execution_count": 534,
   "metadata": {},
   "outputs": [
    {
     "data": {
      "text/plain": [
       "array([[ 2.,  1.,  0., ...,  2.,  1.,  1.],\n",
       "       [ 2.,  0.,  2., ...,  5.,  2.,  1.],\n",
       "       [ 2.,  0.,  2., ..., 10.,  4.,  2.],\n",
       "       ...,\n",
       "       [ 6.,  0.,  0., ..., 31., 13.,  2.],\n",
       "       [ 6.,  0.,  0., ..., 32., 14.,  2.],\n",
       "       [ 6.,  0.,  0., ..., 30., 12.,  2.]])"
      ]
     },
     "execution_count": 534,
     "metadata": {},
     "output_type": "execute_result"
    }
   ],
   "source": [
    "data"
   ]
  },
  {
   "cell_type": "code",
   "execution_count": 535,
   "metadata": {},
   "outputs": [
    {
     "data": {
      "text/plain": [
       "(74, 210)"
      ]
     },
     "execution_count": 535,
     "metadata": {},
     "output_type": "execute_result"
    }
   ],
   "source": [
    "data.shape"
   ]
  },
  {
   "cell_type": "code",
   "execution_count": 536,
   "metadata": {},
   "outputs": [],
   "source": [
    "n = data.shape[0]\n",
    "m = data.shape[1]"
   ]
  },
  {
   "cell_type": "code",
   "execution_count": 537,
   "metadata": {},
   "outputs": [
    {
     "data": {
      "text/plain": [
       "(74, 210)"
      ]
     },
     "execution_count": 537,
     "metadata": {},
     "output_type": "execute_result"
    }
   ],
   "source": [
    "(n,m)"
   ]
  },
  {
   "cell_type": "code",
   "execution_count": 538,
   "metadata": {},
   "outputs": [],
   "source": [
    "l = []\n",
    "word = 'A1 '\n",
    "with io.open('alkan/set-str/ALKAN.SET') as file:\n",
    "    for line in file:\n",
    "        if (word in line):\n",
    "            ape = float(line.split()[1])\n",
    "            #print(ape)\n",
    "            l.append(ape)"
   ]
  },
  {
   "cell_type": "code",
   "execution_count": 539,
   "metadata": {},
   "outputs": [
    {
     "name": "stdout",
     "output_type": "stream",
     "text": [
      "Num_features = 74\n",
      "feature 0 = -88.63\n",
      "feature 1 = -42.07\n",
      "feature 2 = -0.5\n",
      "feature 3 = -11.73\n",
      "feature 4 = 36.074\n",
      "feature 5 = 27.852\n",
      "feature 6 = 9.503\n",
      "feature 7 = 68.74\n",
      "feature 8 = 60.271\n",
      "feature 9 = 63.282\n"
     ]
    }
   ],
   "source": [
    "print(\"Num_features =\", len(l))\n",
    "for i in range(min(len(l), 10)):\n",
    "    print(\"feature\", i,\"=\", l[i])"
   ]
  },
  {
   "cell_type": "code",
   "execution_count": 540,
   "metadata": {},
   "outputs": [
    {
     "data": {
      "text/plain": [
       "(74,)"
      ]
     },
     "execution_count": 540,
     "metadata": {},
     "output_type": "execute_result"
    }
   ],
   "source": [
    "y = np.array(l)\n",
    "y.shape"
   ]
  },
  {
   "cell_type": "code",
   "execution_count": 541,
   "metadata": {},
   "outputs": [
    {
     "data": {
      "text/plain": [
       "array([-88.63 , -42.07 ,  -0.5  , -11.73 ,  36.074,  27.852,   9.503,\n",
       "        68.74 ,  60.271,  63.282,  49.741,  57.988,  98.427,  90.052,\n",
       "        91.85 ,  93.475,  79.197,  89.784,  80.5  ,  86.064,  80.882,\n",
       "       125.665, 117.647, 118.925, 117.709, 118.534, 106.84 , 115.607,\n",
       "       109.429, 109.103, 111.969, 117.725, 115.65 , 118.259, 109.841,\n",
       "        99.238, 114.76 , 113.467, 106.47 , 150.798, 143.26 , 144.18 ,\n",
       "       142.48 , 143.   , 141.2  , 132.69 , 140.5  , 133.5  , 136.   ,\n",
       "       135.21 , 137.3  , 140.6  , 136.   , 135.2  , 138.   , 133.8  ,\n",
       "       140.6  , 140.4  , 133.6  , 126.54 , 124.084, 137.68 , 139.   ,\n",
       "       131.34 , 130.648, 140.46 , 146.168, 133.83 , 142.   , 136.73 ,\n",
       "       140.274, 133.016, 122.284, 141.551])"
      ]
     },
     "execution_count": 541,
     "metadata": {},
     "output_type": "execute_result"
    }
   ],
   "source": [
    "y"
   ]
  },
  {
   "cell_type": "code",
   "execution_count": 542,
   "metadata": {},
   "outputs": [],
   "source": [
    "def R_rise_2 (Eps, y, y_mean):\n",
    "    result1 = np.sum(Eps**2)\n",
    "    result2 = np.sum((y-y_mean)**2)\n",
    "    return 1 - result1 / result2"
   ]
  },
  {
   "cell_type": "code",
   "execution_count": 598,
   "metadata": {},
   "outputs": [],
   "source": [
    "size_buf = 10\n",
    "num_selections = 20\n",
    "#100\n",
    "#15"
   ]
  },
  {
   "cell_type": "code",
   "execution_count": 599,
   "metadata": {},
   "outputs": [],
   "source": [
    "model = LinearRegression()"
   ]
  },
  {
   "cell_type": "code",
   "execution_count": 600,
   "metadata": {},
   "outputs": [
    {
     "data": {
      "text/plain": [
       "array([0.09285714, 0.1907381 , 0.33778095, 0.31322381, 0.53822857,\n",
       "       0.50626667, 0.46634762, 0.79669048, 0.74421905, 0.74644286,\n",
       "       0.7040619 , 0.69749048, 1.11633333, 1.06962381, 1.06011905,\n",
       "       1.02632381, 0.99708095, 0.99303333, 1.00302857, 0.9837381 ,\n",
       "       0.93640952, 1.494     , 1.42669524, 1.41860952, 1.43021905,\n",
       "       1.40549524, 1.36054762, 1.37269524, 1.3561    , 1.37696667,\n",
       "       1.35222857, 1.3351619 , 1.32382381, 1.3034619 , 1.2579381 ,\n",
       "       1.27928095, 1.27077619, 1.29133333, 1.18765238, 1.95123333,\n",
       "       1.87832857, 1.85914286, 1.87329524, 1.82781905, 1.83665714,\n",
       "       1.78150476, 1.79542857, 1.79074286, 1.78900476, 1.79551905,\n",
       "       1.7769    , 1.77144762, 1.76990952, 1.77332857, 1.76851429,\n",
       "       1.76265714, 1.73765238, 1.7309    , 1.70322857, 1.6973619 ,\n",
       "       1.72905238, 1.70461429, 1.6983381 , 1.73022857, 1.69916667,\n",
       "       1.66721429, 1.67419048, 1.63922857, 1.64113333, 1.67244286,\n",
       "       1.5761619 , 1.60750476, 1.60711429, 1.60879524])"
      ]
     },
     "execution_count": 600,
     "metadata": {},
     "output_type": "execute_result"
    }
   ],
   "source": [
    "y_mean = data.sum(axis = 1)\n",
    "y_mean = y_mean / m\n",
    "y_mean"
   ]
  },
  {
   "cell_type": "code",
   "execution_count": 623,
   "metadata": {},
   "outputs": [
    {
     "data": {
      "text/plain": [
       "(20, 74, 10)"
      ]
     },
     "execution_count": 623,
     "metadata": {},
     "output_type": "execute_result"
    }
   ],
   "source": [
    "buf_r = np.array([0.0 for i in range(size_buf)])\n",
    "\n",
    "iter_buf = 0\n",
    "\n",
    "buf_numbers = np.array([[-1 for i in range(size_buf)] for k in range(num_selections)])\n",
    "buf_numbers_1 = np.array([[-1 for i in range(size_buf)] for k in range(num_selections)])\n",
    "\n",
    "buf = np.array([[[float(i) for i in range(size_buf)] for j in range(n)] for k in range(num_selections)])\n",
    "\n",
    "X1 = np.array([[float(i) for i in range(1)] for j in range(n)])\n",
    "X2 = np.array([[float(i) for i in range(2)] for j in range(n)])\n",
    "buf.shape"
   ]
  },
  {
   "cell_type": "code",
   "execution_count": 624,
   "metadata": {},
   "outputs": [
    {
     "name": "stdout",
     "output_type": "stream",
     "text": [
      "[[196 201 189 202 188 208 195 209 203 206]\n",
      " [ -1  -1  -1  -1  -1  -1  -1  -1  -1  -1]\n",
      " [ -1  -1  -1  -1  -1  -1  -1  -1  -1  -1]\n",
      " [ -1  -1  -1  -1  -1  -1  -1  -1  -1  -1]\n",
      " [ -1  -1  -1  -1  -1  -1  -1  -1  -1  -1]\n",
      " [ -1  -1  -1  -1  -1  -1  -1  -1  -1  -1]\n",
      " [ -1  -1  -1  -1  -1  -1  -1  -1  -1  -1]\n",
      " [ -1  -1  -1  -1  -1  -1  -1  -1  -1  -1]\n",
      " [ -1  -1  -1  -1  -1  -1  -1  -1  -1  -1]\n",
      " [ -1  -1  -1  -1  -1  -1  -1  -1  -1  -1]\n",
      " [ -1  -1  -1  -1  -1  -1  -1  -1  -1  -1]\n",
      " [ -1  -1  -1  -1  -1  -1  -1  -1  -1  -1]\n",
      " [ -1  -1  -1  -1  -1  -1  -1  -1  -1  -1]\n",
      " [ -1  -1  -1  -1  -1  -1  -1  -1  -1  -1]\n",
      " [ -1  -1  -1  -1  -1  -1  -1  -1  -1  -1]\n",
      " [ -1  -1  -1  -1  -1  -1  -1  -1  -1  -1]\n",
      " [ -1  -1  -1  -1  -1  -1  -1  -1  -1  -1]\n",
      " [ -1  -1  -1  -1  -1  -1  -1  -1  -1  -1]\n",
      " [ -1  -1  -1  -1  -1  -1  -1  -1  -1  -1]\n",
      " [ -1  -1  -1  -1  -1  -1  -1  -1  -1  -1]]\n",
      "\n",
      "\n",
      "\n",
      "CPU times: user 372 ms, sys: 11.9 ms, total: 384 ms\n",
      "Wall time: 96.6 ms\n"
     ]
    }
   ],
   "source": [
    "%%time\n",
    "for i in range(m):\n",
    "    X1[:,0] = data[:,i]\n",
    "    model.fit(X1, y)\n",
    "    if iter_buf < size_buf:\n",
    "            tmp = model.predict(X1)\n",
    "            buf_r[iter_buf] = R_rise_2(y - tmp, y, y_mean)\n",
    "            buf_numbers[0, iter_buf] = i\n",
    "            buf[0, :, iter_buf] = tmp[:]\n",
    "            iter_buf+= 1\n",
    "            \n",
    "    else:\n",
    "            tmp = model.predict(X1)\n",
    "            ind = buf_r.argmin()\n",
    "            buf_r[ind] = R_rise_2(y - tmp, y, y_mean)\n",
    "            buf_numbers[0, ind] = i\n",
    "            buf[0, :, ind] = tmp[:]\n",
    "buf_numbers_1[0, :] = -2\n",
    "print(buf_numbers, end=\"\\n\\n\\n\\n\")"
   ]
  },
  {
   "cell_type": "code",
   "execution_count": 625,
   "metadata": {
    "scrolled": true
   },
   "outputs": [
    {
     "name": "stdout",
     "output_type": "stream",
     "text": [
      "selection 1 from 20\n",
      "selection 2 from 20\n",
      "selection 3 from 20\n",
      "selection 4 from 20\n",
      "selection 5 from 20\n",
      "selection 6 from 20\n",
      "selection 7 from 20\n",
      "selection 8 from 20\n",
      "selection 9 from 20\n",
      "selection 10 from 20\n",
      "selection 11 from 20\n",
      "selection 12 from 20\n",
      "selection 13 from 20\n",
      "selection 14 from 20\n",
      "selection 15 from 20\n",
      "selection 16 from 20\n",
      "selection 17 from 20\n",
      "selection 18 from 20\n",
      "selection 19 from 20\n",
      "CPU times: user 50.4 s, sys: 684 ms, total: 51 s\n",
      "Wall time: 12.8 s\n"
     ]
    }
   ],
   "source": [
    "%%time\n",
    "for k in range (1, num_selections):\n",
    "    iter_buf = 0\n",
    "    for i in range(size_buf):\n",
    "        for j in range(i + 1, m):\n",
    "            #print(data[:,i].shape)\n",
    "            X2[:, 0] = buf[k - 1, :, i]\n",
    "            X2[:, 1] = data[:, j]\n",
    "            model.fit(X2, y)\n",
    "            if iter_buf < size_buf:\n",
    "                tmp = model.predict(X2)\n",
    "                buf_r[iter_buf] = R_rise_2(y - tmp, y, y_mean)\n",
    "                buf_numbers[k, iter_buf] = j\n",
    "                buf_numbers_1[k, iter_buf] = i\n",
    "                buf[k, :,iter_buf] = tmp[:]\n",
    "                iter_buf += 1\n",
    "\n",
    "            else:\n",
    "                tmp = model.predict(X2)\n",
    "                ind = buf_r.argmin()\n",
    "                buf_r[ind] = R_rise_2(y - tmp, y, y_mean)\n",
    "                buf_numbers[k, ind] = j\n",
    "                buf_numbers_1[k, ind] = i\n",
    "                buf[k, :, ind] = tmp[:]\n",
    "    \n",
    "    print(\"selection\", k, \"from\", num_selections)"
   ]
  },
  {
   "cell_type": "code",
   "execution_count": 626,
   "metadata": {},
   "outputs": [
    {
     "data": {
      "text/plain": [
       "array([[196, 201, 189, 202, 188, 208, 195, 209, 203, 206],\n",
       "       [196, 196, 209, 193, 196, 188, 197, 201, 189, 197],\n",
       "       [206, 206, 192, 192, 206, 206, 206, 199, 209, 206],\n",
       "       [131, 209, 133,   6,   6, 132, 132, 133, 131, 132],\n",
       "       [192, 192, 199, 199, 192, 192, 199, 209, 199, 192],\n",
       "       [  1, 200, 193, 193, 200, 200, 193, 200, 209, 193],\n",
       "       [121, 186, 121, 122, 186, 209, 122, 121, 186, 186],\n",
       "       [  1, 113, 113, 113, 113, 113, 113, 209, 112, 112],\n",
       "       [209, 129,  73, 172, 112, 129, 113,  73,  72, 172],\n",
       "       [ 73, 209,  73,  72, 172, 132, 172, 129, 129,  72],\n",
       "       [132, 172, 129,  73, 132, 209, 132, 132, 208,  72],\n",
       "       [110, 111, 115, 153, 184, 209, 111, 111, 184, 110],\n",
       "       [115, 153, 153, 115, 110, 209, 184, 153, 115, 111],\n",
       "       [ 86,  86,  86,  86,  86, 177, 177, 177, 209,  86],\n",
       "       [  5, 147, 147,   5, 147,   5, 209, 147, 147, 147],\n",
       "       [  5,  22,   5,   5,  22, 147, 147, 147,  22, 209],\n",
       "       [  7,   7,   3,   3,   7,   7,   7, 163, 163, 209],\n",
       "       [209,  62,   3,   7,   7, 163, 163,  62, 163,   3],\n",
       "       [ 97,   7, 150, 163, 150, 163,  97, 163, 163, 209],\n",
       "       [ 62,  39, 209,  62,  39,  62,  39,  62,  62,  62]])"
      ]
     },
     "execution_count": 626,
     "metadata": {},
     "output_type": "execute_result"
    }
   ],
   "source": [
    "buf_numbers"
   ]
  },
  {
   "cell_type": "code",
   "execution_count": 627,
   "metadata": {},
   "outputs": [
    {
     "data": {
      "text/plain": [
       "array([[-2, -2, -2, -2, -2, -2, -2, -2, -2, -2],\n",
       "       [ 1,  2,  9,  0,  4,  0,  4,  0,  0,  2],\n",
       "       [ 8,  5,  9,  6,  9,  6,  4,  3,  9,  1],\n",
       "       [ 4,  9,  4,  4,  5,  4,  5,  5,  5,  1],\n",
       "       [ 5,  6,  5,  6,  0,  8,  8,  9,  0,  4],\n",
       "       [ 0,  5,  6,  4,  6,  4,  8,  8,  9,  5],\n",
       "       [ 7,  4,  4,  7,  7,  9,  4,  2,  6,  2],\n",
       "       [ 0,  0,  2,  1,  4,  3,  6,  9,  0,  4],\n",
       "       [ 9,  1,  2,  2,  0,  2,  0,  1,  2,  1],\n",
       "       [ 6,  9,  4,  4,  4,  6,  6,  6,  4,  6],\n",
       "       [ 9,  5,  5,  5,  0,  9,  7,  6,  7,  5],\n",
       "       [ 8,  8,  8,  8,  8,  9,  6,  0,  6,  7],\n",
       "       [ 4,  1,  4,  0,  2,  9,  2,  0,  1,  2],\n",
       "       [ 8,  3,  4,  9,  6,  6,  4,  9,  9,  0],\n",
       "       [ 4,  5,  7,  3,  4,  2,  9,  6,  2,  3],\n",
       "       [ 1,  3,  2,  4,  5,  0,  5,  3,  0,  9],\n",
       "       [ 6,  3,  0,  2,  5,  2,  0,  0,  2,  9],\n",
       "       [ 9,  7,  0,  3,  2,  6,  3,  8,  2,  1],\n",
       "       [ 3,  6,  4,  9,  3,  3,  4,  2,  4,  9],\n",
       "       [ 1,  5,  9,  0,  8,  8,  1,  3,  5,  7]])"
      ]
     },
     "execution_count": 627,
     "metadata": {},
     "output_type": "execute_result"
    }
   ],
   "source": [
    "buf_numbers_1"
   ]
  },
  {
   "cell_type": "code",
   "execution_count": 628,
   "metadata": {},
   "outputs": [],
   "source": [
    "lis = []\n",
    "for i in range(size_buf):\n",
    "    lis.append([buf_numbers[num_selections - 1][i]])\n"
   ]
  },
  {
   "cell_type": "code",
   "execution_count": 629,
   "metadata": {},
   "outputs": [],
   "source": [
    "for i in range(num_selections - 1, 1, -1):\n",
    "    #print(i)\n",
    "    for j in range(size_buf):\n",
    "        lis[j].append(buf_numbers[i - 1][buf_numbers_1[i,j]])\n",
    "\n"
   ]
  },
  {
   "cell_type": "code",
   "execution_count": 630,
   "metadata": {},
   "outputs": [],
   "source": [
    "for i in range(size_buf):\n",
    "    lis[i].append(buf_numbers[0][i])"
   ]
  },
  {
   "cell_type": "code",
   "execution_count": 720,
   "metadata": {},
   "outputs": [],
   "source": [
    "for i in range(size_buf):\n",
    "    lis[i].sort()"
   ]
  },
  {
   "cell_type": "code",
   "execution_count": 868,
   "metadata": {},
   "outputs": [
    {
     "name": "stderr",
     "output_type": "stream",
     "text": [
      "/home/evgeny/anaconda3/lib/python3.7/site-packages/sklearn/model_selection/_split.py:2179: FutureWarning: From version 0.21, test_size will always complement train_size unless both are specified.\n",
      "  FutureWarning)\n"
     ]
    },
    {
     "data": {
      "text/plain": [
       "0.978829600100607"
      ]
     },
     "execution_count": 868,
     "metadata": {},
     "output_type": "execute_result"
    }
   ],
   "source": [
    "clf = LinearRegression()\n",
    "X_train, X_test, y_train, y_test = train_test_split(data, y, train_size=0.3)\n",
    "clf.fit(X_train, y_train)\n",
    "clf.score(X_test, y_test)"
   ]
  },
  {
   "cell_type": "code",
   "execution_count": 869,
   "metadata": {},
   "outputs": [
    {
     "name": "stdout",
     "output_type": "stream",
     "text": [
      "0.9964500947332698\n",
      "0.9628421142743704\n",
      "0.9934522046366151\n",
      "0.9259625855424414\n",
      "0.9974413643068877\n",
      "0.6659304289286188\n",
      "0.9932746695037774\n",
      "0.7619582741883609\n",
      "0.750451768121125\n",
      "0.9736452678978685\n"
     ]
    }
   ],
   "source": [
    "for i in range(size_buf):\n",
    "    clf.fit(X_train[:,lis[i]], y_train)\n",
    "    print(clf.score(X_test[:,lis[i]], y_test))"
   ]
  },
  {
   "cell_type": "code",
   "execution_count": 870,
   "metadata": {},
   "outputs": [
    {
     "name": "stdout",
     "output_type": "stream",
     "text": [
      "[3, 5, 5, 62, 110, 111, 113, 113, 132, 132, 163, 163, 172, 177, 186, 193, 193, 199, 206, 209]\n"
     ]
    }
   ],
   "source": [
    "print(lis[7])"
   ]
  },
  {
   "cell_type": "code",
   "execution_count": null,
   "metadata": {},
   "outputs": [],
   "source": []
  },
  {
   "cell_type": "code",
   "execution_count": null,
   "metadata": {},
   "outputs": [],
   "source": []
  },
  {
   "cell_type": "code",
   "execution_count": null,
   "metadata": {},
   "outputs": [],
   "source": []
  },
  {
   "cell_type": "code",
   "execution_count": null,
   "metadata": {},
   "outputs": [],
   "source": []
  }
 ],
 "metadata": {
  "kernelspec": {
   "display_name": "Python 3",
   "language": "python",
   "name": "python3"
  },
  "language_info": {
   "codemirror_mode": {
    "name": "ipython",
    "version": 3
   },
   "file_extension": ".py",
   "mimetype": "text/x-python",
   "name": "python",
   "nbconvert_exporter": "python",
   "pygments_lexer": "ipython3",
   "version": "3.7.3"
  }
 },
 "nbformat": 4,
 "nbformat_minor": 2
}
