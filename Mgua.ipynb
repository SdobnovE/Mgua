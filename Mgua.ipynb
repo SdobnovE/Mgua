{
 "cells": [
  {
   "cell_type": "code",
   "execution_count": 462,
   "metadata": {},
   "outputs": [],
   "source": [
    "import numpy as np\n",
    "from sklearn.linear_model import LinearRegression\n",
    "import io\n",
    "import seaborn as sns\n",
    "import pandas as pd\n",
    "import os\n",
    "from sklearn.model_selection import train_test_split"
   ]
  },
  {
   "cell_type": "code",
   "execution_count": 463,
   "metadata": {},
   "outputs": [],
   "source": [
    "data = np.loadtxt(\"alkan/ALKAN.BLD\")\n"
   ]
  },
  {
   "cell_type": "code",
   "execution_count": 464,
   "metadata": {},
   "outputs": [
    {
     "data": {
      "text/plain": [
       "array([[ 2.,  1.,  0., ...,  2.,  1.,  1.],\n",
       "       [ 2.,  0.,  2., ...,  5.,  2.,  1.],\n",
       "       [ 2.,  0.,  2., ..., 10.,  4.,  2.],\n",
       "       ...,\n",
       "       [ 6.,  0.,  0., ..., 31., 13.,  2.],\n",
       "       [ 6.,  0.,  0., ..., 32., 14.,  2.],\n",
       "       [ 6.,  0.,  0., ..., 30., 12.,  2.]])"
      ]
     },
     "execution_count": 464,
     "metadata": {},
     "output_type": "execute_result"
    }
   ],
   "source": [
    "data"
   ]
  },
  {
   "cell_type": "code",
   "execution_count": 465,
   "metadata": {},
   "outputs": [
    {
     "data": {
      "text/plain": [
       "(74, 210)"
      ]
     },
     "execution_count": 465,
     "metadata": {},
     "output_type": "execute_result"
    }
   ],
   "source": [
    "data.shape"
   ]
  },
  {
   "cell_type": "code",
   "execution_count": 466,
   "metadata": {},
   "outputs": [],
   "source": [
    "n = data.shape[0]\n",
    "m = data.shape[1]"
   ]
  },
  {
   "cell_type": "code",
   "execution_count": 467,
   "metadata": {},
   "outputs": [
    {
     "data": {
      "text/plain": [
       "(74, 210)"
      ]
     },
     "execution_count": 467,
     "metadata": {},
     "output_type": "execute_result"
    }
   ],
   "source": [
    "(n,m)"
   ]
  },
  {
   "cell_type": "code",
   "execution_count": 468,
   "metadata": {},
   "outputs": [],
   "source": [
    "l = []\n",
    "word = 'A1 '\n",
    "with io.open('alkan/set-str/ALKAN.SET') as file:\n",
    "    for line in file:\n",
    "        if (word in line):\n",
    "            ape = float(line.split()[1])\n",
    "            l.append(ape)"
   ]
  },
  {
   "cell_type": "code",
   "execution_count": 469,
   "metadata": {},
   "outputs": [
    {
     "name": "stdout",
     "output_type": "stream",
     "text": [
      "Num_features = 74\n",
      "feature 0 = -88.63\n",
      "feature 1 = -42.07\n",
      "feature 2 = -0.5\n",
      "feature 3 = -11.73\n",
      "feature 4 = 36.074\n",
      "feature 5 = 27.852\n",
      "feature 6 = 9.503\n",
      "feature 7 = 68.74\n",
      "feature 8 = 60.271\n",
      "feature 9 = 63.282\n"
     ]
    }
   ],
   "source": [
    "print(\"Num_features =\", len(l))\n",
    "for i in range(min(len(l), 10)):\n",
    "    print(\"feature\", i,\"=\", l[i])"
   ]
  },
  {
   "cell_type": "code",
   "execution_count": 470,
   "metadata": {},
   "outputs": [
    {
     "data": {
      "text/plain": [
       "(74,)"
      ]
     },
     "execution_count": 470,
     "metadata": {},
     "output_type": "execute_result"
    }
   ],
   "source": [
    "y = np.array(l)\n",
    "y.shape"
   ]
  },
  {
   "cell_type": "code",
   "execution_count": 471,
   "metadata": {},
   "outputs": [
    {
     "data": {
      "text/plain": [
       "array([-88.63 , -42.07 ,  -0.5  , -11.73 ,  36.074,  27.852,   9.503,\n",
       "        68.74 ,  60.271,  63.282,  49.741,  57.988,  98.427,  90.052,\n",
       "        91.85 ,  93.475,  79.197,  89.784,  80.5  ,  86.064,  80.882,\n",
       "       125.665, 117.647, 118.925, 117.709, 118.534, 106.84 , 115.607,\n",
       "       109.429, 109.103, 111.969, 117.725, 115.65 , 118.259, 109.841,\n",
       "        99.238, 114.76 , 113.467, 106.47 , 150.798, 143.26 , 144.18 ,\n",
       "       142.48 , 143.   , 141.2  , 132.69 , 140.5  , 133.5  , 136.   ,\n",
       "       135.21 , 137.3  , 140.6  , 136.   , 135.2  , 138.   , 133.8  ,\n",
       "       140.6  , 140.4  , 133.6  , 126.54 , 124.084, 137.68 , 139.   ,\n",
       "       131.34 , 130.648, 140.46 , 146.168, 133.83 , 142.   , 136.73 ,\n",
       "       140.274, 133.016, 122.284, 141.551])"
      ]
     },
     "execution_count": 471,
     "metadata": {},
     "output_type": "execute_result"
    }
   ],
   "source": [
    "y"
   ]
  },
  {
   "cell_type": "code",
   "execution_count": 472,
   "metadata": {},
   "outputs": [],
   "source": [
    "def R_rise_2 (Eps, y, y_mean):\n",
    "    result1 = np.sum(Eps**2)\n",
    "    result2 = np.sum((y-y_mean)**2)\n",
    "    return 1 - result1 / result2\n",
    "\n",
    "def Correlation(X, Y):\n",
    "    X_mean = X.sum() / X.shape[0]\n",
    "    Y_mean = Y.sum() / Y.shape[0]\n",
    "    res = ((X - X_mean) * (Y - Y_mean)).sum()\n",
    "    res1 = (((X - X_mean) ** 2)) \n",
    "    res2 = (((Y - Y_mean) ** 2)) \n",
    "    \n",
    "    return  res / (((res1.sum() * res2.sum())) ** 0.5)"
   ]
  },
  {
   "cell_type": "code",
   "execution_count": 473,
   "metadata": {},
   "outputs": [],
   "source": [
    "size_buf = 10\n",
    "num_selections = 20\n",
    "min_correlation = 0.95\n",
    "#100\n",
    "#15"
   ]
  },
  {
   "cell_type": "code",
   "execution_count": 474,
   "metadata": {},
   "outputs": [],
   "source": [
    "model = LinearRegression()"
   ]
  },
  {
   "cell_type": "code",
   "execution_count": 475,
   "metadata": {},
   "outputs": [
    {
     "data": {
      "text/plain": [
       "array([0.09285714, 0.1907381 , 0.33778095, 0.31322381, 0.53822857,\n",
       "       0.50626667, 0.46634762, 0.79669048, 0.74421905, 0.74644286,\n",
       "       0.7040619 , 0.69749048, 1.11633333, 1.06962381, 1.06011905,\n",
       "       1.02632381, 0.99708095, 0.99303333, 1.00302857, 0.9837381 ,\n",
       "       0.93640952, 1.494     , 1.42669524, 1.41860952, 1.43021905,\n",
       "       1.40549524, 1.36054762, 1.37269524, 1.3561    , 1.37696667,\n",
       "       1.35222857, 1.3351619 , 1.32382381, 1.3034619 , 1.2579381 ,\n",
       "       1.27928095, 1.27077619, 1.29133333, 1.18765238, 1.95123333,\n",
       "       1.87832857, 1.85914286, 1.87329524, 1.82781905, 1.83665714,\n",
       "       1.78150476, 1.79542857, 1.79074286, 1.78900476, 1.79551905,\n",
       "       1.7769    , 1.77144762, 1.76990952, 1.77332857, 1.76851429,\n",
       "       1.76265714, 1.73765238, 1.7309    , 1.70322857, 1.6973619 ,\n",
       "       1.72905238, 1.70461429, 1.6983381 , 1.73022857, 1.69916667,\n",
       "       1.66721429, 1.67419048, 1.63922857, 1.64113333, 1.67244286,\n",
       "       1.5761619 , 1.60750476, 1.60711429, 1.60879524])"
      ]
     },
     "execution_count": 475,
     "metadata": {},
     "output_type": "execute_result"
    }
   ],
   "source": [
    "y_mean = data.sum(axis = 1)\n",
    "y_mean = y_mean / m\n",
    "y_mean"
   ]
  },
  {
   "cell_type": "code",
   "execution_count": 476,
   "metadata": {},
   "outputs": [
    {
     "data": {
      "text/plain": [
       "(20, 74, 10)"
      ]
     },
     "execution_count": 476,
     "metadata": {},
     "output_type": "execute_result"
    }
   ],
   "source": [
    "buf_r = np.array([0.0 for i in range(size_buf)])\n",
    "\n",
    "iter_buf = 0\n",
    "\n",
    "buf_numbers = np.array([[-1 for i in range(size_buf)] for k in range(num_selections)])\n",
    "buf_numbers_1 = np.array([[-1 for i in range(size_buf)] for k in range(num_selections)])\n",
    "\n",
    "buf = np.array([[[float(i) for i in range(size_buf)] for j in range(n)] for k in range(num_selections)])\n",
    "\n",
    "X1 = np.array([[float(i) for i in range(1)] for j in range(n)])\n",
    "X2 = np.array([[float(i) for i in range(2)] for j in range(n)])\n",
    "buf.shape"
   ]
  },
  {
   "cell_type": "code",
   "execution_count": 518,
   "metadata": {},
   "outputs": [
    {
     "name": "stdout",
     "output_type": "stream",
     "text": [
      "[[205 209 190 201 188 192 203 191 193 194]\n",
      " [  1   2   3   4   9   6   9   8   9  10]\n",
      " [  9   2   3   4   5   6   7   8   9  10]\n",
      " [  9   9   3   9   5   9   7   9   9   9]\n",
      " [  1   9   3   9   5   9   7   9   9   9]\n",
      " [  9   9   3   9   5   9   9   9   9   9]\n",
      " [  1   2   3   9   5   9   7   9   9   9]\n",
      " [  9   2   3   4   5   6   7   8   9  10]\n",
      " [  1   2   3   4   5   6   7   8   9  10]\n",
      " [  9   2   3   4   5   6   7   8   9  10]\n",
      " [  1   2   3   9   5   9   7   9   9   9]\n",
      " [  9   2   3   4   5   6   7   8   9  10]\n",
      " [  1   2   3   4   5   9   7   9   9   9]\n",
      " [  9   2   3   4   5   6   7   8   9  10]\n",
      " [  1   2   3   9   5   9   7   9   9   9]\n",
      " [  9   2   3   4   5   6   7   8   9  10]\n",
      " [  1   2   3   9   5   9   7   8   9   9]\n",
      " [  9   2   3   4   5   6   7   8   9  10]\n",
      " [  1   2   3   9   5   9   7   9   9   9]\n",
      " [  9   2   3   4   5   6   7   8   9  10]]\n",
      "\n",
      "\n",
      "\n",
      "CPU times: user 571 ms, sys: 15.9 ms, total: 587 ms\n",
      "Wall time: 147 ms\n"
     ]
    }
   ],
   "source": [
    "%%time\n",
    "for i in range(m):\n",
    "    X1[:,0] = data[:,i]\n",
    "    model.fit(X1, y)\n",
    "    if iter_buf < size_buf:\n",
    "            tmp = model.predict(X1)\n",
    "            buf_r[iter_buf] = R_rise_2(y - tmp, y, y_mean)\n",
    "            buf_numbers[0, iter_buf] = i\n",
    "            buf[0, :, iter_buf] = tmp[:]\n",
    "            iter_buf += 1\n",
    "            \n",
    "    else:\n",
    "            tmp = model.predict(X1)\n",
    "            ind = buf_r.argmin()\n",
    "            ar = np.array([])\n",
    "            for j in range (buf.shape[2]):\n",
    "                t = Correlation (buf[0, :,j], tmp)\n",
    "                ar = np.append (ar, t)\n",
    "                \n",
    "            if ar.max() < min_correlation: \n",
    "                buf_r[ind] = R_rise_2(y - tmp, y, y_mean)\n",
    "                buf_numbers[0, ind] = i\n",
    "                buf[0, :, ind] = tmp[:]\n",
    "buf_numbers_1[0, :] = -2\n",
    "print(buf_numbers, end=\"\\n\\n\\n\\n\")"
   ]
  },
  {
   "cell_type": "code",
   "execution_count": 526,
   "metadata": {
    "scrolled": true
   },
   "outputs": [
    {
     "name": "stdout",
     "output_type": "stream",
     "text": [
      "selection 2 from 20\n",
      "selection 3 from 20\n",
      "selection 4 from 20\n",
      "selection 5 from 20\n",
      "selection 6 from 20\n",
      "selection 7 from 20\n",
      "selection 8 from 20\n",
      "selection 9 from 20\n",
      "selection 10 from 20\n",
      "selection 11 from 20\n",
      "selection 12 from 20\n",
      "selection 13 from 20\n",
      "selection 14 from 20\n",
      "selection 15 from 20\n",
      "selection 16 from 20\n",
      "selection 17 from 20\n",
      "selection 18 from 20\n",
      "selection 19 from 20\n",
      "selection 20 from 20\n",
      "CPU times: user 1min 52s, sys: 1.62 s, total: 1min 54s\n",
      "Wall time: 28.6 s\n"
     ]
    }
   ],
   "source": [
    "%%time\n",
    "for k in range (1, num_selections):\n",
    "    iter_buf = 0\n",
    "    for i in range(size_buf):\n",
    "        for j in range(i + 1, m):\n",
    "            #print(data[:,i].shape)\n",
    "            X2[:, 0] = buf[k - 1, :, i]\n",
    "            X2[:, 1] = data[:, j]\n",
    "            model.fit(X2, y)\n",
    "            if iter_buf < size_buf:\n",
    "                tmp = model.predict(X2)\n",
    "                buf_r[iter_buf] = R_rise_2(y - tmp, y, y_mean)\n",
    "                buf_numbers[k, iter_buf] = j\n",
    "                buf_numbers_1[k, iter_buf] = i\n",
    "                buf[k, :,iter_buf] = tmp[:]\n",
    "                iter_buf += 1\n",
    "\n",
    "            else:\n",
    "                tmp = model.predict(X2)\n",
    "                ind = buf_r.argmin()\n",
    "                ar = np.array([])\n",
    "                for j in range (buf.shape[2]):\n",
    "                    t = Correlation (buf[0, :,j], tmp)\n",
    "                    ar = np.append (ar, t)\n",
    "                if ar.max() < min_correlation:\n",
    "                    buf_r[ind] = R_rise_2(y - tmp, y, y_mean)\n",
    "                    buf_numbers[k, ind] = j\n",
    "                    buf_numbers_1[k, ind] = i\n",
    "                    buf[k, :, ind] = tmp[:]\n",
    "\n",
    "    print(\"selection\", k + 1, \"from\", num_selections)"
   ]
  },
  {
   "cell_type": "code",
   "execution_count": 527,
   "metadata": {},
   "outputs": [
    {
     "data": {
      "text/plain": [
       "array([[205, 209, 190, 201, 188, 192, 203, 191, 193, 194],\n",
       "       [  9,   9,   9,   9,   9,   9,   9,   9,   9,   9],\n",
       "       [  9,   9,   9,   9,   9,   9,   9,   9,   9,   9],\n",
       "       [  1,   2,   9,   4,   9,   6,   9,   8,   9,   9],\n",
       "       [  9,   2,   3,   4,   5,   6,   9,   8,   9,  10],\n",
       "       [  9,   2,   3,   4,   5,   6,   9,   8,   9,  10],\n",
       "       [  9,   2,   3,   4,   5,   6,   7,   8,   9,  10],\n",
       "       [  9,   9,   9,   9,   9,   9,   9,   9,   9,   9],\n",
       "       [  1,   2,   3,   4,   5,   6,   7,   8,   9,  10],\n",
       "       [  9,   2,   3,   4,   5,   6,   7,   8,   9,  10],\n",
       "       [  1,   2,   3,   4,   5,   6,   7,   8,   9,  10],\n",
       "       [  9,   2,   3,   4,   5,   6,   7,   8,   9,  10],\n",
       "       [  1,   2,   3,   4,   5,   6,   7,   8,   9,  10],\n",
       "       [  9,   2,   3,   4,   5,   6,   7,   8,   9,  10],\n",
       "       [  1,   2,   3,   4,   5,   6,   7,   8,   9,  10],\n",
       "       [  9,   2,   3,   4,   5,   6,   7,   8,   9,  10],\n",
       "       [  1,   2,   3,   4,   5,   6,   7,   8,   9,  10],\n",
       "       [  9,   2,   3,   4,   5,   6,   7,   8,   9,  10],\n",
       "       [  1,   2,   3,   4,   5,   6,   7,   8,   9,  10],\n",
       "       [  9,   2,   3,   4,   5,   6,   7,   8,   9,  10]])"
      ]
     },
     "execution_count": 527,
     "metadata": {},
     "output_type": "execute_result"
    }
   ],
   "source": [
    "buf_numbers"
   ]
  },
  {
   "cell_type": "code",
   "execution_count": 528,
   "metadata": {},
   "outputs": [
    {
     "data": {
      "text/plain": [
       "array([[-2, -2, -2, -2, -2, -2, -2, -2, -2, -2],\n",
       "       [ 8,  8,  7,  1,  0,  7,  9,  0,  9,  1],\n",
       "       [ 5,  4,  5,  5,  5,  7,  7,  9,  7,  7],\n",
       "       [ 0,  0,  9,  0,  0,  0,  5,  0,  0,  5],\n",
       "       [ 0,  0,  0,  0,  0,  0,  0,  0,  9,  0],\n",
       "       [ 6,  0,  0,  0,  0,  0,  0,  0,  8,  0],\n",
       "       [ 8,  0,  0,  0,  0,  0,  0,  0,  0,  0],\n",
       "       [ 8,  8,  8,  8,  8,  8,  8,  8,  8,  8],\n",
       "       [ 0,  0,  0,  0,  0,  0,  0,  0,  9,  0],\n",
       "       [ 8,  0,  0,  0,  0,  0,  0,  0,  0,  0],\n",
       "       [ 0,  0,  0,  0,  0,  0,  0,  0,  0,  0],\n",
       "       [ 8,  0,  0,  0,  0,  0,  0,  0,  0,  0],\n",
       "       [ 0,  0,  0,  0,  0,  0,  0,  0,  0,  0],\n",
       "       [ 8,  0,  0,  0,  0,  0,  0,  0,  0,  0],\n",
       "       [ 0,  0,  0,  0,  0,  0,  0,  0,  0,  0],\n",
       "       [ 8,  0,  0,  0,  0,  0,  0,  0,  0,  0],\n",
       "       [ 0,  0,  0,  0,  0,  0,  0,  0,  0,  0],\n",
       "       [ 8,  0,  0,  0,  0,  0,  0,  0,  0,  0],\n",
       "       [ 0,  0,  0,  0,  0,  0,  0,  0,  0,  0],\n",
       "       [ 8,  0,  0,  0,  0,  0,  0,  0,  0,  0]])"
      ]
     },
     "execution_count": 528,
     "metadata": {},
     "output_type": "execute_result"
    }
   ],
   "source": [
    "buf_numbers_1"
   ]
  },
  {
   "cell_type": "code",
   "execution_count": 529,
   "metadata": {},
   "outputs": [],
   "source": [
    "lis = []\n",
    "for i in range(size_buf):\n",
    "    lis.append([buf_numbers[num_selections - 1][i]])\n"
   ]
  },
  {
   "cell_type": "code",
   "execution_count": 530,
   "metadata": {},
   "outputs": [],
   "source": [
    "for i in range(num_selections - 1, 1, -1):\n",
    "    #print(i)\n",
    "    for j in range(size_buf):\n",
    "        lis[j].append(buf_numbers[i - 1][buf_numbers_1[i,j]])\n",
    "\n"
   ]
  },
  {
   "cell_type": "code",
   "execution_count": 531,
   "metadata": {},
   "outputs": [],
   "source": [
    "for i in range(size_buf):\n",
    "    lis[i].append(buf_numbers[0][i])"
   ]
  },
  {
   "cell_type": "code",
   "execution_count": 532,
   "metadata": {},
   "outputs": [],
   "source": [
    "for i in range(size_buf):\n",
    "    lis[i].sort()"
   ]
  },
  {
   "cell_type": "code",
   "execution_count": 570,
   "metadata": {},
   "outputs": [
    {
     "name": "stderr",
     "output_type": "stream",
     "text": [
      "/home/evgeny/anaconda3/lib/python3.7/site-packages/sklearn/model_selection/_split.py:2179: FutureWarning: From version 0.21, test_size will always complement train_size unless both are specified.\n",
      "  FutureWarning)\n"
     ]
    },
    {
     "data": {
      "text/plain": [
       "-11.695700505282568"
      ]
     },
     "execution_count": 570,
     "metadata": {},
     "output_type": "execute_result"
    }
   ],
   "source": [
    "clf = LinearRegression()\n",
    "X_train, X_test, y_train, y_test = train_test_split(data, y, train_size=0.8)\n",
    "clf.fit(X_train, y_train)\n",
    "clf.score(X_test, y_test)"
   ]
  },
  {
   "cell_type": "code",
   "execution_count": 571,
   "metadata": {},
   "outputs": [
    {
     "name": "stdout",
     "output_type": "stream",
     "text": [
      "0.5797094614020484\n",
      "-3.2431878437717973e+27\n",
      "0.662278591328651\n",
      "0.7713625270893886\n",
      "0.9626287295408718\n",
      "0.3737828790037769\n",
      "0.7545498758863751\n",
      "0.6363608146440234\n",
      "0.1256069490882218\n",
      "0.6835617389662618\n"
     ]
    }
   ],
   "source": [
    "for i in range(size_buf):\n",
    "    clf.fit(X_train[:,lis[i]], y_train)\n",
    "    print(clf.score(X_test[:,lis[i]], y_test))"
   ]
  },
  {
   "cell_type": "code",
   "execution_count": null,
   "metadata": {},
   "outputs": [],
   "source": []
  },
  {
   "cell_type": "code",
   "execution_count": 572,
   "metadata": {},
   "outputs": [],
   "source": [
    "X1 = np.array([1,2,3,4,5,6,7,8,9,10,11,12,13,14,15,16,17,18,19,20])\n",
    "Y1 = np.array([1,2,3,4,5,6,7,8,9,10,11,12,13,14,15,16,17,18,19,20])"
   ]
  },
  {
   "cell_type": "code",
   "execution_count": 573,
   "metadata": {},
   "outputs": [
    {
     "data": {
      "text/plain": [
       "1.0"
      ]
     },
     "execution_count": 573,
     "metadata": {},
     "output_type": "execute_result"
    }
   ],
   "source": [
    "Correlation(Y1, X1)"
   ]
  },
  {
   "cell_type": "code",
   "execution_count": 574,
   "metadata": {},
   "outputs": [
    {
     "data": {
      "text/plain": [
       "0.0625"
      ]
     },
     "execution_count": 574,
     "metadata": {},
     "output_type": "execute_result"
    }
   ],
   "source": [
    "0.25 **2\n"
   ]
  },
  {
   "cell_type": "code",
   "execution_count": 575,
   "metadata": {},
   "outputs": [
    {
     "data": {
      "text/plain": [
       "(2, 210)"
      ]
     },
     "execution_count": 575,
     "metadata": {},
     "output_type": "execute_result"
    }
   ],
   "source": [
    "clf.fit(data[1:-1,:], y[1:-1])\n",
    "data[0:2,:].shape"
   ]
  },
  {
   "cell_type": "code",
   "execution_count": 576,
   "metadata": {},
   "outputs": [
    {
     "name": "stdout",
     "output_type": "stream",
     "text": [
      "-2.651726441355756\n",
      "-39.96560310026973\n",
      "-18423.86993295176\n",
      "0.9134557932152902\n",
      "-43.69606733739315\n",
      "0.9994579624956441\n",
      "0.8156051956654364\n",
      "-1.406848738808006\n",
      "0.9999445324841069\n",
      "0.9999689423848356\n",
      "0.9998751271481379\n",
      "0.9998701332917312\n",
      "0.5825827907434362\n",
      "0.9977105666730196\n",
      "0.9999873382957977\n",
      "0.9999531862238537\n",
      "0.9999334218933181\n",
      "0.955868117766478\n",
      "0.9978057151498546\n",
      "0.9999835878738415\n",
      "0.9998490369139087\n",
      "0.8866828361079586\n",
      "0.9336025594736956\n",
      "0.9996717890733723\n",
      "0.9998832378717538\n",
      "0.9998966385954328\n",
      "-0.3213013036467758\n",
      "0.9975232130467943\n",
      "0.9997031749360293\n",
      "-4.492466504634677\n",
      "0.9999916815559626\n",
      "0.9999065678702453\n",
      "0.9999283901295183\n",
      "0.9999603933961473\n",
      "0.9999072352163961\n",
      "-15.456879453963623\n",
      "0.9999334243092255\n",
      "0.9999443227886755\n",
      "0.8623691479707363\n",
      "0.6706751099510859\n",
      "0.98281745616178\n",
      "0.7737502004358175\n",
      "0.9999947501934973\n",
      "0.9990904266019411\n",
      "0.9999187158567859\n",
      "-2.0266078180713047\n",
      "0.6517301141692005\n",
      "0.5223239903476746\n",
      "0.7140931705694042\n",
      "-5.567839910274166\n",
      "0.8614851473334127\n",
      "0.9578957662586036\n",
      "0.7109147670322138\n",
      "0.999257899697608\n",
      "0.9982584868778085\n",
      "0.999204572465642\n",
      "0.9999788857800538\n",
      "0.9997367144802783\n",
      "-9.424451854716077\n",
      "-10.887082741865461\n",
      "-37.04813934284248\n",
      "-3.231122776785222\n",
      "-1.8673059033293642\n",
      "-14.172453264420618\n",
      "-3.399303699233201\n",
      "0.4476789934092923\n",
      "0.9205348329870526\n",
      "0.999749639954852\n",
      "0.9998258974153896\n",
      "0.9999615906450998\n",
      "-6.298213150553773\n",
      "-8.719244552007034\n",
      "-9.076074699321278\n",
      "-6.830417476649227\n"
     ]
    }
   ],
   "source": [
    "clf = LinearRegression ()\n",
    "def cross_validation(clf, data, y):\n",
    "    for i in range (data.shape[0]):\n",
    "        d = data[i:i+1,:]\n",
    "        y_1 = y[i]\n",
    "        clf.fit (np.delete(data, i, axis=0), np.delete(y, i))\n",
    "        print(R_rise_2 (y_1 - clf.predict(d), y_1, (d.sum() / d.shape[1])))\n",
    "        \n",
    "cross_validation (clf, data, y)"
   ]
  },
  {
   "cell_type": "code",
   "execution_count": 577,
   "metadata": {},
   "outputs": [
    {
     "name": "stdout",
     "output_type": "stream",
     "text": [
      "-0.5677518220476316\n",
      "-4.153137979910047\n",
      "-12384.488435656196\n",
      "-27.00719805391775\n",
      "-1.5193167305429087\n",
      "-1.3792787101408677\n",
      "-16.581328351289503\n",
      "0.5301739286308355\n",
      "0.7114414112741607\n",
      "0.7857530297992807\n",
      "0.8394409129737334\n",
      "0.9621088492020808\n",
      "0.825981170653387\n",
      "0.9201103929320147\n",
      "0.9338564698145776\n",
      "0.9997106071145954\n",
      "0.973038015778139\n",
      "0.999409631569806\n",
      "0.9789774391643973\n",
      "0.9951663374265125\n",
      "0.9754476217335999\n",
      "0.9081766160106243\n",
      "0.9674772779624763\n",
      "0.9720057137114998\n",
      "0.9677071513853109\n",
      "0.9991165034195948\n",
      "0.9938646617197099\n",
      "0.9999775918088583\n",
      "0.9972530715020634\n",
      "0.9969078910305134\n",
      "0.9992074789824096\n",
      "0.9994737025097786\n",
      "0.9560732178052667\n",
      "0.9482491205090653\n",
      "0.9722211188654968\n",
      "0.9943219018509414\n",
      "0.9586714930645337\n",
      "0.9623735595572008\n",
      "0.8628657072604752\n",
      "0.9365383497494936\n",
      "0.9818371019606126\n",
      "0.9838443941094615\n",
      "0.9800212542325732\n",
      "0.9988120167400862\n",
      "0.9995262559328253\n",
      "0.9981543955808707\n",
      "0.9997198352382681\n",
      "0.9986718652530803\n",
      "0.999717078619639\n",
      "0.999473635414206\n",
      "0.9999524013611508\n",
      "0.9996951688471764\n",
      "0.999717078619639\n",
      "0.9994700522152077\n",
      "0.9714721189514899\n",
      "0.979749179368997\n",
      "0.9659343431620994\n",
      "0.9663701855858\n",
      "0.9801198224524954\n",
      "0.9915066477055795\n",
      "0.9945440498054632\n",
      "0.9721334439783604\n",
      "0.9693759851587799\n",
      "0.9841401423266994\n",
      "0.985305740582507\n",
      "0.9662395971107903\n",
      "0.8564018497970568\n",
      "0.8977343398169718\n",
      "0.8703195525713652\n",
      "0.888006062357314\n",
      "0.8761064130170777\n",
      "0.9004591708297296\n",
      "0.9356849651382314\n",
      "0.8718239766011873\n"
     ]
    }
   ],
   "source": [
    "\n",
    "cross_validation (clf, data[:,lis[0]], y)"
   ]
  },
  {
   "cell_type": "code",
   "execution_count": null,
   "metadata": {},
   "outputs": [],
   "source": [
    "ara = np.array([])\n"
   ]
  }
 ],
 "metadata": {
  "kernelspec": {
   "display_name": "Python 3",
   "language": "python",
   "name": "python3"
  },
  "language_info": {
   "codemirror_mode": {
    "name": "ipython",
    "version": 3
   },
   "file_extension": ".py",
   "mimetype": "text/x-python",
   "name": "python",
   "nbconvert_exporter": "python",
   "pygments_lexer": "ipython3",
   "version": "3.7.3"
  }
 },
 "nbformat": 4,
 "nbformat_minor": 2
}
