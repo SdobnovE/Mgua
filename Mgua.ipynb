{
 "cells": [
  {
   "cell_type": "code",
   "execution_count": 440,
   "metadata": {},
   "outputs": [],
   "source": [
    "import numpy as np\n",
    "from sklearn.linear_model import LinearRegression\n",
    "import io\n",
    "import seaborn as sns\n",
    "import pandas as pd\n",
    "import os\n",
    "from sklearn.model_selection import train_test_split"
   ]
  },
  {
   "cell_type": "code",
   "execution_count": 441,
   "metadata": {},
   "outputs": [],
   "source": [
    "data = np.loadtxt(\"alkan/ALKAN.BLD\")\n"
   ]
  },
  {
   "cell_type": "code",
   "execution_count": 442,
   "metadata": {},
   "outputs": [
    {
     "data": {
      "text/plain": [
       "array([[ 2.,  1.,  0., ...,  2.,  1.,  1.],\n",
       "       [ 2.,  0.,  2., ...,  5.,  2.,  1.],\n",
       "       [ 2.,  0.,  2., ..., 10.,  4.,  2.],\n",
       "       ...,\n",
       "       [ 6.,  0.,  0., ..., 31., 13.,  2.],\n",
       "       [ 6.,  0.,  0., ..., 32., 14.,  2.],\n",
       "       [ 6.,  0.,  0., ..., 30., 12.,  2.]])"
      ]
     },
     "execution_count": 442,
     "metadata": {},
     "output_type": "execute_result"
    }
   ],
   "source": [
    "data"
   ]
  },
  {
   "cell_type": "code",
   "execution_count": 443,
   "metadata": {},
   "outputs": [
    {
     "data": {
      "text/plain": [
       "(74, 210)"
      ]
     },
     "execution_count": 443,
     "metadata": {},
     "output_type": "execute_result"
    }
   ],
   "source": [
    "data.shape"
   ]
  },
  {
   "cell_type": "code",
   "execution_count": 444,
   "metadata": {},
   "outputs": [],
   "source": [
    "n = data.shape[0]\n",
    "m = data.shape[1]"
   ]
  },
  {
   "cell_type": "code",
   "execution_count": 445,
   "metadata": {},
   "outputs": [
    {
     "data": {
      "text/plain": [
       "(74, 210)"
      ]
     },
     "execution_count": 445,
     "metadata": {},
     "output_type": "execute_result"
    }
   ],
   "source": [
    "(n,m)"
   ]
  },
  {
   "cell_type": "code",
   "execution_count": 446,
   "metadata": {},
   "outputs": [],
   "source": [
    "l = []\n",
    "word = 'A1 '\n",
    "with open('alkan/set-str/ALKAN.SET') as file:\n",
    "    for line in file:\n",
    "        if (word in line):\n",
    "            ape = float(line.split()[1])\n",
    "            l.append(ape)"
   ]
  },
  {
   "cell_type": "code",
   "execution_count": 447,
   "metadata": {},
   "outputs": [
    {
     "name": "stdout",
     "output_type": "stream",
     "text": [
      "Num_features = 74\n",
      "feature 0 = -88.63\n",
      "feature 1 = -42.07\n",
      "feature 2 = -0.5\n",
      "feature 3 = -11.73\n",
      "feature 4 = 36.074\n",
      "feature 5 = 27.852\n",
      "feature 6 = 9.503\n",
      "feature 7 = 68.74\n",
      "feature 8 = 60.271\n",
      "feature 9 = 63.282\n"
     ]
    }
   ],
   "source": [
    "print(\"Num_features =\", len(l))\n",
    "for i in range(min(len(l), 10)):\n",
    "    print(\"feature\", i,\"=\", l[i])"
   ]
  },
  {
   "cell_type": "code",
   "execution_count": 448,
   "metadata": {},
   "outputs": [
    {
     "data": {
      "text/plain": [
       "(74,)"
      ]
     },
     "execution_count": 448,
     "metadata": {},
     "output_type": "execute_result"
    }
   ],
   "source": [
    "y = np.array(l)\n",
    "y.shape"
   ]
  },
  {
   "cell_type": "code",
   "execution_count": 449,
   "metadata": {},
   "outputs": [
    {
     "data": {
      "text/plain": [
       "array([-88.63 , -42.07 ,  -0.5  , -11.73 ,  36.074,  27.852,   9.503,\n",
       "        68.74 ,  60.271,  63.282,  49.741,  57.988,  98.427,  90.052,\n",
       "        91.85 ,  93.475,  79.197,  89.784,  80.5  ,  86.064,  80.882,\n",
       "       125.665, 117.647, 118.925, 117.709, 118.534, 106.84 , 115.607,\n",
       "       109.429, 109.103, 111.969, 117.725, 115.65 , 118.259, 109.841,\n",
       "        99.238, 114.76 , 113.467, 106.47 , 150.798, 143.26 , 144.18 ,\n",
       "       142.48 , 143.   , 141.2  , 132.69 , 140.5  , 133.5  , 136.   ,\n",
       "       135.21 , 137.3  , 140.6  , 136.   , 135.2  , 138.   , 133.8  ,\n",
       "       140.6  , 140.4  , 133.6  , 126.54 , 124.084, 137.68 , 139.   ,\n",
       "       131.34 , 130.648, 140.46 , 146.168, 133.83 , 142.   , 136.73 ,\n",
       "       140.274, 133.016, 122.284, 141.551])"
      ]
     },
     "execution_count": 449,
     "metadata": {},
     "output_type": "execute_result"
    }
   ],
   "source": [
    "y"
   ]
  },
  {
   "cell_type": "code",
   "execution_count": 450,
   "metadata": {},
   "outputs": [],
   "source": [
    "def R_rise_2 (Eps, y, y_mean):\n",
    "    result1 = np.sum(Eps**2)\n",
    "    result2 = np.sum((y-y.mean())**2)\n",
    "    return 1 - result1 / result2\n",
    "\n",
    "\n",
    "def Correlation(X, Y):\n",
    "    X_mean = X.sum() / X.shape[0]\n",
    "    Y_mean = Y.sum() / Y.shape[0]\n",
    "    res = ((X - X_mean) * (Y - Y_mean)).sum()\n",
    "    res1 = (((X - X_mean) ** 2)) \n",
    "    res2 = (((Y - Y_mean) ** 2)) \n",
    "    \n",
    "    return  res / (((res1.sum() * res2.sum())) ** 0.5)"
   ]
  },
  {
   "cell_type": "code",
   "execution_count": 451,
   "metadata": {},
   "outputs": [],
   "source": [
    "size_buf = 10\n",
    "num_selections = 10\n",
    "min_correlation = 0.95\n",
    "#100\n",
    "#15"
   ]
  },
  {
   "cell_type": "code",
   "execution_count": 452,
   "metadata": {},
   "outputs": [],
   "source": [
    "model = LinearRegression()"
   ]
  },
  {
   "cell_type": "code",
   "execution_count": 453,
   "metadata": {},
   "outputs": [
    {
     "data": {
      "text/plain": [
       "array([0.09285714, 0.1907381 , 0.33778095, 0.31322381, 0.53822857,\n",
       "       0.50626667, 0.46634762, 0.79669048, 0.74421905, 0.74644286,\n",
       "       0.7040619 , 0.69749048, 1.11633333, 1.06962381, 1.06011905,\n",
       "       1.02632381, 0.99708095, 0.99303333, 1.00302857, 0.9837381 ,\n",
       "       0.93640952, 1.494     , 1.42669524, 1.41860952, 1.43021905,\n",
       "       1.40549524, 1.36054762, 1.37269524, 1.3561    , 1.37696667,\n",
       "       1.35222857, 1.3351619 , 1.32382381, 1.3034619 , 1.2579381 ,\n",
       "       1.27928095, 1.27077619, 1.29133333, 1.18765238, 1.95123333,\n",
       "       1.87832857, 1.85914286, 1.87329524, 1.82781905, 1.83665714,\n",
       "       1.78150476, 1.79542857, 1.79074286, 1.78900476, 1.79551905,\n",
       "       1.7769    , 1.77144762, 1.76990952, 1.77332857, 1.76851429,\n",
       "       1.76265714, 1.73765238, 1.7309    , 1.70322857, 1.6973619 ,\n",
       "       1.72905238, 1.70461429, 1.6983381 , 1.73022857, 1.69916667,\n",
       "       1.66721429, 1.67419048, 1.63922857, 1.64113333, 1.67244286,\n",
       "       1.5761619 , 1.60750476, 1.60711429, 1.60879524])"
      ]
     },
     "execution_count": 453,
     "metadata": {},
     "output_type": "execute_result"
    }
   ],
   "source": [
    "y_mean = data.sum(axis = 1)\n",
    "y_mean = y_mean / m\n",
    "y_mean"
   ]
  },
  {
   "cell_type": "code",
   "execution_count": 454,
   "metadata": {},
   "outputs": [
    {
     "data": {
      "text/plain": [
       "(10, 74, 10)"
      ]
     },
     "execution_count": 454,
     "metadata": {},
     "output_type": "execute_result"
    }
   ],
   "source": [
    "buf_r = np.array([0.0 for i in range(size_buf)])\n",
    "\n",
    "iter_buf = 0\n",
    "\n",
    "buf_numbers = np.array([[-1 for i in range(size_buf)] for k in range(num_selections)])\n",
    "buf_numbers_1 = np.array([[-1 for i in range(size_buf)] for k in range(num_selections)])\n",
    "\n",
    "buf = np.array([[[float(i) for i in range(size_buf)] for j in range(n)] for k in range(num_selections)])\n",
    "\n",
    "X1 = np.array([[float(i) for i in range(1)] for j in range(n)])\n",
    "X2 = np.array([[float(i) for i in range(2)] for j in range(n)])\n",
    "buf.shape"
   ]
  },
  {
   "cell_type": "code",
   "execution_count": 455,
   "metadata": {},
   "outputs": [
    {
     "name": "stdout",
     "output_type": "stream",
     "text": [
      "[[205 209 190 201 188 192 203 191 193 194]\n",
      " [ -1  -1  -1  -1  -1  -1  -1  -1  -1  -1]\n",
      " [ -1  -1  -1  -1  -1  -1  -1  -1  -1  -1]\n",
      " [ -1  -1  -1  -1  -1  -1  -1  -1  -1  -1]\n",
      " [ -1  -1  -1  -1  -1  -1  -1  -1  -1  -1]\n",
      " [ -1  -1  -1  -1  -1  -1  -1  -1  -1  -1]\n",
      " [ -1  -1  -1  -1  -1  -1  -1  -1  -1  -1]\n",
      " [ -1  -1  -1  -1  -1  -1  -1  -1  -1  -1]\n",
      " [ -1  -1  -1  -1  -1  -1  -1  -1  -1  -1]\n",
      " [ -1  -1  -1  -1  -1  -1  -1  -1  -1  -1]]\n",
      "\n",
      "\n",
      "\n",
      "CPU times: user 642 ms, sys: 3.84 ms, total: 646 ms\n",
      "Wall time: 163 ms\n"
     ]
    }
   ],
   "source": [
    "%%time\n",
    "for i in range(m):\n",
    "    X1[:,0] = data[:,i]\n",
    "    model.fit(X1, y)\n",
    "    if iter_buf < size_buf:\n",
    "            tmp = model.predict(X1)\n",
    "            buf_r[iter_buf] = R_rise_2(y - tmp, y, y_mean)\n",
    "            buf_numbers[0, iter_buf] = i\n",
    "            buf[0, :, iter_buf] = tmp[:]\n",
    "            iter_buf += 1\n",
    "            \n",
    "    else:\n",
    "            tmp = model.predict(X1)\n",
    "            ind = buf_r.argmin()\n",
    "            ar = np.array([])\n",
    "            for j in range (buf.shape[2]):\n",
    "                t = Correlation (buf[0, :,j], tmp)\n",
    "                ar = np.append (ar, t)\n",
    "                \n",
    "            if (ar.max() < min_correlation) and (buf_r[ind] < R_rise_2(y - tmp, y, y_mean)): \n",
    "                buf_r[ind] = R_rise_2(y - tmp, y, y_mean)\n",
    "                buf_numbers[0, ind] = i\n",
    "                buf[0, :, ind] = tmp[:]\n",
    "buf_numbers_1[0, :] = -2\n",
    "print(buf_numbers, end=\"\\n\\n\\n\\n\")"
   ]
  },
  {
   "cell_type": "code",
   "execution_count": 456,
   "metadata": {
    "scrolled": true
   },
   "outputs": [
    {
     "name": "stdout",
     "output_type": "stream",
     "text": [
      "selection 2 from 10\n",
      "selection 3 from 10\n",
      "selection 4 from 10\n",
      "selection 5 from 10\n",
      "selection 6 from 10\n",
      "selection 7 from 10\n",
      "selection 8 from 10\n",
      "selection 9 from 10\n",
      "selection 10 from 10\n",
      "CPU times: user 55.5 s, sys: 756 ms, total: 56.3 s\n",
      "Wall time: 14.1 s\n"
     ]
    }
   ],
   "source": [
    "%%time\n",
    "for k in range (1, num_selections):\n",
    "    iter_buf = 0\n",
    "    for i in range(size_buf):\n",
    "        for j in range(i + 1, m):\n",
    "            #print(data[:,i].shape)\n",
    "            X2[:, 0] = buf[k - 1, :, i]\n",
    "            X2[:, 1] = data[:, j]\n",
    "            model.fit(X2, y)\n",
    "            if iter_buf < size_buf:\n",
    "                tmp = model.predict(X2)\n",
    "                buf_r[iter_buf] = R_rise_2(y - tmp, y, y_mean)\n",
    "                buf_numbers[k, iter_buf] = j\n",
    "                buf_numbers_1[k, iter_buf] = i\n",
    "                buf[k, :,iter_buf] = tmp[:]\n",
    "                iter_buf += 1\n",
    "\n",
    "            else:\n",
    "                tmp = model.predict(X2)\n",
    "                ind = buf_r.argmin()\n",
    "                ar = np.array([])\n",
    "                for j in range (buf.shape[2]):\n",
    "                    t = Correlation (buf[0, :,j], tmp)\n",
    "                    ar = np.append (ar, t)\n",
    "                if (ar.max() < min_correlation) and (buf_r[ind] < R_rise_2(y - tmp, y, y_mean)):\n",
    "                    buf_r[ind] = R_rise_2(y - tmp, y, y_mean)\n",
    "                    buf_numbers[k, ind] = j\n",
    "                    buf_numbers_1[k, ind] = i\n",
    "                    buf[k, :, ind] = tmp[:]\n",
    "\n",
    "    print(\"selection\", k + 1, \"from\", num_selections)"
   ]
  },
  {
   "cell_type": "code",
   "execution_count": 457,
   "metadata": {},
   "outputs": [
    {
     "data": {
      "text/plain": [
       "array([[205, 209, 190, 201, 188, 192, 203, 191, 193, 194],\n",
       "       [  9,   9,   9,   9,   9,   9,   9,   9,   9,   9],\n",
       "       [  9,   9,   9,   9,   9,   9,   9,   9,   9,   9],\n",
       "       [  1,   2,   3,   4,   9,   6,   9,   8,   9,   9],\n",
       "       [  9,   2,   3,   4,   5,   6,   9,   8,   9,  10],\n",
       "       [  9,   2,   3,   4,   5,   6,   9,   8,   9,  10],\n",
       "       [  9,   2,   3,   4,   5,   6,   7,   8,   9,  10],\n",
       "       [  1,   2,   3,   4,   5,   6,   7,   8,   9,  10],\n",
       "       [  1,   2,   3,   4,   5,   6,   7,   8,   9,  10],\n",
       "       [  1,   2,   3,   4,   5,   6,   7,   8,   9,  10]])"
      ]
     },
     "execution_count": 457,
     "metadata": {},
     "output_type": "execute_result"
    }
   ],
   "source": [
    "buf_numbers"
   ]
  },
  {
   "cell_type": "code",
   "execution_count": 458,
   "metadata": {},
   "outputs": [
    {
     "data": {
      "text/plain": [
       "array([[-2, -2, -2, -2, -2, -2, -2, -2, -2, -2],\n",
       "       [ 8,  8,  7,  1,  0,  7,  9,  0,  2,  1],\n",
       "       [ 5,  4,  5,  5,  5,  7,  7,  5,  7,  7],\n",
       "       [ 0,  0,  0,  0,  0,  0,  5,  0,  0,  5],\n",
       "       [ 0,  0,  0,  0,  0,  0,  0,  0,  0,  0],\n",
       "       [ 6,  0,  0,  0,  0,  0,  0,  0,  6,  0],\n",
       "       [ 0,  0,  0,  0,  0,  0,  0,  0,  0,  0],\n",
       "       [ 0,  0,  0,  0,  0,  0,  0,  0,  0,  0],\n",
       "       [ 0,  0,  0,  0,  0,  0,  0,  0,  0,  0],\n",
       "       [ 0,  0,  0,  0,  0,  0,  0,  0,  0,  0]])"
      ]
     },
     "execution_count": 458,
     "metadata": {},
     "output_type": "execute_result"
    }
   ],
   "source": [
    "buf_numbers_1"
   ]
  },
  {
   "cell_type": "code",
   "execution_count": 459,
   "metadata": {},
   "outputs": [],
   "source": [
    "lis = []\n",
    "for i in range(size_buf):\n",
    "    lis.append([buf_numbers[num_selections - 1][i]])\n"
   ]
  },
  {
   "cell_type": "code",
   "execution_count": 460,
   "metadata": {},
   "outputs": [],
   "source": [
    "for i in range(num_selections - 1, 1, -1):\n",
    "    #print(i)\n",
    "    for j in range(size_buf):\n",
    "        lis[j].append(buf_numbers[i - 1][buf_numbers_1[i,j]])\n",
    "\n"
   ]
  },
  {
   "cell_type": "code",
   "execution_count": 461,
   "metadata": {},
   "outputs": [],
   "source": [
    "for i in range(size_buf):\n",
    "    lis[i].append(buf_numbers[0][i])"
   ]
  },
  {
   "cell_type": "code",
   "execution_count": 462,
   "metadata": {},
   "outputs": [
    {
     "name": "stdout",
     "output_type": "stream",
     "text": [
      "[1, 1, 1, 1, 9, 9, 9, 9, 9, 205]\n",
      "[1, 1, 1, 2, 9, 9, 9, 9, 9, 209]\n",
      "[1, 1, 1, 3, 9, 9, 9, 9, 9, 190]\n",
      "[1, 1, 1, 4, 9, 9, 9, 9, 9, 201]\n",
      "[1, 1, 1, 5, 9, 9, 9, 9, 9, 188]\n",
      "[1, 1, 1, 6, 9, 9, 9, 9, 9, 192]\n",
      "[1, 1, 1, 7, 9, 9, 9, 9, 9, 203]\n",
      "[1, 1, 1, 8, 9, 9, 9, 9, 9, 191]\n",
      "[1, 1, 1, 9, 9, 9, 9, 9, 9, 193]\n",
      "[1, 1, 1, 9, 9, 9, 9, 9, 10, 194]\n"
     ]
    }
   ],
   "source": [
    "for i in range(size_buf):\n",
    "    lis[i].sort()\n",
    "    print(lis[i])"
   ]
  },
  {
   "cell_type": "code",
   "execution_count": 490,
   "metadata": {},
   "outputs": [
    {
     "name": "stderr",
     "output_type": "stream",
     "text": [
      "/home/evgeny/anaconda3/lib/python3.7/site-packages/sklearn/model_selection/_split.py:2179: FutureWarning: From version 0.21, test_size will always complement train_size unless both are specified.\n",
      "  FutureWarning)\n"
     ]
    },
    {
     "data": {
      "text/plain": [
       "-23.490917650049887"
      ]
     },
     "execution_count": 490,
     "metadata": {},
     "output_type": "execute_result"
    }
   ],
   "source": [
    "clf = LinearRegression()\n",
    "X_train, X_test, y_train, y_test = train_test_split(data, y, train_size=0.8)\n",
    "clf.fit(X_train, y_train)\n",
    "clf.score(X_test, y_test)"
   ]
  },
  {
   "cell_type": "code",
   "execution_count": 491,
   "metadata": {},
   "outputs": [
    {
     "name": "stdout",
     "output_type": "stream",
     "text": [
      "-0.267549596598476\n",
      "-0.39420986385486056\n",
      "0.1310638944407816\n",
      "0.4988112606781413\n",
      "0.8977564893602197\n",
      "-0.16435131778328627\n",
      "0.8053959708674858\n",
      "0.2584721483019087\n",
      "-0.3538475229365876\n",
      "-0.25781783619116494\n"
     ]
    }
   ],
   "source": [
    "for i in range(size_buf):\n",
    "    clf.fit(X_train[:,np.unique(lis[i])], y_train)\n",
    "    print(clf.score(X_test[:,np.unique(lis[i])], y_test))"
   ]
  },
  {
   "cell_type": "code",
   "execution_count": null,
   "metadata": {},
   "outputs": [],
   "source": []
  },
  {
   "cell_type": "code",
   "execution_count": 477,
   "metadata": {},
   "outputs": [],
   "source": [
    "X1 = np.array([1,2,3,4,5,6,7,8,9,10,11,12,13,14,15,16,17,18,19,20])\n",
    "Y1 = np.array([1,2,3,4,5,6,7123,8,9,10,11,12,13,14,15,16,17,18,19,20])"
   ]
  },
  {
   "cell_type": "code",
   "execution_count": 478,
   "metadata": {},
   "outputs": [
    {
     "data": {
      "text/plain": [
       "-0.13560132351873908"
      ]
     },
     "execution_count": 478,
     "metadata": {},
     "output_type": "execute_result"
    }
   ],
   "source": [
    "Correlation(Y1, X1)"
   ]
  },
  {
   "cell_type": "code",
   "execution_count": 479,
   "metadata": {},
   "outputs": [
    {
     "data": {
      "text/plain": [
       "0.0625"
      ]
     },
     "execution_count": 479,
     "metadata": {},
     "output_type": "execute_result"
    }
   ],
   "source": [
    "0.25 **2\n"
   ]
  },
  {
   "cell_type": "code",
   "execution_count": 480,
   "metadata": {},
   "outputs": [
    {
     "data": {
      "text/plain": [
       "(2, 210)"
      ]
     },
     "execution_count": 480,
     "metadata": {},
     "output_type": "execute_result"
    }
   ],
   "source": [
    "clf.fit(data[1:-1,:], y[1:-1])\n",
    "data[0:2,:].shape"
   ]
  },
  {
   "cell_type": "code",
   "execution_count": 483,
   "metadata": {},
   "outputs": [
    {
     "ename": "TypeError",
     "evalue": "Singleton array -88.63 cannot be considered a valid collection.",
     "output_type": "error",
     "traceback": [
      "\u001b[0;31m---------------------------------------------------------------------------\u001b[0m",
      "\u001b[0;31mTypeError\u001b[0m                                 Traceback (most recent call last)",
      "\u001b[0;32m<ipython-input-483-019540af9e57>\u001b[0m in \u001b[0;36m<module>\u001b[0;34m\u001b[0m\n\u001b[1;32m     11\u001b[0m     \u001b[0;32mreturn\u001b[0m \u001b[0mnp\u001b[0m\u001b[0;34m.\u001b[0m\u001b[0marray\u001b[0m\u001b[0;34m(\u001b[0m\u001b[0mlis\u001b[0m\u001b[0;34m)\u001b[0m\u001b[0;34m\u001b[0m\u001b[0;34m\u001b[0m\u001b[0m\n\u001b[1;32m     12\u001b[0m \u001b[0;34m\u001b[0m\u001b[0m\n\u001b[0;32m---> 13\u001b[0;31m \u001b[0ma1\u001b[0m \u001b[0;34m=\u001b[0m \u001b[0mcross_validation\u001b[0m \u001b[0;34m(\u001b[0m\u001b[0mclf\u001b[0m\u001b[0;34m,\u001b[0m \u001b[0mdata\u001b[0m\u001b[0;34m,\u001b[0m \u001b[0my\u001b[0m\u001b[0;34m)\u001b[0m\u001b[0;34m\u001b[0m\u001b[0;34m\u001b[0m\u001b[0m\n\u001b[0m",
      "\u001b[0;32m<ipython-input-483-019540af9e57>\u001b[0m in \u001b[0;36mcross_validation\u001b[0;34m(clf, data, y)\u001b[0m\n\u001b[1;32m      7\u001b[0m         \u001b[0my_1\u001b[0m \u001b[0;34m=\u001b[0m \u001b[0my\u001b[0m\u001b[0;34m[\u001b[0m\u001b[0mi\u001b[0m\u001b[0;34m]\u001b[0m\u001b[0;34m\u001b[0m\u001b[0;34m\u001b[0m\u001b[0m\n\u001b[1;32m      8\u001b[0m         \u001b[0mclf\u001b[0m\u001b[0;34m.\u001b[0m\u001b[0mfit\u001b[0m \u001b[0;34m(\u001b[0m\u001b[0mdata\u001b[0m\u001b[0;34m,\u001b[0m \u001b[0my\u001b[0m\u001b[0;34m)\u001b[0m\u001b[0;34m\u001b[0m\u001b[0;34m\u001b[0m\u001b[0m\n\u001b[0;32m----> 9\u001b[0;31m         \u001b[0mprint\u001b[0m\u001b[0;34m(\u001b[0m\u001b[0mclf\u001b[0m\u001b[0;34m.\u001b[0m\u001b[0mscore\u001b[0m\u001b[0;34m(\u001b[0m\u001b[0md\u001b[0m\u001b[0;34m,\u001b[0m \u001b[0my_1\u001b[0m\u001b[0;34m)\u001b[0m\u001b[0;34m)\u001b[0m\u001b[0;34m\u001b[0m\u001b[0;34m\u001b[0m\u001b[0m\n\u001b[0m\u001b[1;32m     10\u001b[0m         \u001b[0mlis\u001b[0m\u001b[0;34m.\u001b[0m\u001b[0mappend\u001b[0m\u001b[0;34m(\u001b[0m\u001b[0mclf\u001b[0m\u001b[0;34m.\u001b[0m\u001b[0mscore\u001b[0m\u001b[0;34m(\u001b[0m\u001b[0md\u001b[0m\u001b[0;34m,\u001b[0m \u001b[0my_1\u001b[0m\u001b[0;34m)\u001b[0m\u001b[0;34m)\u001b[0m\u001b[0;34m\u001b[0m\u001b[0;34m\u001b[0m\u001b[0m\n\u001b[1;32m     11\u001b[0m     \u001b[0;32mreturn\u001b[0m \u001b[0mnp\u001b[0m\u001b[0;34m.\u001b[0m\u001b[0marray\u001b[0m\u001b[0;34m(\u001b[0m\u001b[0mlis\u001b[0m\u001b[0;34m)\u001b[0m\u001b[0;34m\u001b[0m\u001b[0;34m\u001b[0m\u001b[0m\n",
      "\u001b[0;32m~/anaconda3/lib/python3.7/site-packages/sklearn/base.py\u001b[0m in \u001b[0;36mscore\u001b[0;34m(self, X, y, sample_weight)\u001b[0m\n\u001b[1;32m    329\u001b[0m         \u001b[0;32mfrom\u001b[0m \u001b[0;34m.\u001b[0m\u001b[0mmetrics\u001b[0m \u001b[0;32mimport\u001b[0m \u001b[0mr2_score\u001b[0m\u001b[0;34m\u001b[0m\u001b[0;34m\u001b[0m\u001b[0m\n\u001b[1;32m    330\u001b[0m         return r2_score(y, self.predict(X), sample_weight=sample_weight,\n\u001b[0;32m--> 331\u001b[0;31m                         multioutput='variance_weighted')\n\u001b[0m\u001b[1;32m    332\u001b[0m \u001b[0;34m\u001b[0m\u001b[0m\n\u001b[1;32m    333\u001b[0m \u001b[0;34m\u001b[0m\u001b[0m\n",
      "\u001b[0;32m~/anaconda3/lib/python3.7/site-packages/sklearn/metrics/regression.py\u001b[0m in \u001b[0;36mr2_score\u001b[0;34m(y_true, y_pred, sample_weight, multioutput)\u001b[0m\n\u001b[1;32m    532\u001b[0m     \"\"\"\n\u001b[1;32m    533\u001b[0m     y_type, y_true, y_pred, multioutput = _check_reg_targets(\n\u001b[0;32m--> 534\u001b[0;31m         y_true, y_pred, multioutput)\n\u001b[0m\u001b[1;32m    535\u001b[0m     \u001b[0mcheck_consistent_length\u001b[0m\u001b[0;34m(\u001b[0m\u001b[0my_true\u001b[0m\u001b[0;34m,\u001b[0m \u001b[0my_pred\u001b[0m\u001b[0;34m,\u001b[0m \u001b[0msample_weight\u001b[0m\u001b[0;34m)\u001b[0m\u001b[0;34m\u001b[0m\u001b[0;34m\u001b[0m\u001b[0m\n\u001b[1;32m    536\u001b[0m \u001b[0;34m\u001b[0m\u001b[0m\n",
      "\u001b[0;32m~/anaconda3/lib/python3.7/site-packages/sklearn/metrics/regression.py\u001b[0m in \u001b[0;36m_check_reg_targets\u001b[0;34m(y_true, y_pred, multioutput)\u001b[0m\n\u001b[1;32m     73\u001b[0m \u001b[0;34m\u001b[0m\u001b[0m\n\u001b[1;32m     74\u001b[0m     \"\"\"\n\u001b[0;32m---> 75\u001b[0;31m     \u001b[0mcheck_consistent_length\u001b[0m\u001b[0;34m(\u001b[0m\u001b[0my_true\u001b[0m\u001b[0;34m,\u001b[0m \u001b[0my_pred\u001b[0m\u001b[0;34m)\u001b[0m\u001b[0;34m\u001b[0m\u001b[0;34m\u001b[0m\u001b[0m\n\u001b[0m\u001b[1;32m     76\u001b[0m     \u001b[0my_true\u001b[0m \u001b[0;34m=\u001b[0m \u001b[0mcheck_array\u001b[0m\u001b[0;34m(\u001b[0m\u001b[0my_true\u001b[0m\u001b[0;34m,\u001b[0m \u001b[0mensure_2d\u001b[0m\u001b[0;34m=\u001b[0m\u001b[0;32mFalse\u001b[0m\u001b[0;34m)\u001b[0m\u001b[0;34m\u001b[0m\u001b[0;34m\u001b[0m\u001b[0m\n\u001b[1;32m     77\u001b[0m     \u001b[0my_pred\u001b[0m \u001b[0;34m=\u001b[0m \u001b[0mcheck_array\u001b[0m\u001b[0;34m(\u001b[0m\u001b[0my_pred\u001b[0m\u001b[0;34m,\u001b[0m \u001b[0mensure_2d\u001b[0m\u001b[0;34m=\u001b[0m\u001b[0;32mFalse\u001b[0m\u001b[0;34m)\u001b[0m\u001b[0;34m\u001b[0m\u001b[0;34m\u001b[0m\u001b[0m\n",
      "\u001b[0;32m~/anaconda3/lib/python3.7/site-packages/sklearn/utils/validation.py\u001b[0m in \u001b[0;36mcheck_consistent_length\u001b[0;34m(*arrays)\u001b[0m\n\u001b[1;32m    229\u001b[0m     \"\"\"\n\u001b[1;32m    230\u001b[0m \u001b[0;34m\u001b[0m\u001b[0m\n\u001b[0;32m--> 231\u001b[0;31m     \u001b[0mlengths\u001b[0m \u001b[0;34m=\u001b[0m \u001b[0;34m[\u001b[0m\u001b[0m_num_samples\u001b[0m\u001b[0;34m(\u001b[0m\u001b[0mX\u001b[0m\u001b[0;34m)\u001b[0m \u001b[0;32mfor\u001b[0m \u001b[0mX\u001b[0m \u001b[0;32min\u001b[0m \u001b[0marrays\u001b[0m \u001b[0;32mif\u001b[0m \u001b[0mX\u001b[0m \u001b[0;32mis\u001b[0m \u001b[0;32mnot\u001b[0m \u001b[0;32mNone\u001b[0m\u001b[0;34m]\u001b[0m\u001b[0;34m\u001b[0m\u001b[0;34m\u001b[0m\u001b[0m\n\u001b[0m\u001b[1;32m    232\u001b[0m     \u001b[0muniques\u001b[0m \u001b[0;34m=\u001b[0m \u001b[0mnp\u001b[0m\u001b[0;34m.\u001b[0m\u001b[0munique\u001b[0m\u001b[0;34m(\u001b[0m\u001b[0mlengths\u001b[0m\u001b[0;34m)\u001b[0m\u001b[0;34m\u001b[0m\u001b[0;34m\u001b[0m\u001b[0m\n\u001b[1;32m    233\u001b[0m     \u001b[0;32mif\u001b[0m \u001b[0mlen\u001b[0m\u001b[0;34m(\u001b[0m\u001b[0muniques\u001b[0m\u001b[0;34m)\u001b[0m \u001b[0;34m>\u001b[0m \u001b[0;36m1\u001b[0m\u001b[0;34m:\u001b[0m\u001b[0;34m\u001b[0m\u001b[0;34m\u001b[0m\u001b[0m\n",
      "\u001b[0;32m~/anaconda3/lib/python3.7/site-packages/sklearn/utils/validation.py\u001b[0m in \u001b[0;36m<listcomp>\u001b[0;34m(.0)\u001b[0m\n\u001b[1;32m    229\u001b[0m     \"\"\"\n\u001b[1;32m    230\u001b[0m \u001b[0;34m\u001b[0m\u001b[0m\n\u001b[0;32m--> 231\u001b[0;31m     \u001b[0mlengths\u001b[0m \u001b[0;34m=\u001b[0m \u001b[0;34m[\u001b[0m\u001b[0m_num_samples\u001b[0m\u001b[0;34m(\u001b[0m\u001b[0mX\u001b[0m\u001b[0;34m)\u001b[0m \u001b[0;32mfor\u001b[0m \u001b[0mX\u001b[0m \u001b[0;32min\u001b[0m \u001b[0marrays\u001b[0m \u001b[0;32mif\u001b[0m \u001b[0mX\u001b[0m \u001b[0;32mis\u001b[0m \u001b[0;32mnot\u001b[0m \u001b[0;32mNone\u001b[0m\u001b[0;34m]\u001b[0m\u001b[0;34m\u001b[0m\u001b[0;34m\u001b[0m\u001b[0m\n\u001b[0m\u001b[1;32m    232\u001b[0m     \u001b[0muniques\u001b[0m \u001b[0;34m=\u001b[0m \u001b[0mnp\u001b[0m\u001b[0;34m.\u001b[0m\u001b[0munique\u001b[0m\u001b[0;34m(\u001b[0m\u001b[0mlengths\u001b[0m\u001b[0;34m)\u001b[0m\u001b[0;34m\u001b[0m\u001b[0;34m\u001b[0m\u001b[0m\n\u001b[1;32m    233\u001b[0m     \u001b[0;32mif\u001b[0m \u001b[0mlen\u001b[0m\u001b[0;34m(\u001b[0m\u001b[0muniques\u001b[0m\u001b[0;34m)\u001b[0m \u001b[0;34m>\u001b[0m \u001b[0;36m1\u001b[0m\u001b[0;34m:\u001b[0m\u001b[0;34m\u001b[0m\u001b[0;34m\u001b[0m\u001b[0m\n",
      "\u001b[0;32m~/anaconda3/lib/python3.7/site-packages/sklearn/utils/validation.py\u001b[0m in \u001b[0;36m_num_samples\u001b[0;34m(x)\u001b[0m\n\u001b[1;32m    140\u001b[0m         \u001b[0;32mif\u001b[0m \u001b[0mlen\u001b[0m\u001b[0;34m(\u001b[0m\u001b[0mx\u001b[0m\u001b[0;34m.\u001b[0m\u001b[0mshape\u001b[0m\u001b[0;34m)\u001b[0m \u001b[0;34m==\u001b[0m \u001b[0;36m0\u001b[0m\u001b[0;34m:\u001b[0m\u001b[0;34m\u001b[0m\u001b[0;34m\u001b[0m\u001b[0m\n\u001b[1;32m    141\u001b[0m             raise TypeError(\"Singleton array %r cannot be considered\"\n\u001b[0;32m--> 142\u001b[0;31m                             \" a valid collection.\" % x)\n\u001b[0m\u001b[1;32m    143\u001b[0m         \u001b[0;31m# Check that shape is returning an integer or default to len\u001b[0m\u001b[0;34m\u001b[0m\u001b[0;34m\u001b[0m\u001b[0;34m\u001b[0m\u001b[0m\n\u001b[1;32m    144\u001b[0m         \u001b[0;31m# Dask dataframes may not return numeric shape[0] value\u001b[0m\u001b[0;34m\u001b[0m\u001b[0;34m\u001b[0m\u001b[0;34m\u001b[0m\u001b[0m\n",
      "\u001b[0;31mTypeError\u001b[0m: Singleton array -88.63 cannot be considered a valid collection."
     ]
    }
   ],
   "source": [
    "clf = LinearRegression ()\n",
    "#print(y.shape)\n",
    "def cross_validation(clf, data, y):\n",
    "    lis = []\n",
    "    for i in range (data.shape[0]):\n",
    "        d = data[i:i+1,:]\n",
    "        y_1 = y[i]\n",
    "        clf.fit (data, y)\n",
    "        print(clf.score(d, y_1))\n",
    "        lis.append(clf.score(d, y_1))\n",
    "    return np.array(lis)\n",
    "        \n",
    "a1 = cross_validation (clf, data, y)"
   ]
  },
  {
   "cell_type": "code",
   "execution_count": 430,
   "metadata": {},
   "outputs": [],
   "source": [
    "\n",
    "a2 = cross_validation (clf, data[:,np.unique(lis[3])], y)"
   ]
  },
  {
   "cell_type": "code",
   "execution_count": 431,
   "metadata": {},
   "outputs": [
    {
     "name": "stdout",
     "output_type": "stream",
     "text": [
      "1.0 1.0\n",
      "1.0 64.49657388177383\n",
      "1.0 443.78294602128733\n",
      "1.0000013844538134 94.75149058375693\n",
      "1.0 0.9395955776940229\n",
      "0.9999819434353143 -9.544074000363903\n",
      "0.999998575457407 -41.254701639165845\n",
      "1.0 1.0\n",
      "0.9999827920913773 0.9806475110330823\n",
      "0.9999734785262838 0.3481676606577553\n",
      "0.9999863519448567 0.8404553808191191\n",
      "0.9999917529492334 0.8296123709594343\n",
      "1.0 -0.5455277361761743\n",
      "0.9999998751263982 0.99888676662055\n",
      "0.9999787355681794 0.4869508636605152\n",
      "0.9999945495864068 0.35877194805161416\n",
      "0.9999936781058216 -1.1783304296755772\n",
      "0.9999999934745415 0.7918317834089457\n",
      "0.9999998173961425 -1.0476691773950613\n",
      "0.9999800631752885 0.16419270869035363\n",
      "0.9999973879088723 -0.5446601806296238\n",
      "1.0 0.8338886539985713\n",
      "1.0 -0.0826506696739131\n",
      "0.999999621774476 0.9989503823003075\n",
      "0.9999989030485973 -0.6665172535444066\n",
      "0.9999987872439234 0.995326296234427\n",
      "1.0 0.8156635475984607\n",
      "0.9999999454450539 -0.010902054385597104\n",
      "0.9999994626795267 0.3322271736550283\n",
      "1.0 -2.1467416017211214\n",
      "0.9999821137974537 -2.2996834334062157\n",
      "0.9999986319406944 0.249080246238652\n",
      "0.9999981168274339 0.9531655733168112\n",
      "0.9999968183191745 0.1651479272067472\n",
      "0.9999983032095219 -2.080394744440109\n",
      "1.0 0.8173460579933584\n",
      "0.9999979285019538 -2.813237928037685\n",
      "0.9999974357779264 0.49914998858137316\n",
      "1.0 -5.903356483409888\n",
      "1.0 -3.2106696638158256\n",
      "1.0 -4.014008939663657\n",
      "1.0 -0.2612008901036824\n",
      "1.0 0.8314622285297477\n",
      "0.999999921362814 -1.147131541723469\n",
      "0.9999990855449534 0.9218160438249903\n",
      "1.0 0.28788672943499993\n",
      "1.0 0.8970670141023985\n",
      "1.0 0.12582209000963152\n",
      "1.0 -0.8103515817543427\n",
      "1.0 -5.1674979931835265\n",
      "1.0 0.705485697969472\n",
      "1.0 0.33644254105776483\n",
      "1.0 0.920189945029235\n",
      "1.0 -0.9886553282725683\n",
      "0.999999954297582 0.9139919567924863\n",
      "0.99999989013744 -2.2295590925916113\n",
      "0.9999964390110012 0.46246351503545347\n",
      "0.9999997132215424 0.9771550080307427\n",
      "1.0 -1.4018131934170435\n",
      "1.0 0.9989864753122292\n",
      "1.0 -0.8645540833566092\n",
      "1.0 -3.4855381959187097\n",
      "1.0 0.10777041623200734\n",
      "1.0 0.2559566831977944\n",
      "1.0 0.94065726096083\n",
      "1.0 -3.797340828166578\n",
      "0.9999999991594328 0.9914284985941556\n",
      "0.9999996518397167 0.14187729586963116\n",
      "0.9999995814698667 -0.8092936693096224\n",
      "0.9999978720501272 0.9803835472273722\n",
      "1.0 -9.896290194955624\n",
      "1.0 -1.3152307628987634\n",
      "1.0 0.8718178221802896\n",
      "1.0 -4.91742227769033\n"
     ]
    }
   ],
   "source": [
    "for i in range(a1.shape[0]):\n",
    "    print(a1[i], a2[i])\n"
   ]
  },
  {
   "cell_type": "code",
   "execution_count": null,
   "metadata": {},
   "outputs": [],
   "source": []
  },
  {
   "cell_type": "code",
   "execution_count": null,
   "metadata": {},
   "outputs": [],
   "source": []
  },
  {
   "cell_type": "code",
   "execution_count": null,
   "metadata": {},
   "outputs": [],
   "source": []
  },
  {
   "cell_type": "code",
   "execution_count": null,
   "metadata": {},
   "outputs": [],
   "source": []
  },
  {
   "cell_type": "code",
   "execution_count": null,
   "metadata": {},
   "outputs": [],
   "source": []
  }
 ],
 "metadata": {
  "kernelspec": {
   "display_name": "Python 3",
   "language": "python",
   "name": "python3"
  },
  "language_info": {
   "codemirror_mode": {
    "name": "ipython",
    "version": 3
   },
   "file_extension": ".py",
   "mimetype": "text/x-python",
   "name": "python",
   "nbconvert_exporter": "python",
   "pygments_lexer": "ipython3",
   "version": "3.7.3"
  }
 },
 "nbformat": 4,
 "nbformat_minor": 2
}
