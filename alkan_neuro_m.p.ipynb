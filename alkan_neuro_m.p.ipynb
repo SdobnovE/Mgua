{
 "cells": [
  {
   "cell_type": "code",
   "execution_count": 105,
   "metadata": {},
   "outputs": [],
   "source": [
    "import numpy as np\n",
    "from sklearn.linear_model import LinearRegression\n",
    "import io\n",
    "import seaborn as sns\n",
    "import pandas as pd\n",
    "import os\n",
    "from sklearn.model_selection import train_test_split\n",
    "import tensorflow\n",
    "import keras\n",
    "from keras.models import Sequential\n",
    "#нейронная сеть, слои которой соединены друг с другом\n",
    "\n",
    "from keras.layers import Dense\n",
    "#тип слоев, когда нейроны предыдущего уровня соединяются со всеми нейронами следующего уровня\n",
    "\n",
    "from keras.utils import np_utils\n",
    "#утилиты для numpy"
   ]
  },
  {
   "cell_type": "code",
   "execution_count": 106,
   "metadata": {},
   "outputs": [],
   "source": [
    "data = np.loadtxt(\"alkan/ALKAN.BLD\")"
   ]
  },
  {
   "cell_type": "code",
   "execution_count": 107,
   "metadata": {},
   "outputs": [
    {
     "data": {
      "text/plain": [
       "array([[ 2.,  1.,  0., ...,  2.,  1.,  1.],\n",
       "       [ 2.,  0.,  2., ...,  5.,  2.,  1.],\n",
       "       [ 2.,  0.,  2., ..., 10.,  4.,  2.],\n",
       "       ...,\n",
       "       [ 6.,  0.,  0., ..., 31., 13.,  2.],\n",
       "       [ 6.,  0.,  0., ..., 32., 14.,  2.],\n",
       "       [ 6.,  0.,  0., ..., 30., 12.,  2.]])"
      ]
     },
     "execution_count": 107,
     "metadata": {},
     "output_type": "execute_result"
    }
   ],
   "source": [
    "data"
   ]
  },
  {
   "cell_type": "code",
   "execution_count": 108,
   "metadata": {},
   "outputs": [
    {
     "data": {
      "text/plain": [
       "(74, 210)"
      ]
     },
     "execution_count": 108,
     "metadata": {},
     "output_type": "execute_result"
    }
   ],
   "source": [
    "data.shape"
   ]
  },
  {
   "cell_type": "code",
   "execution_count": 109,
   "metadata": {},
   "outputs": [],
   "source": [
    "n = data.shape[0]\n",
    "m = data.shape[1]"
   ]
  },
  {
   "cell_type": "code",
   "execution_count": 110,
   "metadata": {},
   "outputs": [
    {
     "data": {
      "text/plain": [
       "(74, 210)"
      ]
     },
     "execution_count": 110,
     "metadata": {},
     "output_type": "execute_result"
    }
   ],
   "source": [
    "(n,m)"
   ]
  },
  {
   "cell_type": "code",
   "execution_count": 111,
   "metadata": {},
   "outputs": [],
   "source": [
    "l = []\n",
    "word = 'A1 '\n",
    "with open('alkan/set-str/ALKAN.SET') as file:\n",
    "    for line in file:\n",
    "        if (word in line):\n",
    "            ape = float(line.split()[1])\n",
    "            l.append(ape)"
   ]
  },
  {
   "cell_type": "code",
   "execution_count": 112,
   "metadata": {},
   "outputs": [
    {
     "data": {
      "text/plain": [
       "74"
      ]
     },
     "execution_count": 112,
     "metadata": {},
     "output_type": "execute_result"
    }
   ],
   "source": [
    "len(l)"
   ]
  },
  {
   "cell_type": "code",
   "execution_count": 113,
   "metadata": {},
   "outputs": [],
   "source": [
    "index_del = []\n",
    "y = np.array(l)"
   ]
  },
  {
   "cell_type": "code",
   "execution_count": 114,
   "metadata": {},
   "outputs": [],
   "source": [
    "for i in range(y.shape[0]):\n",
    "    if abs(y[i] - 0.0) < 1e-10:\n",
    "        index_del.append(i)"
   ]
  },
  {
   "cell_type": "code",
   "execution_count": 115,
   "metadata": {},
   "outputs": [],
   "source": [
    "new_data = np.delete(data, index_del, axis=0)\n",
    "new_y = np.delete(y, index_del, axis=0)"
   ]
  },
  {
   "cell_type": "code",
   "execution_count": 116,
   "metadata": {},
   "outputs": [
    {
     "name": "stdout",
     "output_type": "stream",
     "text": [
      "(74, 210)\n",
      "(74,)\n"
     ]
    }
   ],
   "source": [
    "print(new_data.shape)\n",
    "print(new_y.shape)"
   ]
  },
  {
   "cell_type": "code",
   "execution_count": 117,
   "metadata": {},
   "outputs": [],
   "source": [
    "X_train, X_test, y_train, y_test = train_test_split(new_data, new_y, test_size=0.5, train_size=0.5)"
   ]
  },
  {
   "cell_type": "code",
   "execution_count": null,
   "metadata": {},
   "outputs": [],
   "source": []
  },
  {
   "cell_type": "code",
   "execution_count": 118,
   "metadata": {},
   "outputs": [],
   "source": [
    "model = Sequential()"
   ]
  },
  {
   "cell_type": "code",
   "execution_count": 119,
   "metadata": {},
   "outputs": [],
   "source": [
    "model.add(Dense(500, input_dim=X_train.shape[1], activation=\"tanh\"))"
   ]
  },
  {
   "cell_type": "code",
   "execution_count": 120,
   "metadata": {},
   "outputs": [],
   "source": [
    "model.add(Dense(700, input_dim=500, activation=\"relu\"))"
   ]
  },
  {
   "cell_type": "code",
   "execution_count": 121,
   "metadata": {},
   "outputs": [],
   "source": [
    "model.add(Dense(700, input_dim=700, activation=\"selu\"))"
   ]
  },
  {
   "cell_type": "code",
   "execution_count": 122,
   "metadata": {},
   "outputs": [],
   "source": [
    "model.add(Dense(1))"
   ]
  },
  {
   "cell_type": "code",
   "execution_count": 100,
   "metadata": {},
   "outputs": [],
   "source": [
    "model.compile(loss=\"mse\", \n",
    "               optimizer=\"adam\", \n",
    "               metrics=[\"mae\"])"
   ]
  },
  {
   "cell_type": "code",
   "execution_count": 101,
   "metadata": {},
   "outputs": [
    {
     "name": "stderr",
     "output_type": "stream",
     "text": [
      "/home/evgeny/anaconda3/lib/python3.7/site-packages/ipykernel_launcher.py:2: UserWarning: The `nb_epoch` argument in `fit` has been renamed `epochs`.\n",
      "  \n"
     ]
    },
    {
     "name": "stdout",
     "output_type": "stream",
     "text": [
      "Epoch 1/250\n",
      "37/37 [==============================] - 0s 7ms/step - loss: 11936.1203 - mean_absolute_error: 103.5456\n",
      "Epoch 2/250\n",
      "37/37 [==============================] - 0s 190us/step - loss: 5557.1761 - mean_absolute_error: 70.9952\n",
      "Epoch 3/250\n",
      "37/37 [==============================] - 0s 198us/step - loss: 1451.6452 - mean_absolute_error: 32.3515\n",
      "Epoch 4/250\n",
      "37/37 [==============================] - 0s 179us/step - loss: 1493.4236 - mean_absolute_error: 30.5836\n",
      "Epoch 5/250\n",
      "37/37 [==============================] - 0s 193us/step - loss: 2261.0364 - mean_absolute_error: 42.5998\n",
      "Epoch 6/250\n",
      "37/37 [==============================] - 0s 164us/step - loss: 937.0266 - mean_absolute_error: 23.2932\n",
      "Epoch 7/250\n",
      "37/37 [==============================] - 0s 166us/step - loss: 532.6698 - mean_absolute_error: 20.1268\n",
      "Epoch 8/250\n",
      "37/37 [==============================] - 0s 171us/step - loss: 939.3765 - mean_absolute_error: 27.3366\n",
      "Epoch 9/250\n",
      "37/37 [==============================] - 0s 174us/step - loss: 752.5912 - mean_absolute_error: 24.5489\n",
      "Epoch 10/250\n",
      "37/37 [==============================] - 0s 204us/step - loss: 250.7618 - mean_absolute_error: 12.6551\n",
      "Epoch 11/250\n",
      "37/37 [==============================] - 0s 183us/step - loss: 109.8827 - mean_absolute_error: 8.9411\n",
      "Epoch 12/250\n",
      "37/37 [==============================] - 0s 170us/step - loss: 294.9904 - mean_absolute_error: 15.3381\n",
      "Epoch 13/250\n",
      "37/37 [==============================] - 0s 180us/step - loss: 220.8376 - mean_absolute_error: 13.4717\n",
      "Epoch 14/250\n",
      "37/37 [==============================] - 0s 195us/step - loss: 81.9095 - mean_absolute_error: 6.7057\n",
      "Epoch 15/250\n",
      "37/37 [==============================] - 0s 182us/step - loss: 191.7471 - mean_absolute_error: 12.0169\n",
      "Epoch 16/250\n",
      "37/37 [==============================] - 0s 189us/step - loss: 91.3598 - mean_absolute_error: 8.1248\n",
      "Epoch 17/250\n",
      "37/37 [==============================] - 0s 210us/step - loss: 44.9277 - mean_absolute_error: 5.1940\n",
      "Epoch 18/250\n",
      "37/37 [==============================] - 0s 203us/step - loss: 92.6585 - mean_absolute_error: 8.3642\n",
      "Epoch 19/250\n",
      "37/37 [==============================] - 0s 232us/step - loss: 56.6199 - mean_absolute_error: 6.0508\n",
      "Epoch 20/250\n",
      "37/37 [==============================] - 0s 236us/step - loss: 30.8559 - mean_absolute_error: 4.0076\n",
      "Epoch 21/250\n",
      "37/37 [==============================] - 0s 216us/step - loss: 48.9720 - mean_absolute_error: 5.8687\n",
      "Epoch 22/250\n",
      "37/37 [==============================] - 0s 214us/step - loss: 37.4288 - mean_absolute_error: 4.7401\n",
      "Epoch 23/250\n",
      "37/37 [==============================] - 0s 213us/step - loss: 18.0908 - mean_absolute_error: 3.2951\n",
      "Epoch 24/250\n",
      "37/37 [==============================] - 0s 227us/step - loss: 24.7290 - mean_absolute_error: 4.3213\n",
      "Epoch 25/250\n",
      "37/37 [==============================] - 0s 247us/step - loss: 18.1388 - mean_absolute_error: 3.7133\n",
      "Epoch 26/250\n",
      "37/37 [==============================] - 0s 219us/step - loss: 5.9671 - mean_absolute_error: 1.8574\n",
      "Epoch 27/250\n",
      "37/37 [==============================] - 0s 205us/step - loss: 11.0276 - mean_absolute_error: 2.8608\n",
      "Epoch 28/250\n",
      "37/37 [==============================] - 0s 206us/step - loss: 8.9389 - mean_absolute_error: 2.5077\n",
      "Epoch 29/250\n",
      "37/37 [==============================] - 0s 241us/step - loss: 2.8026 - mean_absolute_error: 1.3650\n",
      "Epoch 30/250\n",
      "37/37 [==============================] - 0s 219us/step - loss: 5.6488 - mean_absolute_error: 2.0449\n",
      "Epoch 31/250\n",
      "37/37 [==============================] - 0s 234us/step - loss: 3.9032 - mean_absolute_error: 1.6216\n",
      "Epoch 32/250\n",
      "37/37 [==============================] - 0s 270us/step - loss: 2.8317 - mean_absolute_error: 1.2904\n",
      "Epoch 33/250\n",
      "37/37 [==============================] - 0s 222us/step - loss: 3.8547 - mean_absolute_error: 1.6311\n",
      "Epoch 34/250\n",
      "37/37 [==============================] - 0s 317us/step - loss: 1.8674 - mean_absolute_error: 1.0928\n",
      "Epoch 35/250\n",
      "37/37 [==============================] - 0s 227us/step - loss: 1.5245 - mean_absolute_error: 1.0691\n",
      "Epoch 36/250\n",
      "37/37 [==============================] - 0s 236us/step - loss: 2.0687 - mean_absolute_error: 1.1937\n",
      "Epoch 37/250\n",
      "37/37 [==============================] - 0s 240us/step - loss: 1.3234 - mean_absolute_error: 0.9338\n",
      "Epoch 38/250\n",
      "37/37 [==============================] - 0s 213us/step - loss: 1.1786 - mean_absolute_error: 0.8666\n",
      "Epoch 39/250\n",
      "37/37 [==============================] - 0s 229us/step - loss: 0.7684 - mean_absolute_error: 0.6773\n",
      "Epoch 40/250\n",
      "37/37 [==============================] - 0s 216us/step - loss: 0.7688 - mean_absolute_error: 0.7220\n",
      "Epoch 41/250\n",
      "37/37 [==============================] - 0s 250us/step - loss: 0.9276 - mean_absolute_error: 0.8263\n",
      "Epoch 42/250\n",
      "37/37 [==============================] - 0s 246us/step - loss: 0.5004 - mean_absolute_error: 0.5571\n",
      "Epoch 43/250\n",
      "37/37 [==============================] - 0s 180us/step - loss: 0.4245 - mean_absolute_error: 0.5068\n",
      "Epoch 44/250\n",
      "37/37 [==============================] - 0s 207us/step - loss: 0.4516 - mean_absolute_error: 0.5071\n",
      "Epoch 45/250\n",
      "37/37 [==============================] - 0s 238us/step - loss: 0.3556 - mean_absolute_error: 0.4631\n",
      "Epoch 46/250\n",
      "37/37 [==============================] - 0s 208us/step - loss: 0.3354 - mean_absolute_error: 0.4778\n",
      "Epoch 47/250\n",
      "37/37 [==============================] - 0s 229us/step - loss: 0.2280 - mean_absolute_error: 0.3606\n",
      "Epoch 48/250\n",
      "37/37 [==============================] - 0s 280us/step - loss: 0.2406 - mean_absolute_error: 0.3782\n",
      "Epoch 49/250\n",
      "37/37 [==============================] - 0s 221us/step - loss: 0.2229 - mean_absolute_error: 0.3603\n",
      "Epoch 50/250\n",
      "37/37 [==============================] - 0s 238us/step - loss: 0.2198 - mean_absolute_error: 0.3790\n",
      "Epoch 51/250\n",
      "37/37 [==============================] - 0s 223us/step - loss: 0.1916 - mean_absolute_error: 0.3423\n",
      "Epoch 52/250\n",
      "37/37 [==============================] - 0s 232us/step - loss: 0.1441 - mean_absolute_error: 0.2671\n",
      "Epoch 53/250\n",
      "37/37 [==============================] - 0s 194us/step - loss: 0.1424 - mean_absolute_error: 0.2549\n",
      "Epoch 54/250\n",
      "37/37 [==============================] - 0s 191us/step - loss: 0.1178 - mean_absolute_error: 0.2224\n",
      "Epoch 55/250\n",
      "37/37 [==============================] - 0s 185us/step - loss: 0.1040 - mean_absolute_error: 0.2185\n",
      "Epoch 56/250\n",
      "37/37 [==============================] - 0s 246us/step - loss: 0.0966 - mean_absolute_error: 0.2095\n",
      "Epoch 57/250\n",
      "37/37 [==============================] - 0s 198us/step - loss: 0.0902 - mean_absolute_error: 0.1891\n",
      "Epoch 58/250\n",
      "37/37 [==============================] - 0s 193us/step - loss: 0.0860 - mean_absolute_error: 0.1850\n",
      "Epoch 59/250\n",
      "37/37 [==============================] - 0s 181us/step - loss: 0.0799 - mean_absolute_error: 0.1859\n",
      "Epoch 60/250\n",
      "37/37 [==============================] - 0s 209us/step - loss: 0.0721 - mean_absolute_error: 0.1784\n",
      "Epoch 61/250\n",
      "37/37 [==============================] - 0s 177us/step - loss: 0.0731 - mean_absolute_error: 0.1770\n",
      "Epoch 62/250\n",
      "37/37 [==============================] - 0s 210us/step - loss: 0.0635 - mean_absolute_error: 0.1676\n",
      "Epoch 63/250\n",
      "37/37 [==============================] - 0s 197us/step - loss: 0.0574 - mean_absolute_error: 0.1568\n",
      "Epoch 64/250\n",
      "37/37 [==============================] - 0s 229us/step - loss: 0.0558 - mean_absolute_error: 0.1556\n",
      "Epoch 65/250\n",
      "37/37 [==============================] - 0s 184us/step - loss: 0.0505 - mean_absolute_error: 0.1422\n",
      "Epoch 66/250\n",
      "37/37 [==============================] - 0s 247us/step - loss: 0.0514 - mean_absolute_error: 0.1530\n",
      "Epoch 67/250\n",
      "37/37 [==============================] - 0s 200us/step - loss: 0.0425 - mean_absolute_error: 0.1264\n",
      "Epoch 68/250\n",
      "37/37 [==============================] - 0s 191us/step - loss: 0.0481 - mean_absolute_error: 0.1554\n",
      "Epoch 69/250\n",
      "37/37 [==============================] - 0s 190us/step - loss: 0.0381 - mean_absolute_error: 0.1327\n",
      "Epoch 70/250\n",
      "37/37 [==============================] - 0s 219us/step - loss: 0.0411 - mean_absolute_error: 0.1398\n",
      "Epoch 71/250\n",
      "37/37 [==============================] - 0s 192us/step - loss: 0.0359 - mean_absolute_error: 0.1250\n",
      "Epoch 72/250\n",
      "37/37 [==============================] - 0s 212us/step - loss: 0.0327 - mean_absolute_error: 0.1236\n",
      "Epoch 73/250\n"
     ]
    },
    {
     "name": "stdout",
     "output_type": "stream",
     "text": [
      "37/37 [==============================] - 0s 193us/step - loss: 0.0337 - mean_absolute_error: 0.1369\n",
      "Epoch 74/250\n",
      "37/37 [==============================] - 0s 226us/step - loss: 0.0269 - mean_absolute_error: 0.1024\n",
      "Epoch 75/250\n",
      "37/37 [==============================] - 0s 182us/step - loss: 0.0306 - mean_absolute_error: 0.1195\n",
      "Epoch 76/250\n",
      "37/37 [==============================] - 0s 193us/step - loss: 0.0253 - mean_absolute_error: 0.1029\n",
      "Epoch 77/250\n",
      "37/37 [==============================] - 0s 232us/step - loss: 0.0266 - mean_absolute_error: 0.1232\n",
      "Epoch 78/250\n",
      "37/37 [==============================] - 0s 284us/step - loss: 0.0227 - mean_absolute_error: 0.0971\n",
      "Epoch 79/250\n",
      "37/37 [==============================] - 0s 236us/step - loss: 0.0220 - mean_absolute_error: 0.0924\n",
      "Epoch 80/250\n",
      "37/37 [==============================] - 0s 226us/step - loss: 0.0202 - mean_absolute_error: 0.0867\n",
      "Epoch 81/250\n",
      "37/37 [==============================] - 0s 214us/step - loss: 0.0184 - mean_absolute_error: 0.0835\n",
      "Epoch 82/250\n",
      "37/37 [==============================] - 0s 205us/step - loss: 0.0170 - mean_absolute_error: 0.0801\n",
      "Epoch 83/250\n",
      "37/37 [==============================] - 0s 262us/step - loss: 0.0151 - mean_absolute_error: 0.0757\n",
      "Epoch 84/250\n",
      "37/37 [==============================] - 0s 255us/step - loss: 0.0142 - mean_absolute_error: 0.0715\n",
      "Epoch 85/250\n",
      "37/37 [==============================] - 0s 244us/step - loss: 0.0132 - mean_absolute_error: 0.0689\n",
      "Epoch 86/250\n",
      "37/37 [==============================] - 0s 258us/step - loss: 0.0126 - mean_absolute_error: 0.0725\n",
      "Epoch 87/250\n",
      "37/37 [==============================] - 0s 267us/step - loss: 0.0118 - mean_absolute_error: 0.0702\n",
      "Epoch 88/250\n",
      "37/37 [==============================] - 0s 260us/step - loss: 0.0107 - mean_absolute_error: 0.0630\n",
      "Epoch 89/250\n",
      "37/37 [==============================] - 0s 233us/step - loss: 0.0100 - mean_absolute_error: 0.0596\n",
      "Epoch 90/250\n",
      "37/37 [==============================] - 0s 262us/step - loss: 0.0093 - mean_absolute_error: 0.0573\n",
      "Epoch 91/250\n",
      "37/37 [==============================] - 0s 209us/step - loss: 0.0091 - mean_absolute_error: 0.0600\n",
      "Epoch 92/250\n",
      "37/37 [==============================] - 0s 243us/step - loss: 0.0081 - mean_absolute_error: 0.0566\n",
      "Epoch 93/250\n",
      "37/37 [==============================] - 0s 214us/step - loss: 0.0072 - mean_absolute_error: 0.0502\n",
      "Epoch 94/250\n",
      "37/37 [==============================] - 0s 267us/step - loss: 0.0070 - mean_absolute_error: 0.0536\n",
      "Epoch 95/250\n",
      "37/37 [==============================] - 0s 229us/step - loss: 0.0067 - mean_absolute_error: 0.0502\n",
      "Epoch 96/250\n",
      "37/37 [==============================] - 0s 212us/step - loss: 0.0063 - mean_absolute_error: 0.0526\n",
      "Epoch 97/250\n",
      "37/37 [==============================] - ETA: 0s - loss: 0.0081 - mean_absolute_error: 0.057 - 0s 242us/step - loss: 0.0055 - mean_absolute_error: 0.0451\n",
      "Epoch 98/250\n",
      "37/37 [==============================] - 0s 187us/step - loss: 0.0051 - mean_absolute_error: 0.0435\n",
      "Epoch 99/250\n",
      "37/37 [==============================] - 0s 226us/step - loss: 0.0052 - mean_absolute_error: 0.0440\n",
      "Epoch 100/250\n",
      "37/37 [==============================] - 0s 197us/step - loss: 0.0043 - mean_absolute_error: 0.0407\n",
      "Epoch 101/250\n",
      "37/37 [==============================] - 0s 220us/step - loss: 0.0042 - mean_absolute_error: 0.0440\n",
      "Epoch 102/250\n",
      "37/37 [==============================] - 0s 185us/step - loss: 0.0037 - mean_absolute_error: 0.0373\n",
      "Epoch 103/250\n",
      "37/37 [==============================] - 0s 226us/step - loss: 0.0035 - mean_absolute_error: 0.0369\n",
      "Epoch 104/250\n",
      "37/37 [==============================] - 0s 216us/step - loss: 0.0032 - mean_absolute_error: 0.0329\n",
      "Epoch 105/250\n",
      "37/37 [==============================] - 0s 239us/step - loss: 0.0030 - mean_absolute_error: 0.0355\n",
      "Epoch 106/250\n",
      "37/37 [==============================] - 0s 184us/step - loss: 0.0027 - mean_absolute_error: 0.0349\n",
      "Epoch 107/250\n",
      "37/37 [==============================] - 0s 239us/step - loss: 0.0028 - mean_absolute_error: 0.0328\n",
      "Epoch 108/250\n",
      "37/37 [==============================] - 0s 182us/step - loss: 0.0024 - mean_absolute_error: 0.0317\n",
      "Epoch 109/250\n",
      "37/37 [==============================] - 0s 293us/step - loss: 0.0024 - mean_absolute_error: 0.0348\n",
      "Epoch 110/250\n",
      "37/37 [==============================] - 0s 191us/step - loss: 0.0022 - mean_absolute_error: 0.0333\n",
      "Epoch 111/250\n",
      "37/37 [==============================] - 0s 221us/step - loss: 0.0022 - mean_absolute_error: 0.0323\n",
      "Epoch 112/250\n",
      "37/37 [==============================] - 0s 210us/step - loss: 0.0020 - mean_absolute_error: 0.0309\n",
      "Epoch 113/250\n",
      "37/37 [==============================] - 0s 216us/step - loss: 0.0018 - mean_absolute_error: 0.0311\n",
      "Epoch 114/250\n",
      "37/37 [==============================] - 0s 237us/step - loss: 0.0014 - mean_absolute_error: 0.0236\n",
      "Epoch 115/250\n",
      "37/37 [==============================] - 0s 219us/step - loss: 0.0014 - mean_absolute_error: 0.0267\n",
      "Epoch 116/250\n",
      "37/37 [==============================] - 0s 276us/step - loss: 0.0016 - mean_absolute_error: 0.0263\n",
      "Epoch 117/250\n",
      "37/37 [==============================] - 0s 198us/step - loss: 0.0012 - mean_absolute_error: 0.0237\n",
      "Epoch 118/250\n",
      "37/37 [==============================] - 0s 221us/step - loss: 0.0011 - mean_absolute_error: 0.0214\n",
      "Epoch 119/250\n",
      "37/37 [==============================] - 0s 201us/step - loss: 9.1222e-04 - mean_absolute_error: 0.0186\n",
      "Epoch 120/250\n",
      "37/37 [==============================] - 0s 230us/step - loss: 8.5953e-04 - mean_absolute_error: 0.0206\n",
      "Epoch 121/250\n",
      "37/37 [==============================] - 0s 189us/step - loss: 7.9470e-04 - mean_absolute_error: 0.0181\n",
      "Epoch 122/250\n",
      "37/37 [==============================] - 0s 235us/step - loss: 7.1525e-04 - mean_absolute_error: 0.0169\n",
      "Epoch 123/250\n",
      "37/37 [==============================] - 0s 216us/step - loss: 5.9847e-04 - mean_absolute_error: 0.0146\n",
      "Epoch 124/250\n",
      "37/37 [==============================] - 0s 227us/step - loss: 6.0734e-04 - mean_absolute_error: 0.0168\n",
      "Epoch 125/250\n",
      "37/37 [==============================] - 0s 201us/step - loss: 5.0170e-04 - mean_absolute_error: 0.0138\n",
      "Epoch 126/250\n",
      "37/37 [==============================] - 0s 267us/step - loss: 5.0532e-04 - mean_absolute_error: 0.0144\n",
      "Epoch 127/250\n",
      "37/37 [==============================] - 0s 327us/step - loss: 4.2379e-04 - mean_absolute_error: 0.0129\n",
      "Epoch 128/250\n",
      "37/37 [==============================] - 0s 212us/step - loss: 4.2631e-04 - mean_absolute_error: 0.0135\n",
      "Epoch 129/250\n",
      "37/37 [==============================] - 0s 247us/step - loss: 3.5091e-04 - mean_absolute_error: 0.0111\n",
      "Epoch 130/250\n",
      "37/37 [==============================] - 0s 219us/step - loss: 3.2471e-04 - mean_absolute_error: 0.0104\n",
      "Epoch 131/250\n",
      "37/37 [==============================] - 0s 261us/step - loss: 2.7593e-04 - mean_absolute_error: 0.0100\n",
      "Epoch 132/250\n",
      "37/37 [==============================] - 0s 194us/step - loss: 2.7737e-04 - mean_absolute_error: 0.0107\n",
      "Epoch 133/250\n",
      "37/37 [==============================] - 0s 251us/step - loss: 2.5274e-04 - mean_absolute_error: 0.0100\n",
      "Epoch 134/250\n",
      "37/37 [==============================] - 0s 207us/step - loss: 2.4516e-04 - mean_absolute_error: 0.0099\n",
      "Epoch 135/250\n",
      "37/37 [==============================] - 0s 232us/step - loss: 2.0967e-04 - mean_absolute_error: 0.0096\n",
      "Epoch 136/250\n",
      "37/37 [==============================] - 0s 255us/step - loss: 2.0540e-04 - mean_absolute_error: 0.0089\n",
      "Epoch 137/250\n",
      "37/37 [==============================] - 0s 214us/step - loss: 1.6550e-04 - mean_absolute_error: 0.0081\n",
      "Epoch 138/250\n",
      "37/37 [==============================] - 0s 236us/step - loss: 1.5139e-04 - mean_absolute_error: 0.0077\n",
      "Epoch 139/250\n",
      "37/37 [==============================] - 0s 187us/step - loss: 1.2879e-04 - mean_absolute_error: 0.0072\n",
      "Epoch 140/250\n",
      "37/37 [==============================] - 0s 253us/step - loss: 1.1326e-04 - mean_absolute_error: 0.0063\n",
      "Epoch 141/250\n",
      "37/37 [==============================] - 0s 209us/step - loss: 1.0634e-04 - mean_absolute_error: 0.0061\n",
      "Epoch 142/250\n",
      "37/37 [==============================] - 0s 227us/step - loss: 9.2225e-05 - mean_absolute_error: 0.0057\n",
      "Epoch 143/250\n"
     ]
    },
    {
     "name": "stdout",
     "output_type": "stream",
     "text": [
      "37/37 [==============================] - 0s 197us/step - loss: 8.1626e-05 - mean_absolute_error: 0.0052\n",
      "Epoch 144/250\n",
      "37/37 [==============================] - 0s 216us/step - loss: 7.4845e-05 - mean_absolute_error: 0.0049\n",
      "Epoch 145/250\n",
      "37/37 [==============================] - 0s 221us/step - loss: 6.5538e-05 - mean_absolute_error: 0.0046\n",
      "Epoch 146/250\n",
      "37/37 [==============================] - 0s 217us/step - loss: 6.2410e-05 - mean_absolute_error: 0.0048\n",
      "Epoch 147/250\n",
      "37/37 [==============================] - 0s 220us/step - loss: 6.6108e-05 - mean_absolute_error: 0.0050\n",
      "Epoch 148/250\n",
      "37/37 [==============================] - 0s 210us/step - loss: 5.2819e-05 - mean_absolute_error: 0.0044\n",
      "Epoch 149/250\n",
      "37/37 [==============================] - 0s 197us/step - loss: 4.6131e-05 - mean_absolute_error: 0.0045\n",
      "Epoch 150/250\n",
      "37/37 [==============================] - 0s 208us/step - loss: 4.1055e-05 - mean_absolute_error: 0.0040\n",
      "Epoch 151/250\n",
      "37/37 [==============================] - 0s 187us/step - loss: 4.1694e-05 - mean_absolute_error: 0.0042\n",
      "Epoch 152/250\n",
      "37/37 [==============================] - 0s 224us/step - loss: 3.4028e-05 - mean_absolute_error: 0.0038\n",
      "Epoch 153/250\n",
      "37/37 [==============================] - 0s 181us/step - loss: 3.2084e-05 - mean_absolute_error: 0.0034\n",
      "Epoch 154/250\n",
      "37/37 [==============================] - 0s 220us/step - loss: 2.7268e-05 - mean_absolute_error: 0.0034\n",
      "Epoch 155/250\n",
      "37/37 [==============================] - 0s 180us/step - loss: 2.4647e-05 - mean_absolute_error: 0.0033\n",
      "Epoch 156/250\n",
      "37/37 [==============================] - 0s 225us/step - loss: 2.1341e-05 - mean_absolute_error: 0.0028\n",
      "Epoch 157/250\n",
      "37/37 [==============================] - 0s 206us/step - loss: 1.8817e-05 - mean_absolute_error: 0.0025\n",
      "Epoch 158/250\n",
      "37/37 [==============================] - 0s 239us/step - loss: 1.6156e-05 - mean_absolute_error: 0.0024\n",
      "Epoch 159/250\n",
      "37/37 [==============================] - 0s 214us/step - loss: 1.4691e-05 - mean_absolute_error: 0.0024\n",
      "Epoch 160/250\n",
      "37/37 [==============================] - 0s 234us/step - loss: 1.2928e-05 - mean_absolute_error: 0.0021\n",
      "Epoch 161/250\n",
      "37/37 [==============================] - 0s 215us/step - loss: 1.2802e-05 - mean_absolute_error: 0.0021\n",
      "Epoch 162/250\n",
      "37/37 [==============================] - 0s 206us/step - loss: 1.0443e-05 - mean_absolute_error: 0.0020\n",
      "Epoch 163/250\n",
      "37/37 [==============================] - 0s 235us/step - loss: 9.1195e-06 - mean_absolute_error: 0.0018\n",
      "Epoch 164/250\n",
      "37/37 [==============================] - 0s 215us/step - loss: 8.7416e-06 - mean_absolute_error: 0.0019\n",
      "Epoch 165/250\n",
      "37/37 [==============================] - 0s 201us/step - loss: 7.1662e-06 - mean_absolute_error: 0.0016\n",
      "Epoch 166/250\n",
      "37/37 [==============================] - 0s 201us/step - loss: 6.7811e-06 - mean_absolute_error: 0.0017\n",
      "Epoch 167/250\n",
      "37/37 [==============================] - 0s 190us/step - loss: 5.6804e-06 - mean_absolute_error: 0.0014\n",
      "Epoch 168/250\n",
      "37/37 [==============================] - 0s 196us/step - loss: 5.4067e-06 - mean_absolute_error: 0.0015\n",
      "Epoch 169/250\n",
      "37/37 [==============================] - 0s 193us/step - loss: 4.6016e-06 - mean_absolute_error: 0.0014\n",
      "Epoch 170/250\n",
      "37/37 [==============================] - 0s 215us/step - loss: 4.3854e-06 - mean_absolute_error: 0.0014\n",
      "Epoch 171/250\n",
      "37/37 [==============================] - 0s 191us/step - loss: 3.7044e-06 - mean_absolute_error: 0.0011\n",
      "Epoch 172/250\n",
      "37/37 [==============================] - 0s 236us/step - loss: 3.7479e-06 - mean_absolute_error: 0.0011\n",
      "Epoch 173/250\n",
      "37/37 [==============================] - 0s 182us/step - loss: 2.8239e-06 - mean_absolute_error: 0.0011\n",
      "Epoch 174/250\n",
      "37/37 [==============================] - 0s 229us/step - loss: 2.6789e-06 - mean_absolute_error: 0.0010\n",
      "Epoch 175/250\n",
      "37/37 [==============================] - 0s 184us/step - loss: 2.6405e-06 - mean_absolute_error: 0.0010\n",
      "Epoch 176/250\n",
      "37/37 [==============================] - 0s 228us/step - loss: 2.0346e-06 - mean_absolute_error: 9.1754e-04\n",
      "Epoch 177/250\n",
      "37/37 [==============================] - 0s 214us/step - loss: 1.9699e-06 - mean_absolute_error: 9.0042e-04\n",
      "Epoch 178/250\n",
      "37/37 [==============================] - 0s 222us/step - loss: 1.5080e-06 - mean_absolute_error: 7.4815e-04\n",
      "Epoch 179/250\n",
      "37/37 [==============================] - 0s 199us/step - loss: 1.5810e-06 - mean_absolute_error: 8.7807e-04\n",
      "Epoch 180/250\n",
      "37/37 [==============================] - 0s 220us/step - loss: 1.2106e-06 - mean_absolute_error: 6.4311e-04\n",
      "Epoch 181/250\n",
      "37/37 [==============================] - 0s 229us/step - loss: 1.1993e-06 - mean_absolute_error: 7.1253e-04\n",
      "Epoch 182/250\n",
      "37/37 [==============================] - 0s 213us/step - loss: 1.0133e-06 - mean_absolute_error: 6.6996e-04\n",
      "Epoch 183/250\n",
      "37/37 [==============================] - 0s 220us/step - loss: 8.8588e-07 - mean_absolute_error: 6.5255e-04\n",
      "Epoch 184/250\n",
      "37/37 [==============================] - 0s 208us/step - loss: 8.9795e-07 - mean_absolute_error: 6.2756e-04\n",
      "Epoch 185/250\n",
      "37/37 [==============================] - 0s 210us/step - loss: 6.4172e-07 - mean_absolute_error: 4.9021e-04\n",
      "Epoch 186/250\n",
      "37/37 [==============================] - 0s 208us/step - loss: 7.5644e-07 - mean_absolute_error: 6.4840e-04\n",
      "Epoch 187/250\n",
      "37/37 [==============================] - 0s 210us/step - loss: 4.8691e-07 - mean_absolute_error: 4.3050e-04\n",
      "Epoch 188/250\n",
      "37/37 [==============================] - 0s 207us/step - loss: 5.1175e-07 - mean_absolute_error: 5.1066e-04\n",
      "Epoch 189/250\n",
      "37/37 [==============================] - 0s 218us/step - loss: 4.2254e-07 - mean_absolute_error: 4.3646e-04\n",
      "Epoch 190/250\n",
      "37/37 [==============================] - 0s 206us/step - loss: 3.8508e-07 - mean_absolute_error: 4.0102e-04\n",
      "Epoch 191/250\n",
      "37/37 [==============================] - 0s 238us/step - loss: 3.2657e-07 - mean_absolute_error: 3.7057e-04\n",
      "Epoch 192/250\n",
      "37/37 [==============================] - 0s 201us/step - loss: 2.5748e-07 - mean_absolute_error: 3.0853e-04\n",
      "Epoch 193/250\n",
      "37/37 [==============================] - 0s 234us/step - loss: 2.1707e-07 - mean_absolute_error: 2.7393e-04\n",
      "Epoch 194/250\n",
      "37/37 [==============================] - 0s 234us/step - loss: 1.8952e-07 - mean_absolute_error: 2.5498e-04\n",
      "Epoch 195/250\n",
      "37/37 [==============================] - 0s 273us/step - loss: 1.8121e-07 - mean_absolute_error: 2.5904e-04\n",
      "Epoch 196/250\n",
      "37/37 [==============================] - 0s 266us/step - loss: 1.5707e-07 - mean_absolute_error: 2.3340e-04\n",
      "Epoch 197/250\n",
      "37/37 [==============================] - 0s 190us/step - loss: 1.2429e-07 - mean_absolute_error: 2.0364e-04\n",
      "Epoch 198/250\n",
      "37/37 [==============================] - 0s 271us/step - loss: 1.1119e-07 - mean_absolute_error: 1.9156e-04\n",
      "Epoch 199/250\n",
      "37/37 [==============================] - 0s 245us/step - loss: 9.8112e-08 - mean_absolute_error: 1.9631e-04\n",
      "Epoch 200/250\n",
      "37/37 [==============================] - 0s 231us/step - loss: 8.5216e-08 - mean_absolute_error: 1.7125e-04\n",
      "Epoch 201/250\n",
      "37/37 [==============================] - 0s 245us/step - loss: 7.6462e-08 - mean_absolute_error: 1.6010e-04\n",
      "Epoch 202/250\n",
      "37/37 [==============================] - 0s 247us/step - loss: 6.3793e-08 - mean_absolute_error: 1.4158e-04\n",
      "Epoch 203/250\n",
      "37/37 [==============================] - 0s 222us/step - loss: 5.8252e-08 - mean_absolute_error: 1.4169e-04\n",
      "Epoch 204/250\n",
      "37/37 [==============================] - 0s 243us/step - loss: 4.9065e-08 - mean_absolute_error: 1.2290e-04\n",
      "Epoch 205/250\n",
      "37/37 [==============================] - 0s 260us/step - loss: 4.7248e-08 - mean_absolute_error: 1.3714e-04\n",
      "Epoch 206/250\n",
      "37/37 [==============================] - 0s 238us/step - loss: 3.7507e-08 - mean_absolute_error: 1.1137e-04\n",
      "Epoch 207/250\n",
      "37/37 [==============================] - 0s 252us/step - loss: 3.5101e-08 - mean_absolute_error: 1.2462e-04\n",
      "Epoch 208/250\n",
      "37/37 [==============================] - 0s 210us/step - loss: 2.8615e-08 - mean_absolute_error: 1.0646e-04\n",
      "Epoch 209/250\n",
      "37/37 [==============================] - 0s 278us/step - loss: 2.6787e-08 - mean_absolute_error: 1.1318e-04\n",
      "Epoch 210/250\n",
      "37/37 [==============================] - 0s 212us/step - loss: 2.3259e-08 - mean_absolute_error: 1.0250e-04\n",
      "Epoch 211/250\n"
     ]
    },
    {
     "name": "stdout",
     "output_type": "stream",
     "text": [
      "37/37 [==============================] - 0s 220us/step - loss: 1.9523e-08 - mean_absolute_error: 9.6994e-05\n",
      "Epoch 212/250\n",
      "37/37 [==============================] - 0s 218us/step - loss: 1.6310e-08 - mean_absolute_error: 7.7412e-05\n",
      "Epoch 213/250\n",
      "37/37 [==============================] - 0s 289us/step - loss: 1.4567e-08 - mean_absolute_error: 8.0070e-05\n",
      "Epoch 214/250\n",
      "37/37 [==============================] - 0s 215us/step - loss: 1.4053e-08 - mean_absolute_error: 7.6809e-05\n",
      "Epoch 215/250\n",
      "37/37 [==============================] - 0s 192us/step - loss: 1.1149e-08 - mean_absolute_error: 7.0462e-05\n",
      "Epoch 216/250\n",
      "37/37 [==============================] - 0s 215us/step - loss: 9.8435e-09 - mean_absolute_error: 6.1261e-05\n",
      "Epoch 217/250\n",
      "37/37 [==============================] - 0s 204us/step - loss: 8.6703e-09 - mean_absolute_error: 6.2627e-05\n",
      "Epoch 218/250\n",
      "37/37 [==============================] - 0s 219us/step - loss: 7.3041e-09 - mean_absolute_error: 5.8999e-05\n",
      "Epoch 219/250\n",
      "37/37 [==============================] - 0s 218us/step - loss: 7.3840e-09 - mean_absolute_error: 5.8545e-05\n",
      "Epoch 220/250\n",
      "37/37 [==============================] - 0s 227us/step - loss: 5.7232e-09 - mean_absolute_error: 4.6010e-05\n",
      "Epoch 221/250\n",
      "37/37 [==============================] - 0s 193us/step - loss: 4.2467e-09 - mean_absolute_error: 4.0918e-05\n",
      "Epoch 222/250\n",
      "37/37 [==============================] - 0s 273us/step - loss: 3.8779e-09 - mean_absolute_error: 4.2295e-05\n",
      "Epoch 223/250\n",
      "37/37 [==============================] - 0s 257us/step - loss: 3.5764e-09 - mean_absolute_error: 3.5463e-05\n",
      "Epoch 224/250\n",
      "37/37 [==============================] - 0s 194us/step - loss: 3.0969e-09 - mean_absolute_error: 3.7069e-05\n",
      "Epoch 225/250\n",
      "37/37 [==============================] - 0s 238us/step - loss: 2.6548e-09 - mean_absolute_error: 3.3285e-05\n",
      "Epoch 226/250\n",
      "37/37 [==============================] - 0s 208us/step - loss: 2.3989e-09 - mean_absolute_error: 3.1437e-05\n",
      "Epoch 227/250\n",
      "37/37 [==============================] - 0s 276us/step - loss: 1.9276e-09 - mean_absolute_error: 2.7740e-05\n",
      "Epoch 228/250\n",
      "37/37 [==============================] - 0s 230us/step - loss: 1.8808e-09 - mean_absolute_error: 2.8994e-05\n",
      "Epoch 229/250\n",
      "37/37 [==============================] - 0s 227us/step - loss: 1.6210e-09 - mean_absolute_error: 2.4515e-05\n",
      "Epoch 230/250\n",
      "37/37 [==============================] - 0s 220us/step - loss: 1.3553e-09 - mean_absolute_error: 2.3015e-05\n",
      "Epoch 231/250\n",
      "37/37 [==============================] - 0s 225us/step - loss: 1.0220e-09 - mean_absolute_error: 1.8821e-05\n",
      "Epoch 232/250\n",
      "37/37 [==============================] - 0s 252us/step - loss: 9.9689e-10 - mean_absolute_error: 1.9732e-05\n",
      "Epoch 233/250\n",
      "37/37 [==============================] - 0s 240us/step - loss: 8.7088e-10 - mean_absolute_error: 1.7329e-05\n",
      "Epoch 234/250\n",
      "37/37 [==============================] - 0s 205us/step - loss: 7.5501e-10 - mean_absolute_error: 1.6121e-05\n",
      "Epoch 235/250\n",
      "37/37 [==============================] - 0s 211us/step - loss: 7.8314e-10 - mean_absolute_error: 1.9948e-05\n",
      "Epoch 236/250\n",
      "37/37 [==============================] - 0s 197us/step - loss: 5.4571e-10 - mean_absolute_error: 1.3788e-05\n",
      "Epoch 237/250\n",
      "37/37 [==============================] - 0s 198us/step - loss: 5.4909e-10 - mean_absolute_error: 1.5613e-05\n",
      "Epoch 238/250\n",
      "37/37 [==============================] - 0s 197us/step - loss: 4.6392e-10 - mean_absolute_error: 1.4133e-05\n",
      "Epoch 239/250\n",
      "37/37 [==============================] - 0s 208us/step - loss: 3.5014e-10 - mean_absolute_error: 1.1409e-05\n",
      "Epoch 240/250\n",
      "37/37 [==============================] - 0s 219us/step - loss: 3.7729e-10 - mean_absolute_error: 1.4139e-05\n",
      "Epoch 241/250\n",
      "37/37 [==============================] - 0s 223us/step - loss: 3.0534e-10 - mean_absolute_error: 1.1359e-05\n",
      "Epoch 242/250\n",
      "37/37 [==============================] - 0s 248us/step - loss: 2.9062e-10 - mean_absolute_error: 9.8283e-06\n",
      "Epoch 243/250\n",
      "37/37 [==============================] - 0s 190us/step - loss: 2.5260e-10 - mean_absolute_error: 9.7574e-06\n",
      "Epoch 244/250\n",
      "37/37 [==============================] - 0s 233us/step - loss: 2.3091e-10 - mean_absolute_error: 9.8283e-06\n",
      "Epoch 245/250\n",
      "37/37 [==============================] - 0s 191us/step - loss: 2.0501e-10 - mean_absolute_error: 8.4026e-06\n",
      "Epoch 246/250\n",
      "37/37 [==============================] - 0s 225us/step - loss: 1.7197e-10 - mean_absolute_error: 7.7937e-06\n",
      "Epoch 247/250\n",
      "37/37 [==============================] - 0s 209us/step - loss: 2.1606e-10 - mean_absolute_error: 9.8783e-06\n",
      "Epoch 248/250\n",
      "37/37 [==============================] - 0s 218us/step - loss: 2.0976e-10 - mean_absolute_error: 9.4626e-06\n",
      "Epoch 249/250\n",
      "37/37 [==============================] - 0s 195us/step - loss: 1.4839e-10 - mean_absolute_error: 6.7756e-06\n",
      "Epoch 250/250\n",
      "37/37 [==============================] - 0s 242us/step - loss: 1.7670e-10 - mean_absolute_error: 8.8360e-06\n"
     ]
    },
    {
     "data": {
      "text/plain": [
       "<keras.callbacks.History at 0x7fdfc2589b38>"
      ]
     },
     "execution_count": 101,
     "metadata": {},
     "output_type": "execute_result"
    }
   ],
   "source": [
    "model.fit(X_train, y_train, batch_size=20, nb_epoch=250,\n",
    "         verbose=1)"
   ]
  },
  {
   "cell_type": "code",
   "execution_count": 102,
   "metadata": {},
   "outputs": [
    {
     "data": {
      "text/plain": [
       "[88.90829983273068, 4.425867853937922]"
      ]
     },
     "execution_count": 102,
     "metadata": {},
     "output_type": "execute_result"
    }
   ],
   "source": [
    "model.evaluate(X_test, y_test,verbose=0)"
   ]
  },
  {
   "cell_type": "code",
   "execution_count": 103,
   "metadata": {},
   "outputs": [
    {
     "data": {
      "text/plain": [
       "(37, 1)"
      ]
     },
     "execution_count": 103,
     "metadata": {},
     "output_type": "execute_result"
    }
   ],
   "source": [
    "predict = model.predict(X_test)\n",
    "predict.shape"
   ]
  },
  {
   "cell_type": "code",
   "execution_count": 104,
   "metadata": {},
   "outputs": [
    {
     "name": "stdout",
     "output_type": "stream",
     "text": [
      "[119.04165] 115.607\n",
      "[114.87855] 106.47\n",
      "[92.78891] 90.052\n",
      "[68.599106] 68.74\n",
      "[114.95901] 122.284\n",
      "[140.35135] 143.26\n",
      "[132.04294] 130.648\n",
      "[134.59386] 139.0\n",
      "[139.83002] 144.18\n",
      "[140.50735] 140.5\n",
      "[110.61773] 109.429\n",
      "[52.827423] 49.741\n",
      "[128.66785] 124.084\n",
      "[-36.45946] -88.63\n",
      "[139.95534] 140.6\n",
      "[39.20185] 36.074\n",
      "[141.13225] 138.0\n",
      "[19.15298] 9.503\n",
      "[59.70269] 60.271\n",
      "[136.34245] 137.68\n",
      "[135.44408] 140.46\n",
      "[134.77643] 133.6\n",
      "[142.42216] 150.798\n",
      "[135.28973] 135.21\n",
      "[122.27463] 118.534\n",
      "[102.03808] 99.238\n",
      "[123.57466] 118.259\n",
      "[133.73296] 135.2\n",
      "[26.274803] 27.852\n",
      "[120.643715] 115.65\n",
      "[63.258907] 63.282\n",
      "[133.024] 132.69\n",
      "[116.36123] 114.76\n",
      "[102.26168] 98.427\n",
      "[135.87842] 133.83\n",
      "[139.10516] 133.8\n",
      "[110.56812] 109.103\n"
     ]
    }
   ],
   "source": [
    "for i in range(predict.shape[0]):\n",
    "    print(predict[i], y_test[i])"
   ]
  },
  {
   "cell_type": "code",
   "execution_count": 54,
   "metadata": {},
   "outputs": [],
   "source": [
    "model = LinearRegression()"
   ]
  },
  {
   "cell_type": "code",
   "execution_count": 55,
   "metadata": {},
   "outputs": [
    {
     "data": {
      "text/plain": [
       "LinearRegression(copy_X=True, fit_intercept=True, n_jobs=None,\n",
       "         normalize=False)"
      ]
     },
     "execution_count": 55,
     "metadata": {},
     "output_type": "execute_result"
    }
   ],
   "source": [
    "model.fit(X_train, y_train)"
   ]
  },
  {
   "cell_type": "code",
   "execution_count": 56,
   "metadata": {},
   "outputs": [
    {
     "data": {
      "text/plain": [
       "(37,)"
      ]
     },
     "execution_count": 56,
     "metadata": {},
     "output_type": "execute_result"
    }
   ],
   "source": [
    "res = model.predict(X_test)\n",
    "res.shape"
   ]
  },
  {
   "cell_type": "code",
   "execution_count": 57,
   "metadata": {},
   "outputs": [
    {
     "name": "stdout",
     "output_type": "stream",
     "text": [
      "115.03759800576583 114.76\n",
      "121.4267436722991 124.084\n",
      "113.09851198184509 111.969\n",
      "84.04324840205737 80.882\n",
      "133.8734909721402 140.274\n",
      "130.06150581965892 131.34\n",
      "145.9578388024608 144.18\n",
      "148.6360337592606 146.168\n",
      "57.27538549526702 60.271\n",
      "139.9202312788761 140.46\n",
      "134.33855994995685 133.8\n",
      "133.18698493924762 133.6\n",
      "110.11719459869454 109.429\n",
      "140.29429402455662 140.6\n",
      "125.56759333910944 126.54\n",
      "140.3170038781172 142.0\n",
      "139.24612935092654 140.6\n",
      "119.44208880123131 118.534\n",
      "100.6037495217227 99.238\n",
      "139.87770208809826 137.68\n",
      "90.53031798180928 90.052\n",
      "117.90287763954538 118.259\n",
      "138.407555270018 138.0\n",
      "148.21847305805466 150.798\n",
      "-5.872949582055597 -0.5\n",
      "31.630085402541738 36.074\n",
      "109.53994220910332 109.103\n",
      "115.62923664149412 113.467\n",
      "110.98594536509395 109.841\n",
      "-6.642025140730794 -11.73\n",
      "28.62858875385831 27.852\n",
      "135.00987206297742 136.0\n",
      "132.6190988687956 133.5\n",
      "119.38855490152145 117.647\n",
      "142.8600608550584 143.0\n",
      "140.4325804745405 140.4\n",
      "11.107474651257633 9.503\n"
     ]
    }
   ],
   "source": [
    "for i in range(res.shape[0]):\n",
    "    print(res[i], y_test[i])"
   ]
  },
  {
   "cell_type": "code",
   "execution_count": null,
   "metadata": {},
   "outputs": [],
   "source": []
  }
 ],
 "metadata": {
  "kernelspec": {
   "display_name": "Python 3",
   "language": "python",
   "name": "python3"
  },
  "language_info": {
   "codemirror_mode": {
    "name": "ipython",
    "version": 3
   },
   "file_extension": ".py",
   "mimetype": "text/x-python",
   "name": "python",
   "nbconvert_exporter": "python",
   "pygments_lexer": "ipython3",
   "version": "3.7.3"
  }
 },
 "nbformat": 4,
 "nbformat_minor": 2
}
