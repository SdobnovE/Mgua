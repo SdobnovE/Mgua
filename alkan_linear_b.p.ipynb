{
 "cells": [
  {
   "cell_type": "code",
   "execution_count": 1,
   "metadata": {},
   "outputs": [],
   "source": [
    "import numpy as np\n",
    "from sklearn.linear_model import LinearRegression\n",
    "import io\n",
    "import pandas as pd\n",
    "import os\n",
    "from sklearn.model_selection import train_test_split\n"
   ]
  },
  {
   "cell_type": "code",
   "execution_count": 2,
   "metadata": {},
   "outputs": [],
   "source": [
    "data = np.loadtxt(\"alkan/ALKAN.BLD\")"
   ]
  },
  {
   "cell_type": "code",
   "execution_count": 3,
   "metadata": {},
   "outputs": [
    {
     "data": {
      "text/plain": [
       "array([[ 2.,  1.,  0., ...,  2.,  1.,  1.],\n",
       "       [ 2.,  0.,  2., ...,  5.,  2.,  1.],\n",
       "       [ 2.,  0.,  2., ..., 10.,  4.,  2.],\n",
       "       ...,\n",
       "       [ 6.,  0.,  0., ..., 31., 13.,  2.],\n",
       "       [ 6.,  0.,  0., ..., 32., 14.,  2.],\n",
       "       [ 6.,  0.,  0., ..., 30., 12.,  2.]])"
      ]
     },
     "execution_count": 3,
     "metadata": {},
     "output_type": "execute_result"
    }
   ],
   "source": [
    "data"
   ]
  },
  {
   "cell_type": "code",
   "execution_count": 4,
   "metadata": {},
   "outputs": [
    {
     "data": {
      "text/plain": [
       "(74, 210)"
      ]
     },
     "execution_count": 4,
     "metadata": {},
     "output_type": "execute_result"
    }
   ],
   "source": [
    "data.shape"
   ]
  },
  {
   "cell_type": "code",
   "execution_count": 5,
   "metadata": {},
   "outputs": [],
   "source": [
    "n = data.shape[0]\n",
    "m = data.shape[1]"
   ]
  },
  {
   "cell_type": "code",
   "execution_count": 6,
   "metadata": {},
   "outputs": [
    {
     "data": {
      "text/plain": [
       "(74, 210)"
      ]
     },
     "execution_count": 6,
     "metadata": {},
     "output_type": "execute_result"
    }
   ],
   "source": [
    "(n,m)"
   ]
  },
  {
   "cell_type": "code",
   "execution_count": 7,
   "metadata": {},
   "outputs": [],
   "source": [
    "l = []\n",
    "word = 'A1 '\n",
    "with open('alkan/set-str/ALKAN.SET') as file:\n",
    "    for line in file:\n",
    "        if (word in line):\n",
    "            ape = float(line.split()[1])\n",
    "            l.append(ape)"
   ]
  },
  {
   "cell_type": "code",
   "execution_count": 8,
   "metadata": {},
   "outputs": [
    {
     "data": {
      "text/plain": [
       "74"
      ]
     },
     "execution_count": 8,
     "metadata": {},
     "output_type": "execute_result"
    }
   ],
   "source": [
    "len(l)"
   ]
  },
  {
   "cell_type": "code",
   "execution_count": 9,
   "metadata": {},
   "outputs": [],
   "source": [
    "y = np.array(l)"
   ]
  },
  {
   "cell_type": "code",
   "execution_count": 10,
   "metadata": {},
   "outputs": [],
   "source": [
    "model = LinearRegression()"
   ]
  },
  {
   "cell_type": "code",
   "execution_count": 11,
   "metadata": {},
   "outputs": [],
   "source": [
    "X_train, X_test, y_train, y_test = train_test_split(data, y, test_size=0.3, train_size=0.7)"
   ]
  },
  {
   "cell_type": "code",
   "execution_count": 12,
   "metadata": {},
   "outputs": [
    {
     "data": {
      "text/plain": [
       "LinearRegression(copy_X=True, fit_intercept=True, n_jobs=None,\n",
       "         normalize=False)"
      ]
     },
     "execution_count": 12,
     "metadata": {},
     "output_type": "execute_result"
    }
   ],
   "source": [
    "model.fit(X_train, y_train)"
   ]
  },
  {
   "cell_type": "code",
   "execution_count": 13,
   "metadata": {},
   "outputs": [
    {
     "data": {
      "text/plain": [
       "0.9959166442167182"
      ]
     },
     "execution_count": 13,
     "metadata": {},
     "output_type": "execute_result"
    }
   ],
   "source": [
    "model.score(X_test, y_test)"
   ]
  },
  {
   "cell_type": "code",
   "execution_count": 14,
   "metadata": {},
   "outputs": [],
   "source": [
    "predict = model.predict(X_test)\n"
   ]
  },
  {
   "cell_type": "code",
   "execution_count": 15,
   "metadata": {},
   "outputs": [
    {
     "name": "stdout",
     "output_type": "stream",
     "text": [
      "Предсказание модели = 137.58014973815384 \tИстинное значение = 136.73\n",
      "Предсказание модели = 118.58927859713879 \tИстинное значение = 117.647\n",
      "Предсказание модели = 109.1235873577871 \tИстинное значение = 109.841\n",
      "Предсказание модели = 141.30908762989074 \tИстинное значение = 140.4\n",
      "Предсказание модели = 118.77293606258911 \tИстинное значение = 117.709\n",
      "Предсказание модели = 138.82775280249493 \tИстинное значение = 140.46\n",
      "Предсказание модели = 99.92973306098335 \tИстинное значение = 98.427\n",
      "Предсказание модели = 56.43956599115373 \tИстинное значение = 57.988\n",
      "Предсказание модели = 27.848957051779507 \tИстинное значение = 27.852\n",
      "Предсказание модели = 138.94010120860148 \tИстинное значение = 138.0\n",
      "Предсказание модели = 128.77199737329713 \tИстинное значение = 133.016\n",
      "Предсказание модели = 34.08079793451367 \tИстинное значение = 36.074\n",
      "Предсказание модели = 139.5494331835113 \tИстинное значение = 140.6\n",
      "Предсказание модели = 117.20033547738728 \tИстинное значение = 115.65\n",
      "Предсказание модели = 113.70533793270442 \tИстинное значение = 114.76\n",
      "Предсказание модели = 119.14195757819743 \tИстинное значение = 118.925\n",
      "Предсказание модели = 100.68515899689726 \tИстинное значение = 99.238\n",
      "Предсказание модели = 133.70102857211148 \tИстинное значение = 133.5\n",
      "Предсказание модели = 127.28491703410401 \tИстинное значение = 125.665\n",
      "Предсказание модели = 125.07582044934787 \tИстинное значение = 126.54\n",
      "Предсказание модели = 112.90597599121077 \tИстинное значение = 122.284\n",
      "Предсказание модели = 58.52238420502917 \tИстинное значение = 60.271\n",
      "Предсказание модели = 9.395782658120766 \tИстинное значение = 9.503\n"
     ]
    }
   ],
   "source": [
    "for i in range(predict.shape[0]):\n",
    "    print(\"Предсказание модели =\",predict[i], \"\\tИстинное значение =\" ,y_test[i])"
   ]
  },
  {
   "cell_type": "code",
   "execution_count": 17,
   "metadata": {},
   "outputs": [],
   "source": [
    "mean_err = 0\n",
    "mean_sq_err = 0"
   ]
  },
  {
   "cell_type": "code",
   "execution_count": 21,
   "metadata": {},
   "outputs": [],
   "source": [
    "mean_err = (predict - y_test).sum() / predict.shape[0]\n",
    "mean_err = abs(mean_err)"
   ]
  },
  {
   "cell_type": "code",
   "execution_count": 22,
   "metadata": {},
   "outputs": [],
   "source": [
    "mean_sq_err = ((predict - y_test)**2).sum() / predict.shape[0]"
   ]
  },
  {
   "cell_type": "code",
   "execution_count": 23,
   "metadata": {},
   "outputs": [
    {
     "name": "stdout",
     "output_type": "stream",
     "text": [
      "Средняя ошибка 0.595561874478039\n",
      "Среднеквадратическая ошибка 5.950337283353633\n"
     ]
    }
   ],
   "source": [
    "print(\"Средняя ошибка\", mean_err)\n",
    "print(\"Среднеквадратическая ошибка\", mean_sq_err)"
   ]
  },
  {
   "cell_type": "code",
   "execution_count": null,
   "metadata": {},
   "outputs": [],
   "source": []
  }
 ],
 "metadata": {
  "kernelspec": {
   "display_name": "Python 3",
   "language": "python",
   "name": "python3"
  },
  "language_info": {
   "codemirror_mode": {
    "name": "ipython",
    "version": 3
   },
   "file_extension": ".py",
   "mimetype": "text/x-python",
   "name": "python",
   "nbconvert_exporter": "python",
   "pygments_lexer": "ipython3",
   "version": "3.7.3"
  }
 },
 "nbformat": 4,
 "nbformat_minor": 2
}
