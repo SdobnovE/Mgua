{
 "cells": [
  {
   "cell_type": "code",
   "execution_count": 48,
   "metadata": {},
   "outputs": [],
   "source": [
    "import numpy as np\n",
    "from sklearn.linear_model import LinearRegression\n",
    "import io\n",
    "import seaborn as sns\n",
    "import pandas as pd\n",
    "import os\n",
    "from sklearn.model_selection import train_test_split\n",
    "from sklearn.linear_model import Ridge"
   ]
  },
  {
   "cell_type": "code",
   "execution_count": 49,
   "metadata": {},
   "outputs": [],
   "source": [
    "data = np.loadtxt(\"alkan/ALKAN.BLD\")\n"
   ]
  },
  {
   "cell_type": "code",
   "execution_count": 50,
   "metadata": {},
   "outputs": [
    {
     "data": {
      "text/plain": [
       "array([[ 2.,  1.,  0., ...,  2.,  1.,  1.],\n",
       "       [ 2.,  0.,  2., ...,  5.,  2.,  1.],\n",
       "       [ 2.,  0.,  2., ..., 10.,  4.,  2.],\n",
       "       ...,\n",
       "       [ 6.,  0.,  0., ..., 31., 13.,  2.],\n",
       "       [ 6.,  0.,  0., ..., 32., 14.,  2.],\n",
       "       [ 6.,  0.,  0., ..., 30., 12.,  2.]])"
      ]
     },
     "execution_count": 50,
     "metadata": {},
     "output_type": "execute_result"
    }
   ],
   "source": [
    "data"
   ]
  },
  {
   "cell_type": "code",
   "execution_count": 51,
   "metadata": {},
   "outputs": [
    {
     "data": {
      "text/plain": [
       "(74, 210)"
      ]
     },
     "execution_count": 51,
     "metadata": {},
     "output_type": "execute_result"
    }
   ],
   "source": [
    "data.shape"
   ]
  },
  {
   "cell_type": "code",
   "execution_count": 52,
   "metadata": {},
   "outputs": [],
   "source": [
    "n = data.shape[0]\n",
    "m = data.shape[1]"
   ]
  },
  {
   "cell_type": "code",
   "execution_count": 53,
   "metadata": {},
   "outputs": [
    {
     "data": {
      "text/plain": [
       "(74, 210)"
      ]
     },
     "execution_count": 53,
     "metadata": {},
     "output_type": "execute_result"
    }
   ],
   "source": [
    "(n,m)"
   ]
  },
  {
   "cell_type": "code",
   "execution_count": 54,
   "metadata": {},
   "outputs": [],
   "source": [
    "l = []\n",
    "word = 'A1 '\n",
    "with open('alkan/set-str/ALKAN.SET') as file:\n",
    "    for line in file:\n",
    "        if (word in line):\n",
    "            ape = float(line.split()[1])\n",
    "            l.append(ape)"
   ]
  },
  {
   "cell_type": "code",
   "execution_count": 55,
   "metadata": {},
   "outputs": [
    {
     "name": "stdout",
     "output_type": "stream",
     "text": [
      "Num_features = 74\n",
      "feature 0 = -88.63\n",
      "feature 1 = -42.07\n",
      "feature 2 = -0.5\n",
      "feature 3 = -11.73\n",
      "feature 4 = 36.074\n",
      "feature 5 = 27.852\n",
      "feature 6 = 9.503\n",
      "feature 7 = 68.74\n",
      "feature 8 = 60.271\n",
      "feature 9 = 63.282\n"
     ]
    }
   ],
   "source": [
    "print(\"Num_features =\", len(l))\n",
    "for i in range(min(len(l), 10)):\n",
    "    print(\"feature\", i,\"=\", l[i])"
   ]
  },
  {
   "cell_type": "code",
   "execution_count": 56,
   "metadata": {},
   "outputs": [
    {
     "data": {
      "text/plain": [
       "(74,)"
      ]
     },
     "execution_count": 56,
     "metadata": {},
     "output_type": "execute_result"
    }
   ],
   "source": [
    "y = np.array(l)\n",
    "y.shape"
   ]
  },
  {
   "cell_type": "code",
   "execution_count": 57,
   "metadata": {},
   "outputs": [
    {
     "data": {
      "text/plain": [
       "array([-88.63 , -42.07 ,  -0.5  , -11.73 ,  36.074,  27.852,   9.503,\n",
       "        68.74 ,  60.271,  63.282,  49.741,  57.988,  98.427,  90.052,\n",
       "        91.85 ,  93.475,  79.197,  89.784,  80.5  ,  86.064,  80.882,\n",
       "       125.665, 117.647, 118.925, 117.709, 118.534, 106.84 , 115.607,\n",
       "       109.429, 109.103, 111.969, 117.725, 115.65 , 118.259, 109.841,\n",
       "        99.238, 114.76 , 113.467, 106.47 , 150.798, 143.26 , 144.18 ,\n",
       "       142.48 , 143.   , 141.2  , 132.69 , 140.5  , 133.5  , 136.   ,\n",
       "       135.21 , 137.3  , 140.6  , 136.   , 135.2  , 138.   , 133.8  ,\n",
       "       140.6  , 140.4  , 133.6  , 126.54 , 124.084, 137.68 , 139.   ,\n",
       "       131.34 , 130.648, 140.46 , 146.168, 133.83 , 142.   , 136.73 ,\n",
       "       140.274, 133.016, 122.284, 141.551])"
      ]
     },
     "execution_count": 57,
     "metadata": {},
     "output_type": "execute_result"
    }
   ],
   "source": [
    "y"
   ]
  },
  {
   "cell_type": "code",
   "execution_count": 58,
   "metadata": {},
   "outputs": [],
   "source": [
    "def R_rise_2 (Eps, y, y_mean):\n",
    "    result1 = np.sum(Eps**2)\n",
    "    result2 = np.sum((y-y.mean())**2)\n",
    "    return 1 - result1 / result2\n",
    "\n",
    "\n",
    "def Correlation(X, Y):\n",
    "    X_mean = X.sum() / X.shape[0]\n",
    "    Y_mean = Y.sum() / Y.shape[0]\n",
    "    res = ((X) * (Y)).sum()\n",
    "    res1 = (((X) ** 2)) \n",
    "    res2 = (((Y) ** 2)) \n",
    "    \n",
    "    return  res / (((res1.sum() * res2.sum())) ** 0.5)"
   ]
  },
  {
   "cell_type": "code",
   "execution_count": 59,
   "metadata": {},
   "outputs": [],
   "source": [
    "size_buf = 10\n",
    "num_selections = 10\n",
    "min_correlation = 0.95\n",
    "#100\n",
    "#15"
   ]
  },
  {
   "cell_type": "code",
   "execution_count": 60,
   "metadata": {},
   "outputs": [],
   "source": [
    "model = Ridge(alpha=0.2)"
   ]
  },
  {
   "cell_type": "code",
   "execution_count": 61,
   "metadata": {},
   "outputs": [
    {
     "data": {
      "text/plain": [
       "array([0.09285714, 0.1907381 , 0.33778095, 0.31322381, 0.53822857,\n",
       "       0.50626667, 0.46634762, 0.79669048, 0.74421905, 0.74644286,\n",
       "       0.7040619 , 0.69749048, 1.11633333, 1.06962381, 1.06011905,\n",
       "       1.02632381, 0.99708095, 0.99303333, 1.00302857, 0.9837381 ,\n",
       "       0.93640952, 1.494     , 1.42669524, 1.41860952, 1.43021905,\n",
       "       1.40549524, 1.36054762, 1.37269524, 1.3561    , 1.37696667,\n",
       "       1.35222857, 1.3351619 , 1.32382381, 1.3034619 , 1.2579381 ,\n",
       "       1.27928095, 1.27077619, 1.29133333, 1.18765238, 1.95123333,\n",
       "       1.87832857, 1.85914286, 1.87329524, 1.82781905, 1.83665714,\n",
       "       1.78150476, 1.79542857, 1.79074286, 1.78900476, 1.79551905,\n",
       "       1.7769    , 1.77144762, 1.76990952, 1.77332857, 1.76851429,\n",
       "       1.76265714, 1.73765238, 1.7309    , 1.70322857, 1.6973619 ,\n",
       "       1.72905238, 1.70461429, 1.6983381 , 1.73022857, 1.69916667,\n",
       "       1.66721429, 1.67419048, 1.63922857, 1.64113333, 1.67244286,\n",
       "       1.5761619 , 1.60750476, 1.60711429, 1.60879524])"
      ]
     },
     "execution_count": 61,
     "metadata": {},
     "output_type": "execute_result"
    }
   ],
   "source": [
    "y_mean = data.sum(axis = 1)\n",
    "y_mean = y_mean / m\n",
    "y_mean"
   ]
  },
  {
   "cell_type": "code",
   "execution_count": 62,
   "metadata": {},
   "outputs": [
    {
     "data": {
      "text/plain": [
       "(10, 74, 10)"
      ]
     },
     "execution_count": 62,
     "metadata": {},
     "output_type": "execute_result"
    }
   ],
   "source": [
    "buf_r = np.array([0.0 for i in range(size_buf)])\n",
    "buf_size_ar = np.array([0 for i in range(num_selections)])\n",
    "iter_buf = 0\n",
    "\n",
    "buf_numbers = np.array([[-1 for i in range(size_buf)] for k in range(num_selections)])\n",
    "buf_numbers_1 = np.array([[-1 for i in range(size_buf)] for k in range(num_selections)])\n",
    "\n",
    "buf = np.array([[[float(i) for i in range(size_buf)] for j in range(n)] for k in range(num_selections)])\n",
    "\n",
    "X1 = np.array([[float(i) for i in range(1)] for j in range(n)])\n",
    "X2 = np.array([[float(i) for i in range(2)] for j in range(n)])\n",
    "buf.shape"
   ]
  },
  {
   "cell_type": "code",
   "execution_count": 63,
   "metadata": {},
   "outputs": [
    {
     "name": "stdout",
     "output_type": "stream",
     "text": [
      "[[-2 -2 -2 -2 -2 -2 -2 -2 -2 -2]\n",
      " [-1 -1 -1 -1 -1 -1 -1 -1 -1 -1]\n",
      " [-1 -1 -1 -1 -1 -1 -1 -1 -1 -1]\n",
      " [-1 -1 -1 -1 -1 -1 -1 -1 -1 -1]\n",
      " [-1 -1 -1 -1 -1 -1 -1 -1 -1 -1]\n",
      " [-1 -1 -1 -1 -1 -1 -1 -1 -1 -1]\n",
      " [-1 -1 -1 -1 -1 -1 -1 -1 -1 -1]\n",
      " [-1 -1 -1 -1 -1 -1 -1 -1 -1 -1]\n",
      " [-1 -1 -1 -1 -1 -1 -1 -1 -1 -1]\n",
      " [-1 -1 -1 -1 -1 -1 -1 -1 -1 -1]]\n",
      "\n",
      "\n",
      "\n",
      "3\n",
      "CPU times: user 78.9 ms, sys: 3.82 ms, total: 82.7 ms\n",
      "Wall time: 82 ms\n"
     ]
    }
   ],
   "source": [
    "%%time\n",
    "for i in range(m):\n",
    "    X1[:,0] = data[:,i]\n",
    "    model.fit(X1, y)\n",
    "    if iter_buf < size_buf:\n",
    "        tmp = model.predict(X1)\n",
    "        ar = np.array([])\n",
    "\n",
    "        for j in range (iter_buf):\n",
    "            t = Correlation (buf[0, :,j], tmp)\n",
    "            ar = np.append (ar, t)\n",
    "        #print(ar)\n",
    "        if (iter_buf == 0) or (ar.max() < min_correlation):    \n",
    "            buf_r[iter_buf] = R_rise_2(y - tmp, y, y_mean)\n",
    "            buf_numbers[0, iter_buf] = i\n",
    "            buf[0, :, iter_buf] = tmp[:]\n",
    "            iter_buf += 1\n",
    "            \n",
    "    else:\n",
    "        tmp = model.predict(X1)\n",
    "        ind = buf_r.argmin()\n",
    "        ar = np.array([])\n",
    "        for j in range (buf.shape[2]):\n",
    "            t = Correlation (buf[0, :,j], tmp)\n",
    "            ar = np.append (ar, t)\n",
    "        #print(ar)\n",
    "        if (ar.max() < min_correlation) and (buf_r[ind] < R_rise_2(y - tmp, y, y_mean)): \n",
    "            buf_r[ind] = R_rise_2(y - tmp, y, y_mean)\n",
    "            buf_numbers[0, ind] = i\n",
    "            buf[0, :, ind] = tmp[:]\n",
    "buf_numbers_1[0, :] = -2\n",
    "print(buf_numbers_1, end=\"\\n\\n\\n\\n\")\n",
    "buf_size_ar[0] = iter_buf\n",
    "print(buf_size_ar[0])"
   ]
  },
  {
   "cell_type": "code",
   "execution_count": 64,
   "metadata": {},
   "outputs": [
    {
     "name": "stdout",
     "output_type": "stream",
     "text": [
      "selection 2 from 10\n",
      "selection 3 from 10\n",
      "selection 4 from 10\n",
      "selection 5 from 10\n",
      "selection 6 from 10\n",
      "selection 7 from 10\n",
      "selection 8 from 10\n",
      "selection 9 from 10\n",
      "selection 10 from 10\n",
      "CPU times: user 2.42 s, sys: 0 ns, total: 2.42 s\n",
      "Wall time: 2.42 s\n"
     ]
    }
   ],
   "source": [
    "%%time\n",
    "for k in range (1, num_selections):\n",
    "    iter_buf = 0\n",
    "    for i in range(buf_size_ar[k - 1]):\n",
    "        for j in range(0, m):\n",
    "            #print(data[:,i].shape)\n",
    "            X2[:, 0] = buf[k - 1, :, i]\n",
    "            X2[:, 1] = data[:, j]\n",
    "            model.fit(X2, y)\n",
    "            if iter_buf < size_buf:\n",
    "                tmp = model.predict(X2)\n",
    "                ar = np.array([])\n",
    "            \n",
    "                for j1 in range (iter_buf):\n",
    "                    t = Correlation (buf[0, :,j1], tmp)\n",
    "                    ar = np.append (ar, t)\n",
    "                #print(j, ar)\n",
    "                \n",
    "                if (iter_buf == 0) or (ar.max() < min_correlation):\n",
    "                    buf_r[iter_buf] = R_rise_2(y - tmp, y, y_mean)\n",
    "                    buf_numbers[k, iter_buf] = j\n",
    "                    #print(\"*******\",i, j)\n",
    "                    buf_numbers_1[k, iter_buf] = i\n",
    "                    buf[k, :,iter_buf] = tmp[:]\n",
    "                    iter_buf += 1\n",
    "\n",
    "            else:\n",
    "                tmp = model.predict(X2)\n",
    "                ind = buf_r.argmin()\n",
    "                ar = np.array([])\n",
    "                for j1 in range (buf.shape[2]):\n",
    "                    t = Correlation (buf[0, :,j1], tmp)\n",
    "                    ar = np.append (ar, t)\n",
    "                if (ar.max() < min_correlation) and (buf_r[ind] < R_rise_2(y - tmp, y, y_mean)):\n",
    "                    buf_r[ind] = R_rise_2(y - tmp, y, y_mean)\n",
    "                    buf_numbers[k, ind] = j\n",
    "                    buf_numbers_1[k, ind] = i\n",
    "                    buf[k, :, ind] = tmp[:]\n",
    "    buf_size_ar[k] = iter_buf\n",
    "\n",
    "    print(\"selection\", k + 1, \"from\", num_selections)"
   ]
  },
  {
   "cell_type": "code",
   "execution_count": 65,
   "metadata": {},
   "outputs": [
    {
     "data": {
      "text/plain": [
       "array([[  0, 130, 188,  -1,  -1,  -1,  -1,  -1,  -1,  -1],\n",
       "       [  0, 130, 188,  -1,  -1,  -1,  -1,  -1,  -1,  -1],\n",
       "       [  0, 130, 188,  -1,  -1,  -1,  -1,  -1,  -1,  -1],\n",
       "       [  0, 130, 188,  -1,  -1,  -1,  -1,  -1,  -1,  -1],\n",
       "       [  0, 130, 188,  -1,  -1,  -1,  -1,  -1,  -1,  -1],\n",
       "       [  0, 130, 188,  -1,  -1,  -1,  -1,  -1,  -1,  -1],\n",
       "       [  0, 130, 188,  -1,  -1,  -1,  -1,  -1,  -1,  -1],\n",
       "       [  0, 130, 188,  -1,  -1,  -1,  -1,  -1,  -1,  -1],\n",
       "       [  0, 130, 188,  -1,  -1,  -1,  -1,  -1,  -1,  -1],\n",
       "       [  0, 130, 188,  -1,  -1,  -1,  -1,  -1,  -1,  -1]])"
      ]
     },
     "execution_count": 65,
     "metadata": {},
     "output_type": "execute_result"
    }
   ],
   "source": [
    "buf_numbers"
   ]
  },
  {
   "cell_type": "code",
   "execution_count": 66,
   "metadata": {},
   "outputs": [
    {
     "data": {
      "text/plain": [
       "array([[-2, -2, -2, -2, -2, -2, -2, -2, -2, -2],\n",
       "       [ 0,  0,  0, -1, -1, -1, -1, -1, -1, -1],\n",
       "       [ 0,  0,  0, -1, -1, -1, -1, -1, -1, -1],\n",
       "       [ 0,  0,  0, -1, -1, -1, -1, -1, -1, -1],\n",
       "       [ 0,  0,  0, -1, -1, -1, -1, -1, -1, -1],\n",
       "       [ 0,  0,  0, -1, -1, -1, -1, -1, -1, -1],\n",
       "       [ 0,  0,  0, -1, -1, -1, -1, -1, -1, -1],\n",
       "       [ 0,  0,  0, -1, -1, -1, -1, -1, -1, -1],\n",
       "       [ 0,  0,  0, -1, -1, -1, -1, -1, -1, -1],\n",
       "       [ 0,  0,  0, -1, -1, -1, -1, -1, -1, -1]])"
      ]
     },
     "execution_count": 66,
     "metadata": {},
     "output_type": "execute_result"
    }
   ],
   "source": [
    "buf_numbers_1"
   ]
  },
  {
   "cell_type": "code",
   "execution_count": 67,
   "metadata": {},
   "outputs": [
    {
     "data": {
      "text/plain": [
       "array([3, 3, 3, 3, 3, 3, 3, 3, 3, 3])"
      ]
     },
     "execution_count": 67,
     "metadata": {},
     "output_type": "execute_result"
    }
   ],
   "source": [
    "buf_size_ar"
   ]
  },
  {
   "cell_type": "code",
   "execution_count": 68,
   "metadata": {},
   "outputs": [],
   "source": [
    "lis = []\n",
    "for i in range(buf_size_ar[num_selections - 1]):\n",
    "    lis.append([buf_numbers[num_selections - 1][i]])"
   ]
  },
  {
   "cell_type": "code",
   "execution_count": 69,
   "metadata": {},
   "outputs": [],
   "source": [
    "for i in range(num_selections - 1, 0, -1):\n",
    "    #print(i)\n",
    "    for j in range(buf_size_ar[i - 1]):\n",
    "        lis[j].append(buf_numbers[i - 1][buf_numbers_1[i,j]])\n",
    "\n"
   ]
  },
  {
   "cell_type": "code",
   "execution_count": 70,
   "metadata": {},
   "outputs": [
    {
     "data": {
      "text/plain": [
       "[[0, 0, 0, 0, 0, 0, 0, 0, 0, 0],\n",
       " [130, 0, 0, 0, 0, 0, 0, 0, 0, 0],\n",
       " [188, 0, 0, 0, 0, 0, 0, 0, 0, 0]]"
      ]
     },
     "execution_count": 70,
     "metadata": {},
     "output_type": "execute_result"
    }
   ],
   "source": [
    "\n",
    "lis"
   ]
  },
  {
   "cell_type": "code",
   "execution_count": 71,
   "metadata": {},
   "outputs": [
    {
     "name": "stdout",
     "output_type": "stream",
     "text": [
      "[0, 0, 0, 0, 0, 0, 0, 0, 0, 0]\n",
      "[0, 0, 0, 0, 0, 0, 0, 0, 0, 130]\n",
      "[0, 0, 0, 0, 0, 0, 0, 0, 0, 188]\n"
     ]
    }
   ],
   "source": [
    "for i in range(buf_size_ar[num_selections-1]):\n",
    "    lis[i].sort()\n",
    "    print(lis[i])"
   ]
  },
  {
   "cell_type": "code",
   "execution_count": 72,
   "metadata": {},
   "outputs": [
    {
     "data": {
      "text/plain": [
       "0.9896632544109547"
      ]
     },
     "execution_count": 72,
     "metadata": {},
     "output_type": "execute_result"
    }
   ],
   "source": [
    "clf = Ridge(alpha=0.1)\n",
    "X_train, X_test, y_train, y_test = train_test_split(data, y, train_size=0.6, test_size=0.4)\n",
    "clf.fit(X_train, y_train)\n",
    "clf.score(X_test, y_test)"
   ]
  },
  {
   "cell_type": "code",
   "execution_count": 73,
   "metadata": {},
   "outputs": [
    {
     "name": "stdout",
     "output_type": "stream",
     "text": [
      "0.06679105896743909\n",
      "0.8949390818525585\n",
      "0.9771142939366965\n"
     ]
    }
   ],
   "source": [
    "for i in range(buf_size_ar[num_selections-1]):\n",
    "    clf.fit(X_train[:,np.unique(lis[i])], y_train)\n",
    "    print(clf.score(X_test[:,np.unique(lis[i])], y_test))"
   ]
  },
  {
   "cell_type": "code",
   "execution_count": 74,
   "metadata": {},
   "outputs": [],
   "source": [
    "clf_Lin = LinearRegression()\n",
    "clf_MGUA = LinearRegression()\n",
    "res_MGUA = clf_MGUA.fit(X_train[:,np.unique(lis[2])], y_train)\n",
    "res_Lin = clf_Lin.fit(X_train, y_train)"
   ]
  },
  {
   "cell_type": "code",
   "execution_count": 75,
   "metadata": {},
   "outputs": [],
   "source": [
    "predict_MGUA = clf_MGUA.predict(X_test[:,np.unique(lis[2])])"
   ]
  },
  {
   "cell_type": "code",
   "execution_count": 76,
   "metadata": {},
   "outputs": [],
   "source": [
    "predict_Lin = clf_Lin.predict(X_test)"
   ]
  },
  {
   "cell_type": "code",
   "execution_count": 77,
   "metadata": {},
   "outputs": [
    {
     "name": "stdout",
     "output_type": "stream",
     "text": [
      "МГУА 136.70792502729057 Лин.регрессия 134.4351238803095 Истинное значение 133.6\n",
      "МГУА 111.1456153555054 Лин.регрессия 117.09582721071577 Истинное значение 115.65\n",
      "МГУА 118.93317867695218 Лин.регрессия 128.95645835458447 Истинное значение 125.665\n",
      "МГУА 136.70792502729057 Лин.регрессия 139.99966710285395 Истинное значение 139.0\n",
      "МГУА 132.81414336656718 Лин.регрессия 133.24104214104761 Истинное значение 133.016\n",
      "МГУА 89.47708734444363 Лин.регрессия 98.35812523596253 Истинное значение 98.427\n",
      "МГУА 107.25183369478201 Лин.регрессия 109.33164438976293 Истинное значение 109.841\n",
      "МГУА 148.38927000946074 Лин.регрессия 153.8321421304464 Истинное значение 150.798\n",
      "МГУА 140.60170668801396 Лин.регрессия 131.50524770216754 Истинное значение 133.8\n",
      "МГУА -57.803369318099136 Лин.регрессия -63.61302118640813 Истинное значение -88.63\n",
      "МГУА 111.1456153555054 Лин.регрессия 118.75704114835499 Истинное значение 117.725\n",
      "МГУА 22.77734135797975 Лин.регрессия 9.00396534970534 Истинное значение 9.503\n",
      "МГУА 136.70792502729057 Лин.регрессия 131.0825877738232 Истинное значение 131.34\n",
      "МГУА 81.68952402299685 Лин.регрессия 77.97089627081074 Истинное значение 79.197\n",
      "МГУА 140.60170668801396 Лин.регрессия 136.57609124652538 Истинное значение 137.3\n",
      "МГУА 85.58330568372024 Лин.регрессия 93.12462245227873 Истинное значение 91.85\n",
      "МГУА 56.12721435121169 Лин.регрессия 62.512358266704396 Истинное значение 63.282\n",
      "МГУА 140.60170668801396 Лин.регрессия 140.73385623341585 Истинное значение 140.4\n",
      "МГУА 52.2334326904883 Лин.регрессия 51.6595326021541 Истинное значение 49.741\n",
      "МГУА 144.49548834873735 Лин.регрессия 136.76866293015314 Истинное значение 141.2\n",
      "МГУА 140.60170668801396 Лин.регрессия 136.43574199209485 Истинное значение 140.6\n",
      "МГУА 140.60170668801396 Лин.регрессия 132.86573521733874 Истинное значение 132.69\n",
      "МГУА 144.49548834873735 Лин.регрессия 145.54636021232062 Истинное значение 143.26\n",
      "МГУА 140.60170668801396 Лин.регрессия 134.85938717239554 Истинное значение 136.0\n",
      "МГУА 144.49548834873735 Лин.регрессия 147.39994221035886 Истинное значение 144.18\n",
      "МГУА 111.1456153555054 Лин.регрессия 114.3991565866033 Истинное значение 118.259\n",
      "МГУА 140.60170668801396 Лин.регрессия 136.96068732914762 Истинное значение 138.0\n",
      "МГУА 30.564904679426533 Лин.регрессия 32.89867845085658 Истинное значение 36.074\n",
      "МГУА 81.68952402299685 Лин.регрессия 80.22208607490218 Истинное значение 80.5\n",
      "МГУА 140.60170668801396 Лин.регрессия 137.08608647614022 Истинное значение 146.168\n"
     ]
    }
   ],
   "source": [
    "for i in range(predict_Lin.shape[0]):\n",
    "    print(\"МГУА\", predict_MGUA[i], \"Лин.регрессия\", predict_Lin[i], \"Истинное значение\", y_test[i])"
   ]
  },
  {
   "cell_type": "code",
   "execution_count": null,
   "metadata": {},
   "outputs": [],
   "source": []
  }
 ],
 "metadata": {
  "kernelspec": {
   "display_name": "Python 3",
   "language": "python",
   "name": "python3"
  },
  "language_info": {
   "codemirror_mode": {
    "name": "ipython",
    "version": 3
   },
   "file_extension": ".py",
   "mimetype": "text/x-python",
   "name": "python",
   "nbconvert_exporter": "python",
   "pygments_lexer": "ipython3",
   "version": "3.7.3"
  }
 },
 "nbformat": 4,
 "nbformat_minor": 2
}
