{
 "cells": [
  {
   "cell_type": "code",
   "execution_count": 1,
   "metadata": {},
   "outputs": [],
   "source": [
    "import numpy as np\n",
    "from sklearn.linear_model import LinearRegression\n",
    "import io\n",
    "import seaborn as sns\n",
    "import pandas as pd\n",
    "import os\n",
    "from sklearn.model_selection import train_test_split\n",
    "from sklearn.linear_model import Ridge"
   ]
  },
  {
   "cell_type": "code",
   "execution_count": 3,
   "metadata": {},
   "outputs": [],
   "source": [
    "data = np.loadtxt(\"alkan/ALKAN.BLD\")"
   ]
  },
  {
   "cell_type": "code",
   "execution_count": 4,
   "metadata": {},
   "outputs": [
    {
     "data": {
      "text/plain": [
       "array([[ 2.,  1.,  0., ...,  2.,  1.,  1.],\n",
       "       [ 2.,  0.,  2., ...,  5.,  2.,  1.],\n",
       "       [ 2.,  0.,  2., ..., 10.,  4.,  2.],\n",
       "       ...,\n",
       "       [ 6.,  0.,  0., ..., 31., 13.,  2.],\n",
       "       [ 6.,  0.,  0., ..., 32., 14.,  2.],\n",
       "       [ 6.,  0.,  0., ..., 30., 12.,  2.]])"
      ]
     },
     "execution_count": 4,
     "metadata": {},
     "output_type": "execute_result"
    }
   ],
   "source": [
    "data"
   ]
  },
  {
   "cell_type": "code",
   "execution_count": 5,
   "metadata": {},
   "outputs": [
    {
     "data": {
      "text/plain": [
       "(74, 210)"
      ]
     },
     "execution_count": 5,
     "metadata": {},
     "output_type": "execute_result"
    }
   ],
   "source": [
    "data.shape"
   ]
  },
  {
   "cell_type": "code",
   "execution_count": 6,
   "metadata": {},
   "outputs": [],
   "source": [
    "n = data.shape[0]\n",
    "m = data.shape[1]"
   ]
  },
  {
   "cell_type": "code",
   "execution_count": 7,
   "metadata": {},
   "outputs": [
    {
     "data": {
      "text/plain": [
       "(74, 210)"
      ]
     },
     "execution_count": 7,
     "metadata": {},
     "output_type": "execute_result"
    }
   ],
   "source": [
    "(n,m)"
   ]
  },
  {
   "cell_type": "code",
   "execution_count": 8,
   "metadata": {},
   "outputs": [],
   "source": [
    "l = []\n",
    "word = 'A8 '\n",
    "with open('alkan/set-str/ALKAN.SET') as file:\n",
    "    for line in file:\n",
    "        if (word in line):\n",
    "            ape = float(line.split()[1])\n",
    "            l.append(ape)"
   ]
  },
  {
   "cell_type": "code",
   "execution_count": 9,
   "metadata": {},
   "outputs": [
    {
     "data": {
      "text/plain": [
       "74"
      ]
     },
     "execution_count": 9,
     "metadata": {},
     "output_type": "execute_result"
    }
   ],
   "source": [
    "len(l)"
   ]
  },
  {
   "cell_type": "code",
   "execution_count": 10,
   "metadata": {},
   "outputs": [],
   "source": [
    "index_del = []\n",
    "y = np.array(l)"
   ]
  },
  {
   "cell_type": "code",
   "execution_count": 11,
   "metadata": {},
   "outputs": [],
   "source": [
    "for i in range(y.shape[0]):\n",
    "    if abs(y[i] - 0.0) < 1e-10:\n",
    "        index_del.append(i)"
   ]
  },
  {
   "cell_type": "code",
   "execution_count": 12,
   "metadata": {},
   "outputs": [],
   "source": [
    "new_data = np.delete(data, index_del, axis=0)\n",
    "new_y = np.delete(y, index_del, axis=0)"
   ]
  },
  {
   "cell_type": "code",
   "execution_count": 13,
   "metadata": {},
   "outputs": [
    {
     "name": "stdout",
     "output_type": "stream",
     "text": [
      "(56, 210)\n",
      "(56,)\n"
     ]
    }
   ],
   "source": [
    "print(new_data.shape)\n",
    "print(new_y.shape)"
   ]
  },
  {
   "cell_type": "code",
   "execution_count": 14,
   "metadata": {},
   "outputs": [],
   "source": [
    "X_train, X_test, y_train, y_test = train_test_split(new_data, new_y, test_size=0.3, train_size=0.7)"
   ]
  },
  {
   "cell_type": "code",
   "execution_count": 15,
   "metadata": {},
   "outputs": [],
   "source": [
    "def R_rise_2 (Eps, y, y_mean):\n",
    "    result1 = np.sum(Eps**2)\n",
    "    result2 = np.sum((y-y.mean())**2)\n",
    "    return 1 - result1 / result2\n",
    "\n",
    "\n",
    "def Correlation(X, Y):\n",
    "    X_mean = X.sum() / X.shape[0]\n",
    "    Y_mean = Y.sum() / Y.shape[0]\n",
    "    res = ((X) * (Y)).sum()\n",
    "    res1 = (((X) ** 2)) \n",
    "    res2 = (((Y) ** 2)) \n",
    "    \n",
    "    return  res / (((res1.sum() * res2.sum())) ** 0.5)"
   ]
  },
  {
   "cell_type": "code",
   "execution_count": 16,
   "metadata": {},
   "outputs": [],
   "source": [
    "size_buf = 10\n",
    "num_selections = 10\n",
    "min_correlation = 0.95\n",
    "#100\n",
    "#15"
   ]
  },
  {
   "cell_type": "code",
   "execution_count": 17,
   "metadata": {},
   "outputs": [],
   "source": [
    "model = Ridge(alpha=0.2)"
   ]
  },
  {
   "cell_type": "code",
   "execution_count": 18,
   "metadata": {},
   "outputs": [
    {
     "data": {
      "text/plain": [
       "array([0.09285714, 0.1907381 , 0.33778095, 0.31322381, 0.53822857,\n",
       "       0.50626667, 0.46634762, 0.79669048, 0.74421905, 0.74644286,\n",
       "       0.7040619 , 0.69749048, 1.11633333, 1.06962381, 1.06011905,\n",
       "       1.02632381, 0.99708095, 0.99303333, 1.00302857, 0.9837381 ,\n",
       "       0.93640952, 1.494     , 1.42669524, 1.41860952, 1.43021905,\n",
       "       1.40549524, 1.36054762, 1.37269524, 1.3561    , 1.37696667,\n",
       "       1.35222857, 1.3351619 , 1.32382381, 1.3034619 , 1.2579381 ,\n",
       "       1.27928095, 1.27077619, 1.29133333, 1.18765238, 1.95123333,\n",
       "       1.87832857, 1.85914286, 1.87329524, 1.82781905, 1.83665714,\n",
       "       1.78150476, 1.79542857, 1.79074286, 1.78900476, 1.79551905,\n",
       "       1.7769    , 1.77144762, 1.76990952, 1.77332857, 1.76851429,\n",
       "       1.76265714, 1.73765238, 1.7309    , 1.70322857, 1.6973619 ,\n",
       "       1.72905238, 1.70461429, 1.6983381 , 1.73022857, 1.69916667,\n",
       "       1.66721429, 1.67419048, 1.63922857, 1.64113333, 1.67244286,\n",
       "       1.5761619 , 1.60750476, 1.60711429, 1.60879524])"
      ]
     },
     "execution_count": 18,
     "metadata": {},
     "output_type": "execute_result"
    }
   ],
   "source": [
    "y_mean = data.sum(axis = 1)\n",
    "y_mean = y_mean / m\n",
    "y_mean"
   ]
  },
  {
   "cell_type": "code",
   "execution_count": 19,
   "metadata": {},
   "outputs": [
    {
     "data": {
      "text/plain": [
       "(10, 74, 10)"
      ]
     },
     "execution_count": 19,
     "metadata": {},
     "output_type": "execute_result"
    }
   ],
   "source": [
    "buf_r = np.array([0.0 for i in range(size_buf)])\n",
    "buf_size_ar = np.array([0 for i in range(num_selections)])\n",
    "iter_buf = 0\n",
    "\n",
    "buf_numbers = np.array([[-1 for i in range(size_buf)] for k in range(num_selections)])\n",
    "buf_numbers_1 = np.array([[-1 for i in range(size_buf)] for k in range(num_selections)])\n",
    "\n",
    "buf = np.array([[[float(i) for i in range(size_buf)] for j in range(n)] for k in range(num_selections)])\n",
    "\n",
    "X1 = np.array([[float(i) for i in range(1)] for j in range(n)])\n",
    "X2 = np.array([[float(i) for i in range(2)] for j in range(n)])\n",
    "buf.shape"
   ]
  },
  {
   "cell_type": "code",
   "execution_count": 20,
   "metadata": {},
   "outputs": [
    {
     "name": "stdout",
     "output_type": "stream",
     "text": [
      "[[-2 -2 -2 -2 -2 -2 -2 -2 -2 -2]\n",
      " [-1 -1 -1 -1 -1 -1 -1 -1 -1 -1]\n",
      " [-1 -1 -1 -1 -1 -1 -1 -1 -1 -1]\n",
      " [-1 -1 -1 -1 -1 -1 -1 -1 -1 -1]\n",
      " [-1 -1 -1 -1 -1 -1 -1 -1 -1 -1]\n",
      " [-1 -1 -1 -1 -1 -1 -1 -1 -1 -1]\n",
      " [-1 -1 -1 -1 -1 -1 -1 -1 -1 -1]\n",
      " [-1 -1 -1 -1 -1 -1 -1 -1 -1 -1]\n",
      " [-1 -1 -1 -1 -1 -1 -1 -1 -1 -1]\n",
      " [-1 -1 -1 -1 -1 -1 -1 -1 -1 -1]]\n",
      "\n",
      "\n",
      "\n",
      "1\n",
      "CPU times: user 81.2 ms, sys: 53 µs, total: 81.3 ms\n",
      "Wall time: 81.9 ms\n"
     ]
    }
   ],
   "source": [
    "%%time\n",
    "for i in range(m):\n",
    "    X1[:,0] = data[:,i]\n",
    "    model.fit(X1, y)\n",
    "    if iter_buf < size_buf:\n",
    "        tmp = model.predict(X1)\n",
    "        ar = np.array([])\n",
    "\n",
    "        for j in range (iter_buf):\n",
    "            t = Correlation (buf[0, :,j], tmp)\n",
    "            ar = np.append (ar, t)\n",
    "        #print(ar)\n",
    "        if (iter_buf == 0) or (ar.max() < min_correlation):    \n",
    "            buf_r[iter_buf] = R_rise_2(y - tmp, y, y_mean)\n",
    "            buf_numbers[0, iter_buf] = i\n",
    "            buf[0, :, iter_buf] = tmp[:]\n",
    "            iter_buf += 1\n",
    "            \n",
    "    else:\n",
    "        tmp = model.predict(X1)\n",
    "        ind = buf_r.argmin()\n",
    "        ar = np.array([])\n",
    "        for j in range (buf.shape[2]):\n",
    "            t = Correlation (buf[0, :,j], tmp)\n",
    "            ar = np.append (ar, t)\n",
    "        #print(ar)\n",
    "        if (ar.max() < min_correlation) and (buf_r[ind] < R_rise_2(y - tmp, y, y_mean)): \n",
    "            buf_r[ind] = R_rise_2(y - tmp, y, y_mean)\n",
    "            buf_numbers[0, ind] = i\n",
    "            buf[0, :, ind] = tmp[:]\n",
    "buf_numbers_1[0, :] = -2\n",
    "print(buf_numbers_1, end=\"\\n\\n\\n\\n\")\n",
    "buf_size_ar[0] = iter_buf\n",
    "print(buf_size_ar[0])"
   ]
  },
  {
   "cell_type": "code",
   "execution_count": 21,
   "metadata": {},
   "outputs": [
    {
     "name": "stdout",
     "output_type": "stream",
     "text": [
      "selection 2 from 10\n",
      "selection 3 from 10\n",
      "selection 4 from 10\n",
      "selection 5 from 10\n",
      "selection 6 from 10\n",
      "selection 7 from 10\n",
      "selection 8 from 10\n",
      "selection 9 from 10\n",
      "selection 10 from 10\n",
      "CPU times: user 725 ms, sys: 0 ns, total: 725 ms\n",
      "Wall time: 743 ms\n"
     ]
    }
   ],
   "source": [
    "%%time\n",
    "for k in range (1, num_selections):\n",
    "    iter_buf = 0\n",
    "    for i in range(buf_size_ar[k - 1]):\n",
    "        for j in range(0, m):\n",
    "            #print(data[:,i].shape)\n",
    "            X2[:, 0] = buf[k - 1, :, i]\n",
    "            X2[:, 1] = data[:, j]\n",
    "            model.fit(X2, y)\n",
    "            if iter_buf < size_buf:\n",
    "                tmp = model.predict(X2)\n",
    "                ar = np.array([])\n",
    "            \n",
    "                for j1 in range (iter_buf):\n",
    "                    t = Correlation (buf[0, :,j1], tmp)\n",
    "                    ar = np.append (ar, t)\n",
    "                #print(j, ar)\n",
    "                \n",
    "                if (iter_buf == 0) or (ar.max() < min_correlation):\n",
    "                    buf_r[iter_buf] = R_rise_2(y - tmp, y, y_mean)\n",
    "                    buf_numbers[k, iter_buf] = j\n",
    "                    #print(\"*******\",i, j)\n",
    "                    buf_numbers_1[k, iter_buf] = i\n",
    "                    buf[k, :,iter_buf] = tmp[:]\n",
    "                    iter_buf += 1\n",
    "\n",
    "            else:\n",
    "                tmp = model.predict(X2)\n",
    "                ind = buf_r.argmin()\n",
    "                ar = np.array([])\n",
    "                for j1 in range (buf.shape[2]):\n",
    "                    t = Correlation (buf[0, :,j1], tmp)\n",
    "                    ar = np.append (ar, t)\n",
    "                if (ar.max() < min_correlation) and (buf_r[ind] < R_rise_2(y - tmp, y, y_mean)):\n",
    "                    buf_r[ind] = R_rise_2(y - tmp, y, y_mean)\n",
    "                    buf_numbers[k, ind] = j\n",
    "                    buf_numbers_1[k, ind] = i\n",
    "                    buf[k, :, ind] = tmp[:]\n",
    "    buf_size_ar[k] = iter_buf\n",
    "\n",
    "    print(\"selection\", k + 1, \"from\", num_selections)"
   ]
  },
  {
   "cell_type": "code",
   "execution_count": 22,
   "metadata": {},
   "outputs": [
    {
     "data": {
      "text/plain": [
       "array([[ 0, -1, -1, -1, -1, -1, -1, -1, -1, -1],\n",
       "       [ 0, -1, -1, -1, -1, -1, -1, -1, -1, -1],\n",
       "       [ 0, -1, -1, -1, -1, -1, -1, -1, -1, -1],\n",
       "       [ 0, -1, -1, -1, -1, -1, -1, -1, -1, -1],\n",
       "       [ 0, -1, -1, -1, -1, -1, -1, -1, -1, -1],\n",
       "       [ 0, -1, -1, -1, -1, -1, -1, -1, -1, -1],\n",
       "       [ 0, -1, -1, -1, -1, -1, -1, -1, -1, -1],\n",
       "       [ 0, -1, -1, -1, -1, -1, -1, -1, -1, -1],\n",
       "       [ 0, -1, -1, -1, -1, -1, -1, -1, -1, -1],\n",
       "       [ 0, -1, -1, -1, -1, -1, -1, -1, -1, -1]])"
      ]
     },
     "execution_count": 22,
     "metadata": {},
     "output_type": "execute_result"
    }
   ],
   "source": [
    "buf_numbers"
   ]
  },
  {
   "cell_type": "code",
   "execution_count": 23,
   "metadata": {},
   "outputs": [
    {
     "data": {
      "text/plain": [
       "array([[-2, -2, -2, -2, -2, -2, -2, -2, -2, -2],\n",
       "       [ 0, -1, -1, -1, -1, -1, -1, -1, -1, -1],\n",
       "       [ 0, -1, -1, -1, -1, -1, -1, -1, -1, -1],\n",
       "       [ 0, -1, -1, -1, -1, -1, -1, -1, -1, -1],\n",
       "       [ 0, -1, -1, -1, -1, -1, -1, -1, -1, -1],\n",
       "       [ 0, -1, -1, -1, -1, -1, -1, -1, -1, -1],\n",
       "       [ 0, -1, -1, -1, -1, -1, -1, -1, -1, -1],\n",
       "       [ 0, -1, -1, -1, -1, -1, -1, -1, -1, -1],\n",
       "       [ 0, -1, -1, -1, -1, -1, -1, -1, -1, -1],\n",
       "       [ 0, -1, -1, -1, -1, -1, -1, -1, -1, -1]])"
      ]
     },
     "execution_count": 23,
     "metadata": {},
     "output_type": "execute_result"
    }
   ],
   "source": [
    "buf_numbers_1"
   ]
  },
  {
   "cell_type": "code",
   "execution_count": 24,
   "metadata": {},
   "outputs": [],
   "source": [
    "lis = []\n",
    "for i in range(buf_size_ar[num_selections - 1]):\n",
    "    lis.append([buf_numbers[num_selections - 1][i]])"
   ]
  },
  {
   "cell_type": "code",
   "execution_count": 25,
   "metadata": {},
   "outputs": [],
   "source": [
    "for i in range(num_selections - 1, 0, -1):\n",
    "    #print(i)\n",
    "    for j in range(buf_size_ar[i - 1]):\n",
    "        lis[j].append(buf_numbers[i - 1][buf_numbers_1[i,j]])\n"
   ]
  },
  {
   "cell_type": "code",
   "execution_count": 26,
   "metadata": {},
   "outputs": [
    {
     "data": {
      "text/plain": [
       "[[0, 0, 0, 0, 0, 0, 0, 0, 0, 0]]"
      ]
     },
     "execution_count": 26,
     "metadata": {},
     "output_type": "execute_result"
    }
   ],
   "source": [
    "\n",
    "lis"
   ]
  },
  {
   "cell_type": "code",
   "execution_count": 42,
   "metadata": {},
   "outputs": [
    {
     "data": {
      "text/plain": [
       "-0.6212283057764496"
      ]
     },
     "execution_count": 42,
     "metadata": {},
     "output_type": "execute_result"
    }
   ],
   "source": [
    "clf = Ridge(alpha=0.1)\n",
    "X_train, X_test, y_train, y_test = train_test_split(new_data, new_y, train_size=0.6, test_size=0.4)\n",
    "clf.fit(X_train, y_train)\n",
    "clf.score(X_test, y_test)"
   ]
  },
  {
   "cell_type": "code",
   "execution_count": 43,
   "metadata": {},
   "outputs": [
    {
     "name": "stdout",
     "output_type": "stream",
     "text": [
      "0.01651920224706771\n"
     ]
    }
   ],
   "source": [
    "for i in range(buf_size_ar[num_selections-1]):\n",
    "    clf.fit(X_train[:,np.unique(lis[i])], y_train)\n",
    "    print(clf.score(X_test[:,np.unique(lis[i])], y_test))"
   ]
  },
  {
   "cell_type": "code",
   "execution_count": 44,
   "metadata": {},
   "outputs": [],
   "source": [
    "clf_Lin = LinearRegression()\n",
    "clf_MGUA = LinearRegression()\n",
    "res_MGUA = clf_MGUA.fit(X_train[:,np.unique(lis[0])], y_train)\n",
    "res_Lin = clf_Lin.fit(X_train, y_train)"
   ]
  },
  {
   "cell_type": "code",
   "execution_count": 45,
   "metadata": {},
   "outputs": [],
   "source": [
    "predict_MGUA = clf_MGUA.predict(X_test[:,np.unique(lis[0])])"
   ]
  },
  {
   "cell_type": "code",
   "execution_count": 46,
   "metadata": {},
   "outputs": [],
   "source": [
    "predict_Lin = clf_Lin.predict(X_test)"
   ]
  },
  {
   "cell_type": "code",
   "execution_count": 48,
   "metadata": {},
   "outputs": [
    {
     "name": "stdout",
     "output_type": "stream",
     "text": [
      "МГУА -127.2542817679558 Греб.рег -123.68835603840671 Истинное значение -129.72\n",
      "МГУА -127.2542817679558 Греб.рег -120.75691499557331 Истинное значение -95.35\n",
      "МГУА -96.67937154696133 Греб.рег -128.99122537330481 Истинное значение -116.8\n",
      "МГУА -117.06264502762431 Греб.рег -154.93255237064943 Истинное значение -113.2\n",
      "МГУА -106.87100828729282 Греб.рег -91.1079190313618 Истинное значение -113.0\n",
      "МГУА -117.06264502762431 Греб.рег -89.5731902906906 Истинное значение -114.9\n",
      "МГУА -86.48773480662983 Греб.рег -99.11025200193615 Истинное значение -66.54\n",
      "МГУА -127.2542817679558 Греб.рег -73.68711191579712 Истинное значение -56.79\n",
      "МГУА -106.87100828729282 Греб.рег -100.86484237246918 Истинное значение -137.5\n",
      "МГУА -117.06264502762431 Греб.рег -110.66827240547786 Истинное значение -118.28\n",
      "МГУА -106.87100828729282 Греб.рег -80.25815148676202 Истинное значение -119.24\n",
      "МГУА -117.06264502762431 Греб.рег -110.89943110333274 Истинное значение -159.9\n",
      "МГУА -127.2542817679558 Греб.рег -155.50076871738622 Истинное значение -187.69\n",
      "МГУА -117.06264502762431 Греб.рег -128.70448224841903 Истинное значение -120.5\n",
      "МГУА -106.87100828729282 Греб.рег -126.49987849274237 Истинное значение -116.0\n",
      "МГУА -106.87100828729282 Греб.рег -69.63299771526965 Истинное значение -33.11\n",
      "МГУА -96.67937154696133 Греб.рег 14.115231150880959 Истинное значение -105.78\n",
      "МГУА -117.06264502762431 Греб.рег -124.61765258816706 Истинное значение -119.4\n",
      "МГУА -106.87100828729282 Греб.рег -100.882718487592 Истинное значение -128.54\n",
      "МГУА -106.87100828729282 Греб.рег -75.92963664775016 Истинное значение -123.81\n",
      "МГУА -117.06264502762431 Греб.рег -172.32628707607762 Истинное значение -107.6\n",
      "МГУА -117.06264502762431 Греб.рег -109.94747550442264 Истинное значение -80.4\n",
      "МГУА -96.67937154696133 Греб.рег -46.1285273792015 Истинное значение -127.8\n"
     ]
    }
   ],
   "source": [
    "for i in range(predict_Lin.shape[0]):\n",
    "    print(\"МГУА\", predict_MGUA[i], \"Греб.рег\", predict_Lin[i], \"Истинное значение\", y_test[i])"
   ]
  },
  {
   "cell_type": "code",
   "execution_count": null,
   "metadata": {},
   "outputs": [],
   "source": []
  }
 ],
 "metadata": {
  "kernelspec": {
   "display_name": "Python 3",
   "language": "python",
   "name": "python3"
  },
  "language_info": {
   "codemirror_mode": {
    "name": "ipython",
    "version": 3
   },
   "file_extension": ".py",
   "mimetype": "text/x-python",
   "name": "python",
   "nbconvert_exporter": "python",
   "pygments_lexer": "ipython3",
   "version": "3.7.3"
  }
 },
 "nbformat": 4,
 "nbformat_minor": 2
}
