{
 "cells": [
  {
   "cell_type": "code",
   "execution_count": 34,
   "metadata": {},
   "outputs": [],
   "source": [
    "import numpy as np\n",
    "from sklearn.linear_model import LinearRegression\n",
    "import io\n",
    "import pandas as pd\n",
    "import os\n",
    "from sklearn.model_selection import train_test_split\n"
   ]
  },
  {
   "cell_type": "code",
   "execution_count": 35,
   "metadata": {},
   "outputs": [],
   "source": [
    "data = np.loadtxt(\"alkan/ALKAN.BLD\")"
   ]
  },
  {
   "cell_type": "code",
   "execution_count": 36,
   "metadata": {},
   "outputs": [
    {
     "data": {
      "text/plain": [
       "array([[ 2.,  1.,  0., ...,  2.,  1.,  1.],\n",
       "       [ 2.,  0.,  2., ...,  5.,  2.,  1.],\n",
       "       [ 2.,  0.,  2., ..., 10.,  4.,  2.],\n",
       "       ...,\n",
       "       [ 6.,  0.,  0., ..., 31., 13.,  2.],\n",
       "       [ 6.,  0.,  0., ..., 32., 14.,  2.],\n",
       "       [ 6.,  0.,  0., ..., 30., 12.,  2.]])"
      ]
     },
     "execution_count": 36,
     "metadata": {},
     "output_type": "execute_result"
    }
   ],
   "source": [
    "data"
   ]
  },
  {
   "cell_type": "code",
   "execution_count": 37,
   "metadata": {},
   "outputs": [
    {
     "data": {
      "text/plain": [
       "(74, 210)"
      ]
     },
     "execution_count": 37,
     "metadata": {},
     "output_type": "execute_result"
    }
   ],
   "source": [
    "data.shape"
   ]
  },
  {
   "cell_type": "code",
   "execution_count": 38,
   "metadata": {},
   "outputs": [],
   "source": [
    "n = data.shape[0]\n",
    "m = data.shape[1]"
   ]
  },
  {
   "cell_type": "code",
   "execution_count": 39,
   "metadata": {},
   "outputs": [
    {
     "data": {
      "text/plain": [
       "(74, 210)"
      ]
     },
     "execution_count": 39,
     "metadata": {},
     "output_type": "execute_result"
    }
   ],
   "source": [
    "(n,m)"
   ]
  },
  {
   "cell_type": "code",
   "execution_count": 40,
   "metadata": {},
   "outputs": [],
   "source": [
    "l = []\n",
    "word = 'A8 '\n",
    "with open('alkan/set-str/ALKAN.SET') as file:\n",
    "    for line in file:\n",
    "        if (word in line):\n",
    "            ape = float(line.split()[1])\n",
    "            l.append(ape)"
   ]
  },
  {
   "cell_type": "code",
   "execution_count": 41,
   "metadata": {},
   "outputs": [
    {
     "data": {
      "text/plain": [
       "74"
      ]
     },
     "execution_count": 41,
     "metadata": {},
     "output_type": "execute_result"
    }
   ],
   "source": [
    "len(l)"
   ]
  },
  {
   "cell_type": "code",
   "execution_count": 42,
   "metadata": {},
   "outputs": [],
   "source": [
    "y = np.array(l)"
   ]
  },
  {
   "cell_type": "code",
   "execution_count": 43,
   "metadata": {},
   "outputs": [],
   "source": [
    "index_del = []\n",
    "y = np.array(l)"
   ]
  },
  {
   "cell_type": "code",
   "execution_count": 44,
   "metadata": {},
   "outputs": [],
   "source": [
    "for i in range(y.shape[0]):\n",
    "    if abs(y[i] - 0.0) < 1e-10:\n",
    "        index_del.append(i)"
   ]
  },
  {
   "cell_type": "code",
   "execution_count": 45,
   "metadata": {},
   "outputs": [],
   "source": [
    "new_data = np.delete(data, index_del, axis=0)\n",
    "new_y = np.delete(y, index_del, axis=0)"
   ]
  },
  {
   "cell_type": "code",
   "execution_count": 46,
   "metadata": {},
   "outputs": [],
   "source": [
    "model = LinearRegression()"
   ]
  },
  {
   "cell_type": "code",
   "execution_count": 47,
   "metadata": {},
   "outputs": [],
   "source": [
    "X_train, X_test, y_train, y_test = train_test_split(new_data, new_y, test_size=0.6, train_size=0.4)"
   ]
  },
  {
   "cell_type": "code",
   "execution_count": 48,
   "metadata": {},
   "outputs": [
    {
     "data": {
      "text/plain": [
       "LinearRegression(copy_X=True, fit_intercept=True, n_jobs=None,\n",
       "         normalize=False)"
      ]
     },
     "execution_count": 48,
     "metadata": {},
     "output_type": "execute_result"
    }
   ],
   "source": [
    "model.fit(X_train, y_train)"
   ]
  },
  {
   "cell_type": "code",
   "execution_count": 49,
   "metadata": {},
   "outputs": [
    {
     "data": {
      "text/plain": [
       "0.23527980799589598"
      ]
     },
     "execution_count": 49,
     "metadata": {},
     "output_type": "execute_result"
    }
   ],
   "source": [
    "model.score(X_test, y_test)"
   ]
  },
  {
   "cell_type": "code",
   "execution_count": 50,
   "metadata": {},
   "outputs": [],
   "source": [
    "predict = model.predict(X_test)"
   ]
  },
  {
   "cell_type": "code",
   "execution_count": 51,
   "metadata": {},
   "outputs": [
    {
     "name": "stdout",
     "output_type": "stream",
     "text": [
      "Предсказание модели = -69.25809874092761 \tИстинное значение = -56.79\n",
      "Предсказание модели = -40.42591730005779 \tИстинное значение = -121.09\n",
      "Предсказание модели = -158.74294437923058 \tИстинное значение = -138.35\n",
      "Предсказание модели = -48.88182795925644 \tИстинное значение = -9.9\n",
      "Предсказание модели = -89.42886210494413 \tИстинное значение = -121.18\n",
      "Предсказание модели = -139.5165428864811 \tИстинное значение = -119.4\n",
      "Предсказание модели = -73.52826762332302 \tИстинное значение = -113.0\n",
      "Предсказание модели = -79.59636628026516 \tИстинное значение = -99.2\n",
      "Предсказание модели = -54.83100449914039 \tИстинное значение = -16.55\n",
      "Предсказание модели = -137.671818689772 \tИстинное значение = -114.96\n",
      "Предсказание модели = -130.20926537923722 \tИстинное значение = -137.5\n",
      "Предсказание модели = -112.6348089961889 \tИстинное значение = -107.38\n",
      "Предсказание модели = -118.23935643943379 \tИстинное значение = -114.9\n",
      "Предсказание модели = -126.11753191597401 \tИстинное значение = -91.2\n",
      "Предсказание модели = -124.66588993880096 \tИстинное значение = -128.54\n",
      "Предсказание модели = -56.53934401192339 \tИстинное значение = -112.27\n",
      "Предсказание модели = -159.40019178144502 \tИстинное значение = -118.0\n",
      "Предсказание модели = -95.635672602175 \tИстинное значение = -113.2\n",
      "Предсказание модели = -154.81146384807724 \tИстинное значение = -118.6\n",
      "Предсказание модели = -197.6071244419636 \tИстинное значение = -183.27\n",
      "Предсказание модели = -49.21123655679207 \tИстинное значение = -53.52\n",
      "Предсказание модели = -125.86857726600198 \tИстинное значение = -113.38\n",
      "Предсказание модели = -113.08070481420997 \tИстинное значение = -134.46\n",
      "Предсказание модели = -132.80663879644982 \tИстинное значение = -119.1\n",
      "Предсказание модели = -123.75109413598038 \tИстинное значение = -122.2\n",
      "Предсказание модели = -113.7900747447586 \tИстинное значение = -101.2\n",
      "Предсказание модели = -115.44724470146039 \tИстинное значение = -118.28\n",
      "Предсказание модели = -104.39936074068302 \tИстинное значение = -127.8\n",
      "Предсказание модели = -114.65247674822997 \tИстинное значение = -95.35\n",
      "Предсказание модели = -31.302852524532966 \tИстинное значение = -102.12\n",
      "Предсказание модели = -158.50818905747138 \tИстинное значение = -159.6\n",
      "Предсказание модели = -91.70458796490033 \tИстинное значение = -116.0\n",
      "Предсказание модели = -99.24732689532797 \tИстинное значение = -116.8\n",
      "Предсказание модели = -141.25346988357313 \tИстинное значение = -153.67\n"
     ]
    }
   ],
   "source": [
    "for i in range(predict.shape[0]):\n",
    "    print(\"Предсказание модели =\",predict[i], \"\\tИстинное значение =\" ,y_test[i])"
   ]
  },
  {
   "cell_type": "code",
   "execution_count": 52,
   "metadata": {},
   "outputs": [],
   "source": [
    "mean_err = 0\n",
    "mean_sq_err = 0"
   ]
  },
  {
   "cell_type": "code",
   "execution_count": 53,
   "metadata": {},
   "outputs": [],
   "source": [
    "mean_err = (predict - y_test).sum() / predict.shape[0]"
   ]
  },
  {
   "cell_type": "code",
   "execution_count": 54,
   "metadata": {},
   "outputs": [],
   "source": [
    "mean_sq_err = ((predict - y_test)**2).sum() / predict.shape[0]"
   ]
  },
  {
   "cell_type": "code",
   "execution_count": 55,
   "metadata": {},
   "outputs": [
    {
     "name": "stdout",
     "output_type": "stream",
     "text": [
      "Средняя ошибка 2.529231333853254\n",
      "Среднеквадратическая ошибка 878.9045229530369\n"
     ]
    }
   ],
   "source": [
    "print(\"Средняя ошибка\", mean_err)\n",
    "print(\"Среднеквадратическая ошибка\", mean_sq_err)"
   ]
  },
  {
   "cell_type": "code",
   "execution_count": null,
   "metadata": {},
   "outputs": [],
   "source": []
  }
 ],
 "metadata": {
  "kernelspec": {
   "display_name": "Python 3",
   "language": "python",
   "name": "python3"
  },
  "language_info": {
   "codemirror_mode": {
    "name": "ipython",
    "version": 3
   },
   "file_extension": ".py",
   "mimetype": "text/x-python",
   "name": "python",
   "nbconvert_exporter": "python",
   "pygments_lexer": "ipython3",
   "version": "3.7.3"
  }
 },
 "nbformat": 4,
 "nbformat_minor": 2
}
