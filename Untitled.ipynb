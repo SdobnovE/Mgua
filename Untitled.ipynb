{
 "cells": [
  {
   "cell_type": "code",
   "execution_count": 552,
   "metadata": {},
   "outputs": [],
   "source": [
    "import numpy as np\n",
    "from sklearn.linear_model import LinearRegression\n",
    "import io\n",
    "import seaborn as sns\n",
    "import pandas as pd\n",
    "import os\n",
    "from sklearn.model_selection import train_test_split\n",
    "from sklearn.linear_model import Ridge"
   ]
  },
  {
   "cell_type": "code",
   "execution_count": 553,
   "metadata": {},
   "outputs": [],
   "source": [
    "data = np.loadtxt(\"alkan/ALKAN.BLD\")\n"
   ]
  },
  {
   "cell_type": "code",
   "execution_count": 554,
   "metadata": {},
   "outputs": [
    {
     "data": {
      "text/plain": [
       "array([[ 2.,  1.,  0., ...,  2.,  1.,  1.],\n",
       "       [ 2.,  0.,  2., ...,  5.,  2.,  1.],\n",
       "       [ 2.,  0.,  2., ..., 10.,  4.,  2.],\n",
       "       ...,\n",
       "       [ 6.,  0.,  0., ..., 31., 13.,  2.],\n",
       "       [ 6.,  0.,  0., ..., 32., 14.,  2.],\n",
       "       [ 6.,  0.,  0., ..., 30., 12.,  2.]])"
      ]
     },
     "execution_count": 554,
     "metadata": {},
     "output_type": "execute_result"
    }
   ],
   "source": [
    "data"
   ]
  },
  {
   "cell_type": "code",
   "execution_count": 555,
   "metadata": {},
   "outputs": [
    {
     "data": {
      "text/plain": [
       "(74, 210)"
      ]
     },
     "execution_count": 555,
     "metadata": {},
     "output_type": "execute_result"
    }
   ],
   "source": [
    "data.shape"
   ]
  },
  {
   "cell_type": "code",
   "execution_count": 556,
   "metadata": {},
   "outputs": [],
   "source": [
    "n = data.shape[0]\n",
    "m = data.shape[1]"
   ]
  },
  {
   "cell_type": "code",
   "execution_count": 557,
   "metadata": {},
   "outputs": [
    {
     "data": {
      "text/plain": [
       "(74, 210)"
      ]
     },
     "execution_count": 557,
     "metadata": {},
     "output_type": "execute_result"
    }
   ],
   "source": [
    "(n,m)"
   ]
  },
  {
   "cell_type": "code",
   "execution_count": 558,
   "metadata": {},
   "outputs": [],
   "source": [
    "l = []\n",
    "word = 'A1 '\n",
    "with open('alkan/set-str/ALKAN.SET') as file:\n",
    "    for line in file:\n",
    "        if (word in line):\n",
    "            ape = float(line.split()[1])\n",
    "            l.append(ape)"
   ]
  },
  {
   "cell_type": "code",
   "execution_count": 559,
   "metadata": {},
   "outputs": [
    {
     "name": "stdout",
     "output_type": "stream",
     "text": [
      "Num_features = 74\n",
      "feature 0 = -88.63\n",
      "feature 1 = -42.07\n",
      "feature 2 = -0.5\n",
      "feature 3 = -11.73\n",
      "feature 4 = 36.074\n",
      "feature 5 = 27.852\n",
      "feature 6 = 9.503\n",
      "feature 7 = 68.74\n",
      "feature 8 = 60.271\n",
      "feature 9 = 63.282\n"
     ]
    }
   ],
   "source": [
    "print(\"Num_features =\", len(l))\n",
    "for i in range(min(len(l), 10)):\n",
    "    print(\"feature\", i,\"=\", l[i])"
   ]
  },
  {
   "cell_type": "code",
   "execution_count": 560,
   "metadata": {},
   "outputs": [
    {
     "data": {
      "text/plain": [
       "(74,)"
      ]
     },
     "execution_count": 560,
     "metadata": {},
     "output_type": "execute_result"
    }
   ],
   "source": [
    "y = np.array(l)\n",
    "y.shape"
   ]
  },
  {
   "cell_type": "code",
   "execution_count": 561,
   "metadata": {},
   "outputs": [
    {
     "data": {
      "text/plain": [
       "array([-88.63 , -42.07 ,  -0.5  , -11.73 ,  36.074,  27.852,   9.503,\n",
       "        68.74 ,  60.271,  63.282,  49.741,  57.988,  98.427,  90.052,\n",
       "        91.85 ,  93.475,  79.197,  89.784,  80.5  ,  86.064,  80.882,\n",
       "       125.665, 117.647, 118.925, 117.709, 118.534, 106.84 , 115.607,\n",
       "       109.429, 109.103, 111.969, 117.725, 115.65 , 118.259, 109.841,\n",
       "        99.238, 114.76 , 113.467, 106.47 , 150.798, 143.26 , 144.18 ,\n",
       "       142.48 , 143.   , 141.2  , 132.69 , 140.5  , 133.5  , 136.   ,\n",
       "       135.21 , 137.3  , 140.6  , 136.   , 135.2  , 138.   , 133.8  ,\n",
       "       140.6  , 140.4  , 133.6  , 126.54 , 124.084, 137.68 , 139.   ,\n",
       "       131.34 , 130.648, 140.46 , 146.168, 133.83 , 142.   , 136.73 ,\n",
       "       140.274, 133.016, 122.284, 141.551])"
      ]
     },
     "execution_count": 561,
     "metadata": {},
     "output_type": "execute_result"
    }
   ],
   "source": [
    "y"
   ]
  },
  {
   "cell_type": "code",
   "execution_count": 562,
   "metadata": {},
   "outputs": [],
   "source": [
    "def R_rise_2 (Eps, y, y_mean):\n",
    "    result1 = np.sum(Eps**2)\n",
    "    result2 = np.sum((y-y.mean())**2)\n",
    "    return 1 - result1 / result2\n",
    "\n",
    "\n",
    "def Correlation(X, Y):\n",
    "    X_mean = X.sum() / X.shape[0]\n",
    "    Y_mean = Y.sum() / Y.shape[0]\n",
    "    res = ((X) * (Y)).sum()\n",
    "    res1 = (((X) ** 2)) \n",
    "    res2 = (((Y) ** 2)) \n",
    "    \n",
    "    return  res / (((res1.sum() * res2.sum())) ** 0.5)"
   ]
  },
  {
   "cell_type": "code",
   "execution_count": 583,
   "metadata": {},
   "outputs": [],
   "source": [
    "size_buf = 10\n",
    "num_selections = 10\n",
    "min_correlation = 0.93\n",
    "#100\n",
    "#15"
   ]
  },
  {
   "cell_type": "code",
   "execution_count": 584,
   "metadata": {},
   "outputs": [],
   "source": [
    "model = Ridge(alpha=0.3)"
   ]
  },
  {
   "cell_type": "code",
   "execution_count": 585,
   "metadata": {},
   "outputs": [
    {
     "data": {
      "text/plain": [
       "array([0.09285714, 0.1907381 , 0.33778095, 0.31322381, 0.53822857,\n",
       "       0.50626667, 0.46634762, 0.79669048, 0.74421905, 0.74644286,\n",
       "       0.7040619 , 0.69749048, 1.11633333, 1.06962381, 1.06011905,\n",
       "       1.02632381, 0.99708095, 0.99303333, 1.00302857, 0.9837381 ,\n",
       "       0.93640952, 1.494     , 1.42669524, 1.41860952, 1.43021905,\n",
       "       1.40549524, 1.36054762, 1.37269524, 1.3561    , 1.37696667,\n",
       "       1.35222857, 1.3351619 , 1.32382381, 1.3034619 , 1.2579381 ,\n",
       "       1.27928095, 1.27077619, 1.29133333, 1.18765238, 1.95123333,\n",
       "       1.87832857, 1.85914286, 1.87329524, 1.82781905, 1.83665714,\n",
       "       1.78150476, 1.79542857, 1.79074286, 1.78900476, 1.79551905,\n",
       "       1.7769    , 1.77144762, 1.76990952, 1.77332857, 1.76851429,\n",
       "       1.76265714, 1.73765238, 1.7309    , 1.70322857, 1.6973619 ,\n",
       "       1.72905238, 1.70461429, 1.6983381 , 1.73022857, 1.69916667,\n",
       "       1.66721429, 1.67419048, 1.63922857, 1.64113333, 1.67244286,\n",
       "       1.5761619 , 1.60750476, 1.60711429, 1.60879524])"
      ]
     },
     "execution_count": 585,
     "metadata": {},
     "output_type": "execute_result"
    }
   ],
   "source": [
    "y_mean = data.sum(axis = 1)\n",
    "y_mean = y_mean / m\n",
    "y_mean"
   ]
  },
  {
   "cell_type": "code",
   "execution_count": 586,
   "metadata": {},
   "outputs": [
    {
     "data": {
      "text/plain": [
       "(10, 74, 10)"
      ]
     },
     "execution_count": 586,
     "metadata": {},
     "output_type": "execute_result"
    }
   ],
   "source": [
    "buf_r = np.array([0.0 for i in range(size_buf)])\n",
    "buf_size_ar = np.array([0 for i in range(num_selections)])\n",
    "iter_buf = 0\n",
    "\n",
    "buf_numbers = np.array([[-1 for i in range(size_buf)] for k in range(num_selections)])\n",
    "buf_numbers_1 = np.array([[-1 for i in range(size_buf)] for k in range(num_selections)])\n",
    "\n",
    "buf = np.array([[[float(i) for i in range(size_buf)] for j in range(n)] for k in range(num_selections)])\n",
    "\n",
    "X1 = np.array([[float(i) for i in range(1)] for j in range(n)])\n",
    "X2 = np.array([[float(i) for i in range(2)] for j in range(n)])\n",
    "buf.shape"
   ]
  },
  {
   "cell_type": "code",
   "execution_count": 587,
   "metadata": {},
   "outputs": [
    {
     "name": "stdout",
     "output_type": "stream",
     "text": [
      "[[-2 -2 -2 -2 -2 -2 -2 -2 -2 -2]\n",
      " [-1 -1 -1 -1 -1 -1 -1 -1 -1 -1]\n",
      " [-1 -1 -1 -1 -1 -1 -1 -1 -1 -1]\n",
      " [-1 -1 -1 -1 -1 -1 -1 -1 -1 -1]\n",
      " [-1 -1 -1 -1 -1 -1 -1 -1 -1 -1]\n",
      " [-1 -1 -1 -1 -1 -1 -1 -1 -1 -1]\n",
      " [-1 -1 -1 -1 -1 -1 -1 -1 -1 -1]\n",
      " [-1 -1 -1 -1 -1 -1 -1 -1 -1 -1]\n",
      " [-1 -1 -1 -1 -1 -1 -1 -1 -1 -1]\n",
      " [-1 -1 -1 -1 -1 -1 -1 -1 -1 -1]]\n",
      "\n",
      "\n",
      "\n",
      "2\n",
      "CPU times: user 96.9 ms, sys: 0 ns, total: 96.9 ms\n",
      "Wall time: 95 ms\n"
     ]
    }
   ],
   "source": [
    "%%time\n",
    "for i in range(m):\n",
    "    X1[:,0] = data[:,i]\n",
    "    model.fit(X1, y)\n",
    "    if iter_buf < size_buf:\n",
    "        tmp = model.predict(X1)\n",
    "        ar = np.array([])\n",
    "\n",
    "        for j in range (iter_buf):\n",
    "            t = Correlation (buf[0, :,j], tmp)\n",
    "            ar = np.append (ar, t)\n",
    "        #print(ar)\n",
    "        if (iter_buf == 0) or (ar.max() < min_correlation):    \n",
    "            buf_r[iter_buf] = R_rise_2(y - tmp, y, y_mean)\n",
    "            buf_numbers[0, iter_buf] = i\n",
    "            buf[0, :, iter_buf] = tmp[:]\n",
    "            iter_buf += 1\n",
    "            \n",
    "    else:\n",
    "        tmp = model.predict(X1)\n",
    "        ind = buf_r.argmin()\n",
    "        ar = np.array([])\n",
    "        for j in range (buf.shape[2]):\n",
    "            t = Correlation (buf[0, :,j], tmp)\n",
    "            ar = np.append (ar, t)\n",
    "        #print(ar)\n",
    "        if (ar.max() < min_correlation) and (buf_r[ind] < R_rise_2(y - tmp, y, y_mean)): \n",
    "            buf_r[ind] = R_rise_2(y - tmp, y, y_mean)\n",
    "            buf_numbers[0, ind] = i\n",
    "            buf[0, :, ind] = tmp[:]\n",
    "buf_numbers_1[0, :] = -2\n",
    "print(buf_numbers_1, end=\"\\n\\n\\n\\n\")\n",
    "buf_size_ar[0] = iter_buf\n",
    "print(buf_size_ar[0])"
   ]
  },
  {
   "cell_type": "code",
   "execution_count": 588,
   "metadata": {},
   "outputs": [
    {
     "name": "stdout",
     "output_type": "stream",
     "text": [
      "selection 2 from 10\n",
      "selection 3 from 10\n",
      "selection 4 from 10\n",
      "selection 5 from 10\n",
      "selection 6 from 10\n",
      "selection 7 from 10\n",
      "selection 8 from 10\n",
      "selection 9 from 10\n",
      "selection 10 from 10\n",
      "CPU times: user 1.56 s, sys: 0 ns, total: 1.56 s\n",
      "Wall time: 1.55 s\n"
     ]
    }
   ],
   "source": [
    "%%time\n",
    "for k in range (1, num_selections):\n",
    "    iter_buf = 0\n",
    "    for i in range(buf_size_ar[k - 1]):\n",
    "        for j in range(0, m):\n",
    "            #print(data[:,i].shape)\n",
    "            X2[:, 0] = buf[k - 1, :, i]\n",
    "            X2[:, 1] = data[:, j]\n",
    "            model.fit(X2, y)\n",
    "            if iter_buf < size_buf:\n",
    "                tmp = model.predict(X2)\n",
    "                ar = np.array([])\n",
    "            \n",
    "                for j1 in range (iter_buf):\n",
    "                    t = Correlation (buf[0, :,j1], tmp)\n",
    "                    ar = np.append (ar, t)\n",
    "                #print(j, ar)\n",
    "                \n",
    "                if (iter_buf == 0) or (ar.max() < min_correlation):\n",
    "                    buf_r[iter_buf] = R_rise_2(y - tmp, y, y_mean)\n",
    "                    buf_numbers[k, iter_buf] = j\n",
    "                    #print(\"*******\",i, j)\n",
    "                    buf_numbers_1[k, iter_buf] = i\n",
    "                    buf[k, :,iter_buf] = tmp[:]\n",
    "                    iter_buf += 1\n",
    "\n",
    "            else:\n",
    "                tmp = model.predict(X2)\n",
    "                ind = buf_r.argmin()\n",
    "                ar = np.array([])\n",
    "                for j1 in range (buf.shape[2]):\n",
    "                    t = Correlation (buf[0, :,j1], tmp)\n",
    "                    ar = np.append (ar, t)\n",
    "                if (ar.max() < min_correlation) and (buf_r[ind] < R_rise_2(y - tmp, y, y_mean)):\n",
    "                    buf_r[ind] = R_rise_2(y - tmp, y, y_mean)\n",
    "                    buf_numbers[k, ind] = j\n",
    "                    buf_numbers_1[k, ind] = i\n",
    "                    buf[k, :, ind] = tmp[:]\n",
    "    buf_size_ar[k] = iter_buf\n",
    "\n",
    "    print(\"selection\", k + 1, \"from\", num_selections)"
   ]
  },
  {
   "cell_type": "code",
   "execution_count": 589,
   "metadata": {},
   "outputs": [
    {
     "data": {
      "text/plain": [
       "array([[  0, 201,  -1,  -1,  -1,  -1,  -1,  -1,  -1,  -1],\n",
       "       [  0,   1,  -1,  -1,  -1,  -1,  -1,  -1,  -1,  -1],\n",
       "       [  0,   1,  -1,  -1,  -1,  -1,  -1,  -1,  -1,  -1],\n",
       "       [  0,   1,  -1,  -1,  -1,  -1,  -1,  -1,  -1,  -1],\n",
       "       [  0,   1,  -1,  -1,  -1,  -1,  -1,  -1,  -1,  -1],\n",
       "       [  0,   1,  -1,  -1,  -1,  -1,  -1,  -1,  -1,  -1],\n",
       "       [  0,   1,  -1,  -1,  -1,  -1,  -1,  -1,  -1,  -1],\n",
       "       [  0,   1,  -1,  -1,  -1,  -1,  -1,  -1,  -1,  -1],\n",
       "       [  0,   1,  -1,  -1,  -1,  -1,  -1,  -1,  -1,  -1],\n",
       "       [  0,   1,  -1,  -1,  -1,  -1,  -1,  -1,  -1,  -1]])"
      ]
     },
     "execution_count": 589,
     "metadata": {},
     "output_type": "execute_result"
    }
   ],
   "source": [
    "buf_numbers"
   ]
  },
  {
   "cell_type": "code",
   "execution_count": 590,
   "metadata": {},
   "outputs": [
    {
     "data": {
      "text/plain": [
       "array([[-2, -2, -2, -2, -2, -2, -2, -2, -2, -2],\n",
       "       [ 0,  1, -1, -1, -1, -1, -1, -1, -1, -1],\n",
       "       [ 0,  1, -1, -1, -1, -1, -1, -1, -1, -1],\n",
       "       [ 0,  1, -1, -1, -1, -1, -1, -1, -1, -1],\n",
       "       [ 0,  1, -1, -1, -1, -1, -1, -1, -1, -1],\n",
       "       [ 0,  1, -1, -1, -1, -1, -1, -1, -1, -1],\n",
       "       [ 0,  1, -1, -1, -1, -1, -1, -1, -1, -1],\n",
       "       [ 0,  1, -1, -1, -1, -1, -1, -1, -1, -1],\n",
       "       [ 0,  1, -1, -1, -1, -1, -1, -1, -1, -1],\n",
       "       [ 0,  1, -1, -1, -1, -1, -1, -1, -1, -1]])"
      ]
     },
     "execution_count": 590,
     "metadata": {},
     "output_type": "execute_result"
    }
   ],
   "source": [
    "buf_numbers_1"
   ]
  },
  {
   "cell_type": "code",
   "execution_count": 591,
   "metadata": {},
   "outputs": [
    {
     "data": {
      "text/plain": [
       "array([2, 2, 2, 2, 2, 2, 2, 2, 2, 2])"
      ]
     },
     "execution_count": 591,
     "metadata": {},
     "output_type": "execute_result"
    }
   ],
   "source": [
    "buf_size_ar"
   ]
  },
  {
   "cell_type": "code",
   "execution_count": 592,
   "metadata": {},
   "outputs": [],
   "source": [
    "lis = []\n",
    "for i in range(buf_size_ar[num_selections - 1]):\n",
    "    lis.append([buf_numbers[num_selections - 1][i]])"
   ]
  },
  {
   "cell_type": "code",
   "execution_count": 593,
   "metadata": {},
   "outputs": [],
   "source": [
    "for i in range(num_selections - 1, 0, -1):\n",
    "    #print(i)\n",
    "    for j in range(buf_size_ar[i - 1]):\n",
    "        lis[j].append(buf_numbers[i - 1][buf_numbers_1[i,j]])\n",
    "\n"
   ]
  },
  {
   "cell_type": "code",
   "execution_count": 594,
   "metadata": {},
   "outputs": [
    {
     "data": {
      "text/plain": [
       "[[0, 0, 0, 0, 0, 0, 0, 0, 0, 0], [1, 1, 1, 1, 1, 1, 1, 1, 1, 201]]"
      ]
     },
     "execution_count": 594,
     "metadata": {},
     "output_type": "execute_result"
    }
   ],
   "source": [
    "\n",
    "lis"
   ]
  },
  {
   "cell_type": "code",
   "execution_count": 595,
   "metadata": {},
   "outputs": [
    {
     "name": "stdout",
     "output_type": "stream",
     "text": [
      "[0, 0, 0, 0, 0, 0, 0, 0, 0, 0]\n",
      "[1, 1, 1, 1, 1, 1, 1, 1, 1, 201]\n"
     ]
    }
   ],
   "source": [
    "for i in range(buf_size_ar[num_selections-1]):\n",
    "    lis[i].sort()\n",
    "    print(lis[i])"
   ]
  },
  {
   "cell_type": "code",
   "execution_count": 599,
   "metadata": {},
   "outputs": [
    {
     "data": {
      "text/plain": [
       "0.9934490510033129"
      ]
     },
     "execution_count": 599,
     "metadata": {},
     "output_type": "execute_result"
    }
   ],
   "source": [
    "clf = Ridge(alpha=0.1)\n",
    "X_train, X_test, y_train, y_test = train_test_split(data, y, train_size=0.6, test_size=0.4)\n",
    "clf.fit(X_train, y_train)\n",
    "clf.score(X_test, y_test)"
   ]
  },
  {
   "cell_type": "code",
   "execution_count": 600,
   "metadata": {},
   "outputs": [
    {
     "name": "stdout",
     "output_type": "stream",
     "text": [
      "0.18981900523179596\n",
      "0.8066058052017091\n"
     ]
    }
   ],
   "source": [
    "for i in range(buf_size_ar[num_selections-1]):\n",
    "    clf.fit(X_train[:,np.unique(lis[i])], y_train)\n",
    "    print(clf.score(X_test[:,np.unique(lis[i])], y_test))"
   ]
  },
  {
   "cell_type": "code",
   "execution_count": 601,
   "metadata": {},
   "outputs": [],
   "source": [
    "clf = LinearRegression ()\n",
    "#print(y.shape)\n",
    "def cross_validation(clf, data, y, batch_size=2):\n",
    "    lis = []\n",
    "    #print(y.shape)\n",
    "    for i in range (data.shape[0] - batch_size + 1):\n",
    "        d = data[i:i + batch_size,:]\n",
    "        #print(d.shape)\n",
    "        y_1 = y[i:i + batch_size]\n",
    "        #print(y_1.shape)\n",
    "        clf.fit (data, y)\n",
    "        clf.score(d.reshape((batch_size,-1)), y_1)\n",
    "        lis.append(R_rise_2(clf.predict(d.reshape((batch_size,-1))) - y_1,y_1, y_1.mean()))\n",
    "    return np.array(lis)\n",
    "#print(data)\n",
    "a1 = cross_validation (clf, data, y, batch_size=3)"
   ]
  },
  {
   "cell_type": "code",
   "execution_count": 604,
   "metadata": {},
   "outputs": [],
   "source": [
    "a2 = cross_validation (clf, data[:,np.unique(lis[1])], y, batch_size=3)"
   ]
  },
  {
   "cell_type": "code",
   "execution_count": 605,
   "metadata": {},
   "outputs": [
    {
     "name": "stdout",
     "output_type": "stream",
     "text": [
      "(72,) (72,)\n",
      "1.0 0.10574262925793898\n",
      "0.999999982441689 -3.8555766584845577\n",
      "0.9999999870047951 -0.7243825685515723\n",
      "0.9999996026457371 -0.13545815112404203\n",
      "0.9999986045758347 -1.1850645345922848\n",
      "0.9999997191959492 0.6732350169670039\n",
      "0.9999994881526016 0.796610847236973\n",
      "0.9999263300721101 -1.4151827704490256\n",
      "0.9999664265691467 0.4904246347144212\n",
      "0.99996955495195 0.8777248689788978\n",
      "0.9999991478669767 0.9997998440013599\n",
      "0.9999994628144927 0.983107793058311\n",
      "0.9999494715643344 0.450918345712483\n",
      "0.9995780880768459 -4.723185066530219\n",
      "0.9999757505077244 0.32092158733947784\n",
      "0.9999907994624377 -0.2811302107912137\n",
      "0.9999922596255866 -2.1115458027107956\n",
      "0.9999603525555847 -5.489890371569842\n",
      "0.9998994870944388 -20.8963241049013\n",
      "0.9999983943434444 0.5170261067645869\n",
      "0.9999998147540836 0.44157418734115395\n",
      "0.9999987881241926 -11.004149578968475\n",
      "0.9998323681714408 -206.09159142838325\n",
      "0.99958758812935 -40.89280036696531\n",
      "0.9999967968215813 0.7583671157684576\n",
      "0.9999979737831878 0.10160758522698632\n",
      "0.9999983955089715 -0.6034568582985167\n",
      "0.999997576000478 -8.001319296657021\n",
      "0.9995813318236295 -84.1087325615039\n",
      "0.9999438881445487 -14.533503342095301\n",
      "0.9998598732493423 -24.19829304845931\n",
      "0.9998012471114459 -106.5426628637272\n",
      "0.9999789857326594 -18.159867606886817\n",
      "0.9999969033832031 -2.8808642122182646\n",
      "0.9999966301207985 -7.8694915739638756\n",
      "0.9999964364179242 -4.141419644786879\n",
      "0.999986711466196 -41.636825884383306\n",
      "0.9999997438429155 -0.9831859601537822\n",
      "1.0 -1.5752486288943497\n",
      "1.0 -63.903292709596656\n",
      "1.0 -859.0298096692474\n",
      "0.9999925901966282 -542.0151499159026\n",
      "0.999918214242065 -451.7796989557978\n",
      "0.9999976857149663 -10.454901484840226\n",
      "0.9999971072052103 -7.168730196923901\n",
      "1.0 -8.48318980109146\n",
      "1.0 -10.824551342094408\n",
      "1.0 -231.53263553466334\n",
      "1.0 -269.879448018773\n",
      "1.0 -36.89962044934336\n",
      "1.0 -4.977231302119867\n",
      "1.0 -3.762704730728962\n",
      "0.9999984839101758 -14.815435995406935\n",
      "0.9999977033661589 -28.820134797125817\n",
      "0.9999778447792735 -10.97659345659543\n",
      "0.9999814457360036 -7.8317654509736645\n",
      "0.9999829679235323 -7.390731831566427\n",
      "0.9999995808531298 -1.6397264960201707\n",
      "1.0 -5.7469987307834725\n",
      "1.0 -4.487419082710936\n",
      "1.0 -5.017508484979317\n",
      "1.0 -21.257236550907436\n",
      "1.0 -7.129144238406713\n",
      "1.0 -16.067794489206648\n",
      "0.9999999990030697 -7.560349544765238\n",
      "0.9999993873545915 -15.254301861902515\n",
      "0.9999986526386833 -8.471748119676288\n",
      "0.9999884298101553 -19.789913395546012\n",
      "0.999975730519703 -161.29554018310503\n",
      "0.9999889556067288 -89.81488650489297\n",
      "1.0 -13.983033938794659\n",
      "1.0 -8.15016756918209\n"
     ]
    }
   ],
   "source": [
    "print(a1.shape, a2.shape)\n",
    "for i in range(a2.shape[0]):\n",
    "    print(a1[i], a2[i])\n"
   ]
  },
  {
   "cell_type": "code",
   "execution_count": 581,
   "metadata": {},
   "outputs": [
    {
     "data": {
      "text/plain": [
       "46"
      ]
     },
     "execution_count": 581,
     "metadata": {},
     "output_type": "execute_result"
    }
   ],
   "source": [
    "74-28"
   ]
  },
  {
   "cell_type": "code",
   "execution_count": 582,
   "metadata": {},
   "outputs": [
    {
     "name": "stdout",
     "output_type": "stream",
     "text": [
      "1.0 -0.03747876522572824\n",
      "0.999999982441689 -2.432310417169552\n",
      "0.9999999870047951 -0.16552631258120054\n",
      "0.9999996026457371 0.6306669212878881\n",
      "0.9999986045758347 -4.00416970663412\n",
      "0.9999997191959492 0.11587981525622615\n",
      "0.9999994881526016 0.17722208387883465\n",
      "0.9999263300721101 -7.716671869201969\n",
      "0.9999664265691467 -3.3481781008319826\n",
      "0.99996955495195 -4.2992974125897\n",
      "0.9999991478669767 0.5668449454682112\n",
      "0.9999994628144927 0.5746673615940703\n",
      "0.9999494715643344 -7.578169150120047\n",
      "0.9995780880768459 -37.21519264965756\n",
      "0.9999757505077244 -1.6242348733581262\n",
      "0.9999907994624377 -2.453511444627399\n",
      "0.9999922596255866 -21.241867035840823\n",
      "0.9999603525555847 -27.862323640902105\n",
      "0.9998994870944388 -76.2818479639727\n",
      "0.9999983943434444 0.6001794107798587\n",
      "0.9999998147540836 0.44235809849670704\n",
      "0.9999987881241926 -8.612313579108084\n",
      "0.9998323681714408 -292.6209978087197\n",
      "0.99958758812935 -193.67869013697282\n",
      "0.9999967968215813 -2.1102791052060397\n",
      "0.9999979737831878 -3.319329019723555\n",
      "0.9999983955089715 -30.10538471210115\n",
      "0.999997576000478 -86.40617625080579\n",
      "0.9995813318236295 -453.5347717479207\n",
      "0.9999438881445487 -33.81194161883643\n",
      "0.9998598732493423 -4.4539050399307385\n",
      "0.9998012471114459 -38.843095843728875\n",
      "0.9999789857326594 -14.058668440706496\n",
      "0.9999969033832031 -2.4495947963647\n",
      "0.9999966301207985 -3.7781746493459556\n",
      "0.9999964364179242 -1.1706815886717252\n",
      "0.999986711466196 -58.31874617248681\n",
      "0.9999997438429155 -1.1662038381388578\n",
      "1.0 -1.1523553611206045\n",
      "1.0 -9.260158593843505\n",
      "1.0 -168.79968104124683\n",
      "0.9999925901966282 -65.35544995900476\n",
      "0.999918214242065 -22.099094955107343\n",
      "0.9999976857149663 -2.481450372105518\n",
      "0.9999971072052103 -5.594492709686585\n",
      "1.0 -29.133258607708928\n",
      "1.0 -73.2590681831214\n",
      "1.0 -931.5705652766125\n",
      "1.0 -1004.2261218404766\n",
      "1.0 -86.2999506196793\n",
      "1.0 -60.873636400956286\n",
      "1.0 -40.27727158085346\n",
      "0.9999984839101758 -164.0487292426546\n",
      "0.9999977033661589 -62.156221665849934\n",
      "0.9999778447792735 -24.762398066845964\n",
      "0.9999814457360036 -19.24052034275999\n",
      "0.9999829679235323 -18.85806685568585\n",
      "0.9999995808531298 -5.427676498738373\n",
      "1.0 -13.05286671802102\n",
      "1.0 -0.8480888335433339\n",
      "1.0 -0.6145016442953493\n",
      "1.0 -33.08186470213583\n",
      "1.0 -32.943092301050264\n",
      "1.0 -24.78409495056054\n",
      "0.9999999990030697 -5.2606282824783595\n",
      "0.9999993873545915 -14.92873990918704\n",
      "0.9999986526386833 -12.571505623761398\n",
      "0.9999884298101553 -24.6247954259493\n",
      "0.999975730519703 -78.77123089110086\n",
      "0.9999889556067288 -57.401642862891194\n",
      "1.0 -8.762332437879444\n",
      "1.0 -2.218241117624586\n"
     ]
    }
   ],
   "source": [
    "for i in range(a1.shape[0]):\n",
    "    print(a1[i], a2[i])"
   ]
  },
  {
   "cell_type": "code",
   "execution_count": null,
   "metadata": {},
   "outputs": [],
   "source": []
  },
  {
   "cell_type": "code",
   "execution_count": null,
   "metadata": {},
   "outputs": [],
   "source": []
  },
  {
   "cell_type": "code",
   "execution_count": null,
   "metadata": {},
   "outputs": [],
   "source": []
  },
  {
   "cell_type": "code",
   "execution_count": null,
   "metadata": {},
   "outputs": [],
   "source": []
  },
  {
   "cell_type": "code",
   "execution_count": null,
   "metadata": {},
   "outputs": [],
   "source": []
  }
 ],
 "metadata": {
  "kernelspec": {
   "display_name": "Python 3",
   "language": "python",
   "name": "python3"
  },
  "language_info": {
   "codemirror_mode": {
    "name": "ipython",
    "version": 3
   },
   "file_extension": ".py",
   "mimetype": "text/x-python",
   "name": "python",
   "nbconvert_exporter": "python",
   "pygments_lexer": "ipython3",
   "version": "3.7.3"
  }
 },
 "nbformat": 4,
 "nbformat_minor": 2
}
